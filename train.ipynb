{
 "cells": [
  {
   "cell_type": "markdown",
   "id": "42d4ac1c",
   "metadata": {},
   "source": [
    "**INIT PACKAGES**"
   ]
  },
  {
   "cell_type": "code",
   "execution_count": 8,
   "id": "2613c182",
   "metadata": {},
   "outputs": [],
   "source": [
    "from ultralytics import YOLO\n",
    "import cv2\n",
    "from paddleocr import PaddleOCR\n",
    "import re"
   ]
  },
  {
   "cell_type": "markdown",
   "id": "cd742146",
   "metadata": {},
   "source": [
    "**TRAIN MODEL**"
   ]
  },
  {
   "cell_type": "code",
   "execution_count": 20,
   "id": "b7ce676e",
   "metadata": {},
   "outputs": [],
   "source": [
    "model = YOLO(\"yolo12n.pt\")"
   ]
  },
  {
   "cell_type": "code",
   "execution_count": 21,
   "id": "d3723522",
   "metadata": {},
   "outputs": [
    {
     "name": "stdout",
     "output_type": "stream",
     "text": [
      "New https://pypi.org/project/ultralytics/8.3.109 available  Update with 'pip install -U ultralytics'\n",
      "Ultralytics 8.3.107  Python-3.9.21 torch-2.8.0.dev20250410+cu128 CUDA:0 (NVIDIA GeForce RTX 5070, 12227MiB)\n",
      "\u001b[34m\u001b[1mengine\\trainer: \u001b[0mtask=detect, mode=train, model=yolo12n.pt, data=C:/Jobs/ANPR/TrainingPt3/dataset/data.yaml, epochs=100, time=None, patience=100, batch=16, imgsz=640, save=True, save_period=-1, cache=False, device=None, workers=8, project=None, name=train3, exist_ok=False, pretrained=True, optimizer=auto, verbose=True, seed=0, deterministic=True, single_cls=False, rect=False, cos_lr=False, close_mosaic=10, resume=False, amp=True, fraction=1.0, profile=False, freeze=None, multi_scale=False, overlap_mask=True, mask_ratio=4, dropout=0.0, val=True, split=val, save_json=False, conf=None, iou=0.7, max_det=300, half=False, dnn=False, plots=True, source=None, vid_stride=1, stream_buffer=False, visualize=False, augment=False, agnostic_nms=False, classes=None, retina_masks=False, embed=None, show=False, save_frames=False, save_txt=False, save_conf=False, save_crop=False, show_labels=True, show_conf=True, show_boxes=True, line_width=None, format=torchscript, keras=False, optimize=False, int8=False, dynamic=False, simplify=True, opset=None, workspace=None, nms=False, lr0=0.01, lrf=0.01, momentum=0.937, weight_decay=0.0005, warmup_epochs=3.0, warmup_momentum=0.8, warmup_bias_lr=0.1, box=7.5, cls=0.5, dfl=1.5, pose=12.0, kobj=1.0, nbs=64, hsv_h=0.015, hsv_s=0.7, hsv_v=0.4, degrees=0.0, translate=0.1, scale=0.5, shear=0.0, perspective=0.0, flipud=0.0, fliplr=0.5, bgr=0.0, mosaic=1.0, mixup=0.0, copy_paste=0.0, copy_paste_mode=flip, auto_augment=randaugment, erasing=0.4, crop_fraction=1.0, cfg=None, tracker=botsort.yaml, save_dir=runs\\detect\\train3\n",
      "Overriding model.yaml nc=80 with nc=2\n",
      "\n",
      "                   from  n    params  module                                       arguments                     \n",
      "  0                  -1  1       464  ultralytics.nn.modules.conv.Conv             [3, 16, 3, 2]                 \n",
      "  1                  -1  1      4672  ultralytics.nn.modules.conv.Conv             [16, 32, 3, 2]                \n",
      "  2                  -1  1      6640  ultralytics.nn.modules.block.C3k2            [32, 64, 1, False, 0.25]      \n",
      "  3                  -1  1     36992  ultralytics.nn.modules.conv.Conv             [64, 64, 3, 2]                \n",
      "  4                  -1  1     26080  ultralytics.nn.modules.block.C3k2            [64, 128, 1, False, 0.25]     \n",
      "  5                  -1  1    147712  ultralytics.nn.modules.conv.Conv             [128, 128, 3, 2]              \n",
      "  6                  -1  2    180864  ultralytics.nn.modules.block.A2C2f           [128, 128, 2, True, 4]        \n",
      "  7                  -1  1    295424  ultralytics.nn.modules.conv.Conv             [128, 256, 3, 2]              \n",
      "  8                  -1  2    689408  ultralytics.nn.modules.block.A2C2f           [256, 256, 2, True, 1]        \n",
      "  9                  -1  1         0  torch.nn.modules.upsampling.Upsample         [None, 2, 'nearest']          \n",
      " 10             [-1, 6]  1         0  ultralytics.nn.modules.conv.Concat           [1]                           \n",
      " 11                  -1  1     86912  ultralytics.nn.modules.block.A2C2f           [384, 128, 1, False, -1]      \n",
      " 12                  -1  1         0  torch.nn.modules.upsampling.Upsample         [None, 2, 'nearest']          \n",
      " 13             [-1, 4]  1         0  ultralytics.nn.modules.conv.Concat           [1]                           \n",
      " 14                  -1  1     24000  ultralytics.nn.modules.block.A2C2f           [256, 64, 1, False, -1]       \n",
      " 15                  -1  1     36992  ultralytics.nn.modules.conv.Conv             [64, 64, 3, 2]                \n",
      " 16            [-1, 11]  1         0  ultralytics.nn.modules.conv.Concat           [1]                           \n",
      " 17                  -1  1     74624  ultralytics.nn.modules.block.A2C2f           [192, 128, 1, False, -1]      \n",
      " 18                  -1  1    147712  ultralytics.nn.modules.conv.Conv             [128, 128, 3, 2]              \n",
      " 19             [-1, 8]  1         0  ultralytics.nn.modules.conv.Concat           [1]                           \n",
      " 20                  -1  1    378880  ultralytics.nn.modules.block.C3k2            [384, 256, 1, True]           \n",
      " 21        [14, 17, 20]  1    431062  ultralytics.nn.modules.head.Detect           [2, [64, 128, 256]]           \n",
      "YOLOv12n summary: 272 layers, 2,568,438 parameters, 2,568,422 gradients, 6.5 GFLOPs\n",
      "\n",
      "Transferred 640/691 items from pretrained weights\n",
      "Freezing layer 'model.21.dfl.conv.weight'\n",
      "\u001b[34m\u001b[1mAMP: \u001b[0mrunning Automatic Mixed Precision (AMP) checks...\n",
      "\u001b[34m\u001b[1mAMP: \u001b[0mchecks passed \n"
     ]
    },
    {
     "name": "stderr",
     "output_type": "stream",
     "text": [
      "\u001b[34m\u001b[1mtrain: \u001b[0mScanning C:\\Jobs\\ANPR\\TrainingPt3\\dataset\\train\\labels.cache... 579 images, 2 backgrounds, 0 corrupt: 100%|██████████| 579/579 [00:00<?, ?it/s]"
     ]
    },
    {
     "name": "stdout",
     "output_type": "stream",
     "text": [
      "WARNING  Box and segment counts should be equal, but got len(segments) = 98, len(boxes) = 607. To resolve this only boxes will be used and all segments will be removed. To avoid this please supply either a detect or segment dataset, not a detect-segment mixed dataset.\n",
      "\u001b[34m\u001b[1malbumentations: \u001b[0mBlur(p=0.01, blur_limit=(3, 7)), MedianBlur(p=0.01, blur_limit=(3, 7)), ToGray(p=0.01, num_output_channels=3, method='weighted_average'), CLAHE(p=0.01, clip_limit=(1.0, 4.0), tile_grid_size=(8, 8))\n"
     ]
    },
    {
     "name": "stderr",
     "output_type": "stream",
     "text": [
      "\n",
      "\u001b[34m\u001b[1mval: \u001b[0mScanning C:\\Jobs\\ANPR\\TrainingPt3\\dataset\\valid\\labels.cache... 114 images, 0 backgrounds, 0 corrupt: 100%|██████████| 114/114 [00:00<?, ?it/s]"
     ]
    },
    {
     "name": "stdout",
     "output_type": "stream",
     "text": [
      "\u001b[34m\u001b[1mval: \u001b[0mWARNING  C:\\Jobs\\ANPR\\TrainingPt3\\dataset\\valid\\images\\222-E-4578-TL-15-22_jpeg.rf.41cca04e746e2883835ac83fc629c3e0.jpg: 1 duplicate labels removed\n",
      "WARNING  Box and segment counts should be equal, but got len(segments) = 28, len(boxes) = 122. To resolve this only boxes will be used and all segments will be removed. To avoid this please supply either a detect or segment dataset, not a detect-segment mixed dataset.\n"
     ]
    },
    {
     "name": "stderr",
     "output_type": "stream",
     "text": [
      "\n"
     ]
    },
    {
     "name": "stdout",
     "output_type": "stream",
     "text": [
      "Plotting labels to runs\\detect\\train3\\labels.jpg... \n",
      "\u001b[34m\u001b[1moptimizer:\u001b[0m 'optimizer=auto' found, ignoring 'lr0=0.01' and 'momentum=0.937' and determining best 'optimizer', 'lr0' and 'momentum' automatically... \n",
      "\u001b[34m\u001b[1moptimizer:\u001b[0m AdamW(lr=0.001667, momentum=0.9) with parameter groups 113 weight(decay=0.0), 120 weight(decay=0.0005), 119 bias(decay=0.0)\n",
      "Image sizes 640 train, 640 val\n",
      "Using 8 dataloader workers\n",
      "Logging results to \u001b[1mruns\\detect\\train3\u001b[0m\n",
      "Starting training for 100 epochs...\n",
      "\n",
      "      Epoch    GPU_mem   box_loss   cls_loss   dfl_loss  Instances       Size\n"
     ]
    },
    {
     "name": "stderr",
     "output_type": "stream",
     "text": [
      "      1/100       3.8G     0.7476      2.373      1.353          9        640: 100%|██████████| 37/37 [00:08<00:00,  4.38it/s]\n",
      "                 Class     Images  Instances      Box(P          R      mAP50  mAP50-95): 100%|██████████| 4/4 [00:00<00:00,  6.52it/s]"
     ]
    },
    {
     "name": "stdout",
     "output_type": "stream",
     "text": [
      "                   all        114        122    0.00535      0.738      0.533      0.228\n"
     ]
    },
    {
     "name": "stderr",
     "output_type": "stream",
     "text": [
      "\n"
     ]
    },
    {
     "name": "stdout",
     "output_type": "stream",
     "text": [
      "\n",
      "      Epoch    GPU_mem   box_loss   cls_loss   dfl_loss  Instances       Size\n"
     ]
    },
    {
     "name": "stderr",
     "output_type": "stream",
     "text": [
      "      2/100      3.96G     0.7244       1.31       1.31          9        640: 100%|██████████| 37/37 [00:05<00:00,  6.76it/s]\n",
      "                 Class     Images  Instances      Box(P          R      mAP50  mAP50-95): 100%|██████████| 4/4 [00:00<00:00,  7.19it/s]"
     ]
    },
    {
     "name": "stdout",
     "output_type": "stream",
     "text": [
      "                   all        114        122      0.237      0.313      0.173     0.0497\n"
     ]
    },
    {
     "name": "stderr",
     "output_type": "stream",
     "text": [
      "\n"
     ]
    },
    {
     "name": "stdout",
     "output_type": "stream",
     "text": [
      "\n",
      "      Epoch    GPU_mem   box_loss   cls_loss   dfl_loss  Instances       Size\n"
     ]
    },
    {
     "name": "stderr",
     "output_type": "stream",
     "text": [
      "      3/100      3.96G     0.7151      1.114      1.283          7        640: 100%|██████████| 37/37 [00:04<00:00,  7.63it/s]\n",
      "                 Class     Images  Instances      Box(P          R      mAP50  mAP50-95): 100%|██████████| 4/4 [00:00<00:00,  7.76it/s]"
     ]
    },
    {
     "name": "stdout",
     "output_type": "stream",
     "text": [
      "                   all        114        122       0.17      0.156     0.0826     0.0211\n"
     ]
    },
    {
     "name": "stderr",
     "output_type": "stream",
     "text": [
      "\n"
     ]
    },
    {
     "name": "stdout",
     "output_type": "stream",
     "text": [
      "\n",
      "      Epoch    GPU_mem   box_loss   cls_loss   dfl_loss  Instances       Size\n"
     ]
    },
    {
     "name": "stderr",
     "output_type": "stream",
     "text": [
      "      4/100      3.96G     0.6656     0.9881      1.242         10        640: 100%|██████████| 37/37 [00:04<00:00,  8.25it/s]\n",
      "                 Class     Images  Instances      Box(P          R      mAP50  mAP50-95): 100%|██████████| 4/4 [00:00<00:00,  8.59it/s]"
     ]
    },
    {
     "name": "stdout",
     "output_type": "stream",
     "text": [
      "                   all        114        122      0.618      0.491      0.465      0.249\n"
     ]
    },
    {
     "name": "stderr",
     "output_type": "stream",
     "text": [
      "\n"
     ]
    },
    {
     "name": "stdout",
     "output_type": "stream",
     "text": [
      "\n",
      "      Epoch    GPU_mem   box_loss   cls_loss   dfl_loss  Instances       Size\n"
     ]
    },
    {
     "name": "stderr",
     "output_type": "stream",
     "text": [
      "      5/100      3.97G     0.6722     0.9556      1.274          9        640: 100%|██████████| 37/37 [00:04<00:00,  8.45it/s]\n",
      "                 Class     Images  Instances      Box(P          R      mAP50  mAP50-95): 100%|██████████| 4/4 [00:00<00:00,  7.92it/s]"
     ]
    },
    {
     "name": "stdout",
     "output_type": "stream",
     "text": [
      "                   all        114        122      0.581      0.592      0.599        0.4\n"
     ]
    },
    {
     "name": "stderr",
     "output_type": "stream",
     "text": [
      "\n"
     ]
    },
    {
     "name": "stdout",
     "output_type": "stream",
     "text": [
      "\n",
      "      Epoch    GPU_mem   box_loss   cls_loss   dfl_loss  Instances       Size\n"
     ]
    },
    {
     "name": "stderr",
     "output_type": "stream",
     "text": [
      "      6/100      3.99G     0.7095     0.9231      1.305         11        640: 100%|██████████| 37/37 [00:04<00:00,  7.94it/s]\n",
      "                 Class     Images  Instances      Box(P          R      mAP50  mAP50-95): 100%|██████████| 4/4 [00:00<00:00,  8.19it/s]"
     ]
    },
    {
     "name": "stdout",
     "output_type": "stream",
     "text": [
      "                   all        114        122      0.482      0.541       0.53      0.282\n"
     ]
    },
    {
     "name": "stderr",
     "output_type": "stream",
     "text": [
      "\n"
     ]
    },
    {
     "name": "stdout",
     "output_type": "stream",
     "text": [
      "\n",
      "      Epoch    GPU_mem   box_loss   cls_loss   dfl_loss  Instances       Size\n"
     ]
    },
    {
     "name": "stderr",
     "output_type": "stream",
     "text": [
      "      7/100      4.01G     0.6564     0.8466      1.267         11        640: 100%|██████████| 37/37 [00:04<00:00,  8.28it/s]\n",
      "                 Class     Images  Instances      Box(P          R      mAP50  mAP50-95): 100%|██████████| 4/4 [00:00<00:00,  8.20it/s]"
     ]
    },
    {
     "name": "stdout",
     "output_type": "stream",
     "text": [
      "                   all        114        122       0.41        0.5       0.42      0.217\n"
     ]
    },
    {
     "name": "stderr",
     "output_type": "stream",
     "text": [
      "\n"
     ]
    },
    {
     "name": "stdout",
     "output_type": "stream",
     "text": [
      "\n",
      "      Epoch    GPU_mem   box_loss   cls_loss   dfl_loss  Instances       Size\n"
     ]
    },
    {
     "name": "stderr",
     "output_type": "stream",
     "text": [
      "      8/100      4.01G     0.6268     0.7692      1.228         10        640: 100%|██████████| 37/37 [00:04<00:00,  8.33it/s]\n",
      "                 Class     Images  Instances      Box(P          R      mAP50  mAP50-95): 100%|██████████| 4/4 [00:00<00:00,  8.89it/s]"
     ]
    },
    {
     "name": "stdout",
     "output_type": "stream",
     "text": [
      "                   all        114        122      0.446      0.156      0.151      0.059\n"
     ]
    },
    {
     "name": "stderr",
     "output_type": "stream",
     "text": [
      "\n"
     ]
    },
    {
     "name": "stdout",
     "output_type": "stream",
     "text": [
      "\n",
      "      Epoch    GPU_mem   box_loss   cls_loss   dfl_loss  Instances       Size\n"
     ]
    },
    {
     "name": "stderr",
     "output_type": "stream",
     "text": [
      "      9/100      4.01G     0.6056     0.7285      1.231          6        640: 100%|██████████| 37/37 [00:04<00:00,  8.16it/s]\n",
      "                 Class     Images  Instances      Box(P          R      mAP50  mAP50-95): 100%|██████████| 4/4 [00:00<00:00,  8.40it/s]"
     ]
    },
    {
     "name": "stdout",
     "output_type": "stream",
     "text": [
      "                   all        114        122      0.697      0.525      0.599      0.468\n"
     ]
    },
    {
     "name": "stderr",
     "output_type": "stream",
     "text": [
      "\n"
     ]
    },
    {
     "name": "stdout",
     "output_type": "stream",
     "text": [
      "\n",
      "      Epoch    GPU_mem   box_loss   cls_loss   dfl_loss  Instances       Size\n"
     ]
    },
    {
     "name": "stderr",
     "output_type": "stream",
     "text": [
      "     10/100      4.01G     0.5995     0.6882      1.218          6        640: 100%|██████████| 37/37 [00:04<00:00,  8.27it/s]\n",
      "                 Class     Images  Instances      Box(P          R      mAP50  mAP50-95): 100%|██████████| 4/4 [00:00<00:00,  9.15it/s]"
     ]
    },
    {
     "name": "stdout",
     "output_type": "stream",
     "text": [
      "                   all        114        122      0.642      0.528      0.592      0.307\n"
     ]
    },
    {
     "name": "stderr",
     "output_type": "stream",
     "text": [
      "\n"
     ]
    },
    {
     "name": "stdout",
     "output_type": "stream",
     "text": [
      "\n",
      "      Epoch    GPU_mem   box_loss   cls_loss   dfl_loss  Instances       Size\n"
     ]
    },
    {
     "name": "stderr",
     "output_type": "stream",
     "text": [
      "     11/100      4.01G     0.5572      0.649      1.184          8        640: 100%|██████████| 37/37 [00:04<00:00,  8.33it/s]\n",
      "                 Class     Images  Instances      Box(P          R      mAP50  mAP50-95): 100%|██████████| 4/4 [00:00<00:00,  9.02it/s]"
     ]
    },
    {
     "name": "stdout",
     "output_type": "stream",
     "text": [
      "                   all        114        122      0.835      0.663      0.843      0.686\n"
     ]
    },
    {
     "name": "stderr",
     "output_type": "stream",
     "text": [
      "\n"
     ]
    },
    {
     "name": "stdout",
     "output_type": "stream",
     "text": [
      "\n",
      "      Epoch    GPU_mem   box_loss   cls_loss   dfl_loss  Instances       Size\n"
     ]
    },
    {
     "name": "stderr",
     "output_type": "stream",
     "text": [
      "     12/100      4.01G     0.5615     0.6318      1.172         10        640: 100%|██████████| 37/37 [00:04<00:00,  8.41it/s]\n",
      "                 Class     Images  Instances      Box(P          R      mAP50  mAP50-95): 100%|██████████| 4/4 [00:00<00:00,  8.63it/s]"
     ]
    },
    {
     "name": "stdout",
     "output_type": "stream",
     "text": [
      "                   all        114        122      0.884      0.624      0.796      0.628\n"
     ]
    },
    {
     "name": "stderr",
     "output_type": "stream",
     "text": [
      "\n"
     ]
    },
    {
     "name": "stdout",
     "output_type": "stream",
     "text": [
      "\n",
      "      Epoch    GPU_mem   box_loss   cls_loss   dfl_loss  Instances       Size\n"
     ]
    },
    {
     "name": "stderr",
     "output_type": "stream",
     "text": [
      "     13/100      4.01G     0.5345     0.6029      1.181         12        640: 100%|██████████| 37/37 [00:04<00:00,  8.10it/s]\n",
      "                 Class     Images  Instances      Box(P          R      mAP50  mAP50-95): 100%|██████████| 4/4 [00:00<00:00,  9.14it/s]"
     ]
    },
    {
     "name": "stdout",
     "output_type": "stream",
     "text": [
      "                   all        114        122      0.948      0.721      0.867      0.709\n"
     ]
    },
    {
     "name": "stderr",
     "output_type": "stream",
     "text": [
      "\n"
     ]
    },
    {
     "name": "stdout",
     "output_type": "stream",
     "text": [
      "\n",
      "      Epoch    GPU_mem   box_loss   cls_loss   dfl_loss  Instances       Size\n"
     ]
    },
    {
     "name": "stderr",
     "output_type": "stream",
     "text": [
      "     14/100      4.01G      0.516     0.5788      1.151         10        640: 100%|██████████| 37/37 [00:04<00:00,  8.25it/s]\n",
      "                 Class     Images  Instances      Box(P          R      mAP50  mAP50-95): 100%|██████████| 4/4 [00:00<00:00,  8.33it/s]"
     ]
    },
    {
     "name": "stdout",
     "output_type": "stream",
     "text": [
      "                   all        114        122      0.595      0.866       0.78      0.534\n"
     ]
    },
    {
     "name": "stderr",
     "output_type": "stream",
     "text": [
      "\n"
     ]
    },
    {
     "name": "stdout",
     "output_type": "stream",
     "text": [
      "\n",
      "      Epoch    GPU_mem   box_loss   cls_loss   dfl_loss  Instances       Size\n"
     ]
    },
    {
     "name": "stderr",
     "output_type": "stream",
     "text": [
      "     15/100      4.01G     0.5339     0.5711      1.168          7        640: 100%|██████████| 37/37 [00:04<00:00,  8.34it/s]\n",
      "                 Class     Images  Instances      Box(P          R      mAP50  mAP50-95): 100%|██████████| 4/4 [00:00<00:00,  8.55it/s]"
     ]
    },
    {
     "name": "stdout",
     "output_type": "stream",
     "text": [
      "                   all        114        122      0.876      0.755      0.865      0.647\n"
     ]
    },
    {
     "name": "stderr",
     "output_type": "stream",
     "text": [
      "\n"
     ]
    },
    {
     "name": "stdout",
     "output_type": "stream",
     "text": [
      "\n",
      "      Epoch    GPU_mem   box_loss   cls_loss   dfl_loss  Instances       Size\n"
     ]
    },
    {
     "name": "stderr",
     "output_type": "stream",
     "text": [
      "     16/100      4.01G     0.5454     0.5602      1.176          8        640: 100%|██████████| 37/37 [00:04<00:00,  8.20it/s]\n",
      "                 Class     Images  Instances      Box(P          R      mAP50  mAP50-95): 100%|██████████| 4/4 [00:00<00:00,  7.77it/s]"
     ]
    },
    {
     "name": "stdout",
     "output_type": "stream",
     "text": [
      "                   all        114        122      0.689      0.636      0.706      0.307\n"
     ]
    },
    {
     "name": "stderr",
     "output_type": "stream",
     "text": [
      "\n"
     ]
    },
    {
     "name": "stdout",
     "output_type": "stream",
     "text": [
      "\n",
      "      Epoch    GPU_mem   box_loss   cls_loss   dfl_loss  Instances       Size\n"
     ]
    },
    {
     "name": "stderr",
     "output_type": "stream",
     "text": [
      "     17/100      4.01G      0.524     0.5634      1.148          8        640: 100%|██████████| 37/37 [00:04<00:00,  7.90it/s]\n",
      "                 Class     Images  Instances      Box(P          R      mAP50  mAP50-95): 100%|██████████| 4/4 [00:00<00:00,  8.96it/s]"
     ]
    },
    {
     "name": "stdout",
     "output_type": "stream",
     "text": [
      "                   all        114        122      0.774      0.779      0.856      0.661\n"
     ]
    },
    {
     "name": "stderr",
     "output_type": "stream",
     "text": [
      "\n"
     ]
    },
    {
     "name": "stdout",
     "output_type": "stream",
     "text": [
      "\n",
      "      Epoch    GPU_mem   box_loss   cls_loss   dfl_loss  Instances       Size\n"
     ]
    },
    {
     "name": "stderr",
     "output_type": "stream",
     "text": [
      "     18/100      4.01G      0.508     0.5469      1.138          8        640: 100%|██████████| 37/37 [00:04<00:00,  8.06it/s]\n",
      "                 Class     Images  Instances      Box(P          R      mAP50  mAP50-95): 100%|██████████| 4/4 [00:00<00:00,  8.12it/s]"
     ]
    },
    {
     "name": "stdout",
     "output_type": "stream",
     "text": [
      "                   all        114        122      0.874      0.787      0.905      0.742\n"
     ]
    },
    {
     "name": "stderr",
     "output_type": "stream",
     "text": [
      "\n"
     ]
    },
    {
     "name": "stdout",
     "output_type": "stream",
     "text": [
      "\n",
      "      Epoch    GPU_mem   box_loss   cls_loss   dfl_loss  Instances       Size\n"
     ]
    },
    {
     "name": "stderr",
     "output_type": "stream",
     "text": [
      "     19/100      4.01G      0.511     0.5239      1.155         12        640: 100%|██████████| 37/37 [00:04<00:00,  8.13it/s]\n",
      "                 Class     Images  Instances      Box(P          R      mAP50  mAP50-95): 100%|██████████| 4/4 [00:00<00:00,  8.26it/s]"
     ]
    },
    {
     "name": "stdout",
     "output_type": "stream",
     "text": [
      "                   all        114        122      0.971      0.828      0.929      0.745\n"
     ]
    },
    {
     "name": "stderr",
     "output_type": "stream",
     "text": [
      "\n"
     ]
    },
    {
     "name": "stdout",
     "output_type": "stream",
     "text": [
      "\n",
      "      Epoch    GPU_mem   box_loss   cls_loss   dfl_loss  Instances       Size\n"
     ]
    },
    {
     "name": "stderr",
     "output_type": "stream",
     "text": [
      "     20/100      4.01G     0.5191      0.505      1.152         10        640: 100%|██████████| 37/37 [00:04<00:00,  7.76it/s]\n",
      "                 Class     Images  Instances      Box(P          R      mAP50  mAP50-95): 100%|██████████| 4/4 [00:00<00:00,  8.45it/s]"
     ]
    },
    {
     "name": "stdout",
     "output_type": "stream",
     "text": [
      "                   all        114        122      0.882      0.799      0.901      0.727\n"
     ]
    },
    {
     "name": "stderr",
     "output_type": "stream",
     "text": [
      "\n"
     ]
    },
    {
     "name": "stdout",
     "output_type": "stream",
     "text": [
      "\n",
      "      Epoch    GPU_mem   box_loss   cls_loss   dfl_loss  Instances       Size\n"
     ]
    },
    {
     "name": "stderr",
     "output_type": "stream",
     "text": [
      "     21/100      4.01G     0.4958      0.479      1.154          6        640: 100%|██████████| 37/37 [00:04<00:00,  7.89it/s]\n",
      "                 Class     Images  Instances      Box(P          R      mAP50  mAP50-95): 100%|██████████| 4/4 [00:00<00:00,  8.52it/s]"
     ]
    },
    {
     "name": "stdout",
     "output_type": "stream",
     "text": [
      "                   all        114        122      0.781      0.754      0.831      0.593\n"
     ]
    },
    {
     "name": "stderr",
     "output_type": "stream",
     "text": [
      "\n"
     ]
    },
    {
     "name": "stdout",
     "output_type": "stream",
     "text": [
      "\n",
      "      Epoch    GPU_mem   box_loss   cls_loss   dfl_loss  Instances       Size\n"
     ]
    },
    {
     "name": "stderr",
     "output_type": "stream",
     "text": [
      "     22/100      4.01G     0.4825     0.4853      1.129         10        640: 100%|██████████| 37/37 [00:04<00:00,  8.06it/s]\n",
      "                 Class     Images  Instances      Box(P          R      mAP50  mAP50-95): 100%|██████████| 4/4 [00:00<00:00,  8.55it/s]"
     ]
    },
    {
     "name": "stdout",
     "output_type": "stream",
     "text": [
      "                   all        114        122       0.86      0.859      0.914      0.748\n"
     ]
    },
    {
     "name": "stderr",
     "output_type": "stream",
     "text": [
      "\n"
     ]
    },
    {
     "name": "stdout",
     "output_type": "stream",
     "text": [
      "\n",
      "      Epoch    GPU_mem   box_loss   cls_loss   dfl_loss  Instances       Size\n"
     ]
    },
    {
     "name": "stderr",
     "output_type": "stream",
     "text": [
      "     23/100      4.01G     0.4765     0.5001      1.099          6        640: 100%|██████████| 37/37 [00:04<00:00,  8.10it/s]\n",
      "                 Class     Images  Instances      Box(P          R      mAP50  mAP50-95): 100%|██████████| 4/4 [00:00<00:00,  8.32it/s]"
     ]
    },
    {
     "name": "stdout",
     "output_type": "stream",
     "text": [
      "                   all        114        122      0.831      0.807      0.877      0.741\n"
     ]
    },
    {
     "name": "stderr",
     "output_type": "stream",
     "text": [
      "\n"
     ]
    },
    {
     "name": "stdout",
     "output_type": "stream",
     "text": [
      "\n",
      "      Epoch    GPU_mem   box_loss   cls_loss   dfl_loss  Instances       Size\n"
     ]
    },
    {
     "name": "stderr",
     "output_type": "stream",
     "text": [
      "     24/100      4.01G     0.4916     0.4793      1.134          7        640: 100%|██████████| 37/37 [00:04<00:00,  8.01it/s]\n",
      "                 Class     Images  Instances      Box(P          R      mAP50  mAP50-95): 100%|██████████| 4/4 [00:00<00:00,  8.62it/s]"
     ]
    },
    {
     "name": "stdout",
     "output_type": "stream",
     "text": [
      "                   all        114        122      0.909      0.822      0.917      0.773\n"
     ]
    },
    {
     "name": "stderr",
     "output_type": "stream",
     "text": [
      "\n"
     ]
    },
    {
     "name": "stdout",
     "output_type": "stream",
     "text": [
      "\n",
      "      Epoch    GPU_mem   box_loss   cls_loss   dfl_loss  Instances       Size\n"
     ]
    },
    {
     "name": "stderr",
     "output_type": "stream",
     "text": [
      "     25/100      4.01G     0.4837      0.516      1.118          6        640: 100%|██████████| 37/37 [00:04<00:00,  8.13it/s]\n",
      "                 Class     Images  Instances      Box(P          R      mAP50  mAP50-95): 100%|██████████| 4/4 [00:00<00:00,  8.53it/s]"
     ]
    },
    {
     "name": "stdout",
     "output_type": "stream",
     "text": [
      "                   all        114        122      0.898      0.844      0.916      0.717\n"
     ]
    },
    {
     "name": "stderr",
     "output_type": "stream",
     "text": [
      "\n"
     ]
    },
    {
     "name": "stdout",
     "output_type": "stream",
     "text": [
      "\n",
      "      Epoch    GPU_mem   box_loss   cls_loss   dfl_loss  Instances       Size\n"
     ]
    },
    {
     "name": "stderr",
     "output_type": "stream",
     "text": [
      "     26/100      4.01G     0.4702     0.4679      1.148          4        640: 100%|██████████| 37/37 [00:04<00:00,  8.16it/s]\n",
      "                 Class     Images  Instances      Box(P          R      mAP50  mAP50-95): 100%|██████████| 4/4 [00:00<00:00,  8.44it/s]"
     ]
    },
    {
     "name": "stdout",
     "output_type": "stream",
     "text": [
      "                   all        114        122      0.904      0.851      0.932      0.698\n"
     ]
    },
    {
     "name": "stderr",
     "output_type": "stream",
     "text": [
      "\n"
     ]
    },
    {
     "name": "stdout",
     "output_type": "stream",
     "text": [
      "\n",
      "      Epoch    GPU_mem   box_loss   cls_loss   dfl_loss  Instances       Size\n"
     ]
    },
    {
     "name": "stderr",
     "output_type": "stream",
     "text": [
      "     27/100      4.01G     0.4658     0.4388      1.108         13        640: 100%|██████████| 37/37 [00:04<00:00,  8.12it/s]\n",
      "                 Class     Images  Instances      Box(P          R      mAP50  mAP50-95): 100%|██████████| 4/4 [00:00<00:00,  8.25it/s]"
     ]
    },
    {
     "name": "stdout",
     "output_type": "stream",
     "text": [
      "                   all        114        122      0.853      0.836      0.902      0.744\n"
     ]
    },
    {
     "name": "stderr",
     "output_type": "stream",
     "text": [
      "\n"
     ]
    },
    {
     "name": "stdout",
     "output_type": "stream",
     "text": [
      "\n",
      "      Epoch    GPU_mem   box_loss   cls_loss   dfl_loss  Instances       Size\n"
     ]
    },
    {
     "name": "stderr",
     "output_type": "stream",
     "text": [
      "     28/100      4.01G     0.4451     0.4465      1.116         11        640: 100%|██████████| 37/37 [00:04<00:00,  7.78it/s]\n",
      "                 Class     Images  Instances      Box(P          R      mAP50  mAP50-95): 100%|██████████| 4/4 [00:00<00:00,  8.73it/s]"
     ]
    },
    {
     "name": "stdout",
     "output_type": "stream",
     "text": [
      "                   all        114        122      0.835      0.844      0.885      0.711\n"
     ]
    },
    {
     "name": "stderr",
     "output_type": "stream",
     "text": [
      "\n"
     ]
    },
    {
     "name": "stdout",
     "output_type": "stream",
     "text": [
      "\n",
      "      Epoch    GPU_mem   box_loss   cls_loss   dfl_loss  Instances       Size\n"
     ]
    },
    {
     "name": "stderr",
     "output_type": "stream",
     "text": [
      "     29/100      4.01G     0.4716     0.4664      1.124          4        640: 100%|██████████| 37/37 [00:04<00:00,  8.22it/s]\n",
      "                 Class     Images  Instances      Box(P          R      mAP50  mAP50-95): 100%|██████████| 4/4 [00:00<00:00,  8.59it/s]"
     ]
    },
    {
     "name": "stdout",
     "output_type": "stream",
     "text": [
      "                   all        114        122      0.762      0.738      0.794      0.612\n"
     ]
    },
    {
     "name": "stderr",
     "output_type": "stream",
     "text": [
      "\n"
     ]
    },
    {
     "name": "stdout",
     "output_type": "stream",
     "text": [
      "\n",
      "      Epoch    GPU_mem   box_loss   cls_loss   dfl_loss  Instances       Size\n"
     ]
    },
    {
     "name": "stderr",
     "output_type": "stream",
     "text": [
      "     30/100      4.01G     0.4817     0.4685      1.123          7        640: 100%|██████████| 37/37 [00:04<00:00,  8.08it/s]\n",
      "                 Class     Images  Instances      Box(P          R      mAP50  mAP50-95): 100%|██████████| 4/4 [00:00<00:00,  8.35it/s]"
     ]
    },
    {
     "name": "stdout",
     "output_type": "stream",
     "text": [
      "                   all        114        122      0.891      0.861      0.924      0.768\n"
     ]
    },
    {
     "name": "stderr",
     "output_type": "stream",
     "text": [
      "\n"
     ]
    },
    {
     "name": "stdout",
     "output_type": "stream",
     "text": [
      "\n",
      "      Epoch    GPU_mem   box_loss   cls_loss   dfl_loss  Instances       Size\n"
     ]
    },
    {
     "name": "stderr",
     "output_type": "stream",
     "text": [
      "     31/100      4.01G     0.4667     0.4159      1.145          8        640: 100%|██████████| 37/37 [00:04<00:00,  8.08it/s]\n",
      "                 Class     Images  Instances      Box(P          R      mAP50  mAP50-95): 100%|██████████| 4/4 [00:00<00:00,  8.45it/s]"
     ]
    },
    {
     "name": "stdout",
     "output_type": "stream",
     "text": [
      "                   all        114        122      0.943      0.814       0.93      0.789\n"
     ]
    },
    {
     "name": "stderr",
     "output_type": "stream",
     "text": [
      "\n"
     ]
    },
    {
     "name": "stdout",
     "output_type": "stream",
     "text": [
      "\n",
      "      Epoch    GPU_mem   box_loss   cls_loss   dfl_loss  Instances       Size\n"
     ]
    },
    {
     "name": "stderr",
     "output_type": "stream",
     "text": [
      "     32/100      4.01G     0.4569     0.4152      1.121          6        640: 100%|██████████| 37/37 [00:04<00:00,  8.11it/s]\n",
      "                 Class     Images  Instances      Box(P          R      mAP50  mAP50-95): 100%|██████████| 4/4 [00:00<00:00,  8.40it/s]"
     ]
    },
    {
     "name": "stdout",
     "output_type": "stream",
     "text": [
      "                   all        114        122      0.886      0.836      0.917      0.771\n"
     ]
    },
    {
     "name": "stderr",
     "output_type": "stream",
     "text": [
      "\n"
     ]
    },
    {
     "name": "stdout",
     "output_type": "stream",
     "text": [
      "\n",
      "      Epoch    GPU_mem   box_loss   cls_loss   dfl_loss  Instances       Size\n"
     ]
    },
    {
     "name": "stderr",
     "output_type": "stream",
     "text": [
      "     33/100      4.01G     0.4662     0.4338      1.113          9        640: 100%|██████████| 37/37 [00:04<00:00,  7.94it/s]\n",
      "                 Class     Images  Instances      Box(P          R      mAP50  mAP50-95): 100%|██████████| 4/4 [00:00<00:00,  8.26it/s]"
     ]
    },
    {
     "name": "stdout",
     "output_type": "stream",
     "text": [
      "                   all        114        122      0.928      0.844      0.933      0.753\n"
     ]
    },
    {
     "name": "stderr",
     "output_type": "stream",
     "text": [
      "\n"
     ]
    },
    {
     "name": "stdout",
     "output_type": "stream",
     "text": [
      "\n",
      "      Epoch    GPU_mem   box_loss   cls_loss   dfl_loss  Instances       Size\n"
     ]
    },
    {
     "name": "stderr",
     "output_type": "stream",
     "text": [
      "     34/100      4.01G     0.4661     0.4205      1.137          7        640: 100%|██████████| 37/37 [00:04<00:00,  7.87it/s]\n",
      "                 Class     Images  Instances      Box(P          R      mAP50  mAP50-95): 100%|██████████| 4/4 [00:00<00:00,  8.60it/s]"
     ]
    },
    {
     "name": "stdout",
     "output_type": "stream",
     "text": [
      "                   all        114        122      0.885      0.902      0.934      0.793\n"
     ]
    },
    {
     "name": "stderr",
     "output_type": "stream",
     "text": [
      "\n"
     ]
    },
    {
     "name": "stdout",
     "output_type": "stream",
     "text": [
      "\n",
      "      Epoch    GPU_mem   box_loss   cls_loss   dfl_loss  Instances       Size\n"
     ]
    },
    {
     "name": "stderr",
     "output_type": "stream",
     "text": [
      "     35/100      4.01G     0.4525     0.3948      1.116          9        640: 100%|██████████| 37/37 [00:04<00:00,  8.15it/s]\n",
      "                 Class     Images  Instances      Box(P          R      mAP50  mAP50-95): 100%|██████████| 4/4 [00:00<00:00,  8.87it/s]"
     ]
    },
    {
     "name": "stdout",
     "output_type": "stream",
     "text": [
      "                   all        114        122      0.967      0.639      0.865      0.709\n"
     ]
    },
    {
     "name": "stderr",
     "output_type": "stream",
     "text": [
      "\n"
     ]
    },
    {
     "name": "stdout",
     "output_type": "stream",
     "text": [
      "\n",
      "      Epoch    GPU_mem   box_loss   cls_loss   dfl_loss  Instances       Size\n"
     ]
    },
    {
     "name": "stderr",
     "output_type": "stream",
     "text": [
      "     36/100      4.01G     0.4421     0.4115      1.118          8        640: 100%|██████████| 37/37 [00:04<00:00,  8.17it/s]\n",
      "                 Class     Images  Instances      Box(P          R      mAP50  mAP50-95): 100%|██████████| 4/4 [00:00<00:00,  8.54it/s]"
     ]
    },
    {
     "name": "stdout",
     "output_type": "stream",
     "text": [
      "                   all        114        122      0.943       0.82      0.934      0.784\n"
     ]
    },
    {
     "name": "stderr",
     "output_type": "stream",
     "text": [
      "\n"
     ]
    },
    {
     "name": "stdout",
     "output_type": "stream",
     "text": [
      "\n",
      "      Epoch    GPU_mem   box_loss   cls_loss   dfl_loss  Instances       Size\n"
     ]
    },
    {
     "name": "stderr",
     "output_type": "stream",
     "text": [
      "     37/100      4.01G      0.437     0.4195      1.104          8        640: 100%|██████████| 37/37 [00:04<00:00,  8.21it/s]\n",
      "                 Class     Images  Instances      Box(P          R      mAP50  mAP50-95): 100%|██████████| 4/4 [00:00<00:00,  8.63it/s]"
     ]
    },
    {
     "name": "stdout",
     "output_type": "stream",
     "text": [
      "                   all        114        122      0.857      0.885      0.925      0.746\n"
     ]
    },
    {
     "name": "stderr",
     "output_type": "stream",
     "text": [
      "\n"
     ]
    },
    {
     "name": "stdout",
     "output_type": "stream",
     "text": [
      "\n",
      "      Epoch    GPU_mem   box_loss   cls_loss   dfl_loss  Instances       Size\n"
     ]
    },
    {
     "name": "stderr",
     "output_type": "stream",
     "text": [
      "     38/100      4.01G     0.4258     0.3981        1.1          7        640: 100%|██████████| 37/37 [00:04<00:00,  8.21it/s]\n",
      "                 Class     Images  Instances      Box(P          R      mAP50  mAP50-95): 100%|██████████| 4/4 [00:00<00:00,  8.39it/s]"
     ]
    },
    {
     "name": "stdout",
     "output_type": "stream",
     "text": [
      "                   all        114        122      0.868      0.859      0.907      0.786\n"
     ]
    },
    {
     "name": "stderr",
     "output_type": "stream",
     "text": [
      "\n"
     ]
    },
    {
     "name": "stdout",
     "output_type": "stream",
     "text": [
      "\n",
      "      Epoch    GPU_mem   box_loss   cls_loss   dfl_loss  Instances       Size\n"
     ]
    },
    {
     "name": "stderr",
     "output_type": "stream",
     "text": [
      "     39/100      4.02G     0.4215     0.3789        1.1          5        640: 100%|██████████| 37/37 [00:04<00:00,  8.16it/s]\n",
      "                 Class     Images  Instances      Box(P          R      mAP50  mAP50-95): 100%|██████████| 4/4 [00:00<00:00,  9.02it/s]"
     ]
    },
    {
     "name": "stdout",
     "output_type": "stream",
     "text": [
      "                   all        114        122      0.906      0.811      0.919      0.757\n"
     ]
    },
    {
     "name": "stderr",
     "output_type": "stream",
     "text": [
      "\n"
     ]
    },
    {
     "name": "stdout",
     "output_type": "stream",
     "text": [
      "\n",
      "      Epoch    GPU_mem   box_loss   cls_loss   dfl_loss  Instances       Size\n"
     ]
    },
    {
     "name": "stderr",
     "output_type": "stream",
     "text": [
      "     40/100      4.02G     0.4057     0.3666      1.086          8        640: 100%|██████████| 37/37 [00:04<00:00,  8.10it/s]\n",
      "                 Class     Images  Instances      Box(P          R      mAP50  mAP50-95): 100%|██████████| 4/4 [00:00<00:00,  8.44it/s]"
     ]
    },
    {
     "name": "stdout",
     "output_type": "stream",
     "text": [
      "                   all        114        122      0.845      0.885      0.927      0.754\n"
     ]
    },
    {
     "name": "stderr",
     "output_type": "stream",
     "text": [
      "\n"
     ]
    },
    {
     "name": "stdout",
     "output_type": "stream",
     "text": [
      "\n",
      "      Epoch    GPU_mem   box_loss   cls_loss   dfl_loss  Instances       Size\n"
     ]
    },
    {
     "name": "stderr",
     "output_type": "stream",
     "text": [
      "     41/100      4.02G     0.4038     0.3737      1.091          8        640: 100%|██████████| 37/37 [00:04<00:00,  8.04it/s]\n",
      "                 Class     Images  Instances      Box(P          R      mAP50  mAP50-95): 100%|██████████| 4/4 [00:00<00:00,  8.72it/s]"
     ]
    },
    {
     "name": "stdout",
     "output_type": "stream",
     "text": [
      "                   all        114        122      0.937      0.861      0.926      0.762\n"
     ]
    },
    {
     "name": "stderr",
     "output_type": "stream",
     "text": [
      "\n"
     ]
    },
    {
     "name": "stdout",
     "output_type": "stream",
     "text": [
      "\n",
      "      Epoch    GPU_mem   box_loss   cls_loss   dfl_loss  Instances       Size\n"
     ]
    },
    {
     "name": "stderr",
     "output_type": "stream",
     "text": [
      "     42/100      4.02G      0.419     0.3716      1.084          9        640: 100%|██████████| 37/37 [00:05<00:00,  7.17it/s]\n",
      "                 Class     Images  Instances      Box(P          R      mAP50  mAP50-95): 100%|██████████| 4/4 [00:00<00:00,  7.95it/s]"
     ]
    },
    {
     "name": "stdout",
     "output_type": "stream",
     "text": [
      "                   all        114        122       0.86      0.885      0.928      0.761\n"
     ]
    },
    {
     "name": "stderr",
     "output_type": "stream",
     "text": [
      "\n"
     ]
    },
    {
     "name": "stdout",
     "output_type": "stream",
     "text": [
      "\n",
      "      Epoch    GPU_mem   box_loss   cls_loss   dfl_loss  Instances       Size\n"
     ]
    },
    {
     "name": "stderr",
     "output_type": "stream",
     "text": [
      "     43/100      4.02G     0.4214     0.3792      1.095          7        640: 100%|██████████| 37/37 [00:04<00:00,  7.69it/s]\n",
      "                 Class     Images  Instances      Box(P          R      mAP50  mAP50-95): 100%|██████████| 4/4 [00:00<00:00,  8.51it/s]"
     ]
    },
    {
     "name": "stdout",
     "output_type": "stream",
     "text": [
      "                   all        114        122      0.866      0.897      0.935      0.752\n"
     ]
    },
    {
     "name": "stderr",
     "output_type": "stream",
     "text": [
      "\n"
     ]
    },
    {
     "name": "stdout",
     "output_type": "stream",
     "text": [
      "\n",
      "      Epoch    GPU_mem   box_loss   cls_loss   dfl_loss  Instances       Size\n"
     ]
    },
    {
     "name": "stderr",
     "output_type": "stream",
     "text": [
      "     44/100      4.02G     0.4055     0.3716      1.081          8        640: 100%|██████████| 37/37 [00:04<00:00,  7.79it/s]\n",
      "                 Class     Images  Instances      Box(P          R      mAP50  mAP50-95): 100%|██████████| 4/4 [00:00<00:00,  7.91it/s]"
     ]
    },
    {
     "name": "stdout",
     "output_type": "stream",
     "text": [
      "                   all        114        122      0.867      0.853      0.917      0.733\n"
     ]
    },
    {
     "name": "stderr",
     "output_type": "stream",
     "text": [
      "\n"
     ]
    },
    {
     "name": "stdout",
     "output_type": "stream",
     "text": [
      "\n",
      "      Epoch    GPU_mem   box_loss   cls_loss   dfl_loss  Instances       Size\n"
     ]
    },
    {
     "name": "stderr",
     "output_type": "stream",
     "text": [
      "     45/100      4.02G     0.4131     0.3594      1.091          9        640: 100%|██████████| 37/37 [00:04<00:00,  7.51it/s]\n",
      "                 Class     Images  Instances      Box(P          R      mAP50  mAP50-95): 100%|██████████| 4/4 [00:00<00:00,  8.24it/s]"
     ]
    },
    {
     "name": "stdout",
     "output_type": "stream",
     "text": [
      "                   all        114        122      0.897      0.856      0.927      0.763\n"
     ]
    },
    {
     "name": "stderr",
     "output_type": "stream",
     "text": [
      "\n"
     ]
    },
    {
     "name": "stdout",
     "output_type": "stream",
     "text": [
      "\n",
      "      Epoch    GPU_mem   box_loss   cls_loss   dfl_loss  Instances       Size\n"
     ]
    },
    {
     "name": "stderr",
     "output_type": "stream",
     "text": [
      "     46/100      4.02G     0.3874     0.3518      1.071         12        640: 100%|██████████| 37/37 [00:04<00:00,  7.98it/s]\n",
      "                 Class     Images  Instances      Box(P          R      mAP50  mAP50-95): 100%|██████████| 4/4 [00:00<00:00,  8.46it/s]"
     ]
    },
    {
     "name": "stdout",
     "output_type": "stream",
     "text": [
      "                   all        114        122      0.868      0.885      0.935      0.785\n"
     ]
    },
    {
     "name": "stderr",
     "output_type": "stream",
     "text": [
      "\n"
     ]
    },
    {
     "name": "stdout",
     "output_type": "stream",
     "text": [
      "\n",
      "      Epoch    GPU_mem   box_loss   cls_loss   dfl_loss  Instances       Size\n"
     ]
    },
    {
     "name": "stderr",
     "output_type": "stream",
     "text": [
      "     47/100      4.02G     0.3799     0.3212      1.077          6        640: 100%|██████████| 37/37 [00:04<00:00,  7.52it/s]\n",
      "                 Class     Images  Instances      Box(P          R      mAP50  mAP50-95): 100%|██████████| 4/4 [00:00<00:00,  8.09it/s]"
     ]
    },
    {
     "name": "stdout",
     "output_type": "stream",
     "text": [
      "                   all        114        122      0.945      0.861      0.939      0.809\n"
     ]
    },
    {
     "name": "stderr",
     "output_type": "stream",
     "text": [
      "\n"
     ]
    },
    {
     "name": "stdout",
     "output_type": "stream",
     "text": [
      "\n",
      "      Epoch    GPU_mem   box_loss   cls_loss   dfl_loss  Instances       Size\n"
     ]
    },
    {
     "name": "stderr",
     "output_type": "stream",
     "text": [
      "     48/100      4.02G     0.4143      0.351       1.09         10        640: 100%|██████████| 37/37 [00:04<00:00,  7.67it/s]\n",
      "                 Class     Images  Instances      Box(P          R      mAP50  mAP50-95): 100%|██████████| 4/4 [00:00<00:00,  8.58it/s]"
     ]
    },
    {
     "name": "stdout",
     "output_type": "stream",
     "text": [
      "                   all        114        122      0.931      0.889      0.944      0.798\n"
     ]
    },
    {
     "name": "stderr",
     "output_type": "stream",
     "text": [
      "\n"
     ]
    },
    {
     "name": "stdout",
     "output_type": "stream",
     "text": [
      "\n",
      "      Epoch    GPU_mem   box_loss   cls_loss   dfl_loss  Instances       Size\n"
     ]
    },
    {
     "name": "stderr",
     "output_type": "stream",
     "text": [
      "     49/100      4.02G     0.3867      0.329      1.077          8        640: 100%|██████████| 37/37 [00:04<00:00,  7.95it/s]\n",
      "                 Class     Images  Instances      Box(P          R      mAP50  mAP50-95): 100%|██████████| 4/4 [00:00<00:00,  8.22it/s]"
     ]
    },
    {
     "name": "stdout",
     "output_type": "stream",
     "text": [
      "                   all        114        122      0.896       0.85      0.933      0.769\n"
     ]
    },
    {
     "name": "stderr",
     "output_type": "stream",
     "text": [
      "\n"
     ]
    },
    {
     "name": "stdout",
     "output_type": "stream",
     "text": [
      "\n",
      "      Epoch    GPU_mem   box_loss   cls_loss   dfl_loss  Instances       Size\n"
     ]
    },
    {
     "name": "stderr",
     "output_type": "stream",
     "text": [
      "     50/100      4.02G     0.3945     0.3263      1.076          5        640: 100%|██████████| 37/37 [00:04<00:00,  7.91it/s]\n",
      "                 Class     Images  Instances      Box(P          R      mAP50  mAP50-95): 100%|██████████| 4/4 [00:00<00:00,  8.52it/s]"
     ]
    },
    {
     "name": "stdout",
     "output_type": "stream",
     "text": [
      "                   all        114        122      0.835      0.885      0.917      0.758\n"
     ]
    },
    {
     "name": "stderr",
     "output_type": "stream",
     "text": [
      "\n"
     ]
    },
    {
     "name": "stdout",
     "output_type": "stream",
     "text": [
      "\n",
      "      Epoch    GPU_mem   box_loss   cls_loss   dfl_loss  Instances       Size\n"
     ]
    },
    {
     "name": "stderr",
     "output_type": "stream",
     "text": [
      "     51/100      4.02G     0.3783     0.3204      1.074          8        640: 100%|██████████| 37/37 [00:04<00:00,  8.11it/s]\n",
      "                 Class     Images  Instances      Box(P          R      mAP50  mAP50-95): 100%|██████████| 4/4 [00:00<00:00,  8.70it/s]"
     ]
    },
    {
     "name": "stdout",
     "output_type": "stream",
     "text": [
      "                   all        114        122      0.913      0.893      0.942      0.792\n"
     ]
    },
    {
     "name": "stderr",
     "output_type": "stream",
     "text": [
      "\n"
     ]
    },
    {
     "name": "stdout",
     "output_type": "stream",
     "text": [
      "\n",
      "      Epoch    GPU_mem   box_loss   cls_loss   dfl_loss  Instances       Size\n"
     ]
    },
    {
     "name": "stderr",
     "output_type": "stream",
     "text": [
      "     52/100      4.02G     0.3861     0.3214      1.065          8        640: 100%|██████████| 37/37 [00:04<00:00,  7.70it/s]\n",
      "                 Class     Images  Instances      Box(P          R      mAP50  mAP50-95): 100%|██████████| 4/4 [00:00<00:00,  8.36it/s]"
     ]
    },
    {
     "name": "stdout",
     "output_type": "stream",
     "text": [
      "                   all        114        122      0.905      0.885      0.942       0.78\n"
     ]
    },
    {
     "name": "stderr",
     "output_type": "stream",
     "text": [
      "\n"
     ]
    },
    {
     "name": "stdout",
     "output_type": "stream",
     "text": [
      "\n",
      "      Epoch    GPU_mem   box_loss   cls_loss   dfl_loss  Instances       Size\n"
     ]
    },
    {
     "name": "stderr",
     "output_type": "stream",
     "text": [
      "     53/100      4.02G     0.3747     0.3154      1.057          9        640: 100%|██████████| 37/37 [00:04<00:00,  7.93it/s]\n",
      "                 Class     Images  Instances      Box(P          R      mAP50  mAP50-95): 100%|██████████| 4/4 [00:00<00:00,  8.54it/s]"
     ]
    },
    {
     "name": "stdout",
     "output_type": "stream",
     "text": [
      "                   all        114        122      0.888      0.902      0.936      0.788\n"
     ]
    },
    {
     "name": "stderr",
     "output_type": "stream",
     "text": [
      "\n"
     ]
    },
    {
     "name": "stdout",
     "output_type": "stream",
     "text": [
      "\n",
      "      Epoch    GPU_mem   box_loss   cls_loss   dfl_loss  Instances       Size\n"
     ]
    },
    {
     "name": "stderr",
     "output_type": "stream",
     "text": [
      "     54/100      4.02G     0.3821     0.3211      1.072          7        640: 100%|██████████| 37/37 [00:04<00:00,  7.56it/s]\n",
      "                 Class     Images  Instances      Box(P          R      mAP50  mAP50-95): 100%|██████████| 4/4 [00:00<00:00,  8.27it/s]"
     ]
    },
    {
     "name": "stdout",
     "output_type": "stream",
     "text": [
      "                   all        114        122      0.835      0.918      0.932      0.786\n"
     ]
    },
    {
     "name": "stderr",
     "output_type": "stream",
     "text": [
      "\n"
     ]
    },
    {
     "name": "stdout",
     "output_type": "stream",
     "text": [
      "\n",
      "      Epoch    GPU_mem   box_loss   cls_loss   dfl_loss  Instances       Size\n"
     ]
    },
    {
     "name": "stderr",
     "output_type": "stream",
     "text": [
      "     55/100      4.02G     0.3809     0.3156      1.065          9        640: 100%|██████████| 37/37 [00:05<00:00,  6.91it/s]\n",
      "                 Class     Images  Instances      Box(P          R      mAP50  mAP50-95): 100%|██████████| 4/4 [00:00<00:00,  8.60it/s]"
     ]
    },
    {
     "name": "stdout",
     "output_type": "stream",
     "text": [
      "                   all        114        122      0.872      0.893      0.937      0.794\n"
     ]
    },
    {
     "name": "stderr",
     "output_type": "stream",
     "text": [
      "\n"
     ]
    },
    {
     "name": "stdout",
     "output_type": "stream",
     "text": [
      "\n",
      "      Epoch    GPU_mem   box_loss   cls_loss   dfl_loss  Instances       Size\n"
     ]
    },
    {
     "name": "stderr",
     "output_type": "stream",
     "text": [
      "     56/100      4.02G     0.3667     0.3196      1.056         12        640: 100%|██████████| 37/37 [00:04<00:00,  7.59it/s]\n",
      "                 Class     Images  Instances      Box(P          R      mAP50  mAP50-95): 100%|██████████| 4/4 [00:00<00:00,  8.13it/s]"
     ]
    },
    {
     "name": "stdout",
     "output_type": "stream",
     "text": [
      "                   all        114        122      0.882      0.918      0.943      0.792\n"
     ]
    },
    {
     "name": "stderr",
     "output_type": "stream",
     "text": [
      "\n"
     ]
    },
    {
     "name": "stdout",
     "output_type": "stream",
     "text": [
      "\n",
      "      Epoch    GPU_mem   box_loss   cls_loss   dfl_loss  Instances       Size\n"
     ]
    },
    {
     "name": "stderr",
     "output_type": "stream",
     "text": [
      "     57/100      4.02G     0.3869      0.327      1.062          8        640: 100%|██████████| 37/37 [00:04<00:00,  8.15it/s]\n",
      "                 Class     Images  Instances      Box(P          R      mAP50  mAP50-95): 100%|██████████| 4/4 [00:00<00:00,  8.77it/s]"
     ]
    },
    {
     "name": "stdout",
     "output_type": "stream",
     "text": [
      "                   all        114        122      0.919      0.893      0.938      0.809\n"
     ]
    },
    {
     "name": "stderr",
     "output_type": "stream",
     "text": [
      "\n"
     ]
    },
    {
     "name": "stdout",
     "output_type": "stream",
     "text": [
      "\n",
      "      Epoch    GPU_mem   box_loss   cls_loss   dfl_loss  Instances       Size\n"
     ]
    },
    {
     "name": "stderr",
     "output_type": "stream",
     "text": [
      "     58/100      4.02G     0.3829     0.3311      1.063          6        640: 100%|██████████| 37/37 [00:04<00:00,  7.97it/s]\n",
      "                 Class     Images  Instances      Box(P          R      mAP50  mAP50-95): 100%|██████████| 4/4 [00:00<00:00,  8.15it/s]"
     ]
    },
    {
     "name": "stdout",
     "output_type": "stream",
     "text": [
      "                   all        114        122      0.822      0.934      0.937      0.798\n"
     ]
    },
    {
     "name": "stderr",
     "output_type": "stream",
     "text": [
      "\n"
     ]
    },
    {
     "name": "stdout",
     "output_type": "stream",
     "text": [
      "\n",
      "      Epoch    GPU_mem   box_loss   cls_loss   dfl_loss  Instances       Size\n"
     ]
    },
    {
     "name": "stderr",
     "output_type": "stream",
     "text": [
      "     59/100      4.02G     0.3847     0.3286       1.07          7        640: 100%|██████████| 37/37 [00:04<00:00,  7.83it/s]\n",
      "                 Class     Images  Instances      Box(P          R      mAP50  mAP50-95): 100%|██████████| 4/4 [00:00<00:00,  8.34it/s]"
     ]
    },
    {
     "name": "stdout",
     "output_type": "stream",
     "text": [
      "                   all        114        122      0.878      0.934      0.946      0.762\n"
     ]
    },
    {
     "name": "stderr",
     "output_type": "stream",
     "text": [
      "\n"
     ]
    },
    {
     "name": "stdout",
     "output_type": "stream",
     "text": [
      "\n",
      "      Epoch    GPU_mem   box_loss   cls_loss   dfl_loss  Instances       Size\n"
     ]
    },
    {
     "name": "stderr",
     "output_type": "stream",
     "text": [
      "     60/100      4.02G     0.3675     0.3069      1.069          6        640: 100%|██████████| 37/37 [00:04<00:00,  7.80it/s]\n",
      "                 Class     Images  Instances      Box(P          R      mAP50  mAP50-95): 100%|██████████| 4/4 [00:00<00:00,  8.87it/s]"
     ]
    },
    {
     "name": "stdout",
     "output_type": "stream",
     "text": [
      "                   all        114        122      0.932      0.897       0.94      0.783\n"
     ]
    },
    {
     "name": "stderr",
     "output_type": "stream",
     "text": [
      "\n"
     ]
    },
    {
     "name": "stdout",
     "output_type": "stream",
     "text": [
      "\n",
      "      Epoch    GPU_mem   box_loss   cls_loss   dfl_loss  Instances       Size\n"
     ]
    },
    {
     "name": "stderr",
     "output_type": "stream",
     "text": [
      "     61/100      4.02G     0.3706     0.3058       1.05          9        640: 100%|██████████| 37/37 [00:04<00:00,  7.82it/s]\n",
      "                 Class     Images  Instances      Box(P          R      mAP50  mAP50-95): 100%|██████████| 4/4 [00:00<00:00,  9.15it/s]"
     ]
    },
    {
     "name": "stdout",
     "output_type": "stream",
     "text": [
      "                   all        114        122      0.879      0.926       0.95      0.805\n"
     ]
    },
    {
     "name": "stderr",
     "output_type": "stream",
     "text": [
      "\n"
     ]
    },
    {
     "name": "stdout",
     "output_type": "stream",
     "text": [
      "\n",
      "      Epoch    GPU_mem   box_loss   cls_loss   dfl_loss  Instances       Size\n"
     ]
    },
    {
     "name": "stderr",
     "output_type": "stream",
     "text": [
      "     62/100      4.02G     0.3639     0.3054      1.049          8        640: 100%|██████████| 37/37 [00:04<00:00,  8.06it/s]\n",
      "                 Class     Images  Instances      Box(P          R      mAP50  mAP50-95): 100%|██████████| 4/4 [00:00<00:00,  8.42it/s]"
     ]
    },
    {
     "name": "stdout",
     "output_type": "stream",
     "text": [
      "                   all        114        122      0.893      0.926      0.941      0.792\n"
     ]
    },
    {
     "name": "stderr",
     "output_type": "stream",
     "text": [
      "\n"
     ]
    },
    {
     "name": "stdout",
     "output_type": "stream",
     "text": [
      "\n",
      "      Epoch    GPU_mem   box_loss   cls_loss   dfl_loss  Instances       Size\n"
     ]
    },
    {
     "name": "stderr",
     "output_type": "stream",
     "text": [
      "     63/100      4.02G     0.3674     0.3156      1.049          8        640: 100%|██████████| 37/37 [00:04<00:00,  8.19it/s]\n",
      "                 Class     Images  Instances      Box(P          R      mAP50  mAP50-95): 100%|██████████| 4/4 [00:00<00:00,  8.97it/s]"
     ]
    },
    {
     "name": "stdout",
     "output_type": "stream",
     "text": [
      "                   all        114        122      0.915      0.902      0.947      0.815\n"
     ]
    },
    {
     "name": "stderr",
     "output_type": "stream",
     "text": [
      "\n"
     ]
    },
    {
     "name": "stdout",
     "output_type": "stream",
     "text": [
      "\n",
      "      Epoch    GPU_mem   box_loss   cls_loss   dfl_loss  Instances       Size\n"
     ]
    },
    {
     "name": "stderr",
     "output_type": "stream",
     "text": [
      "     64/100      4.02G     0.3627      0.304      1.053          9        640: 100%|██████████| 37/37 [00:04<00:00,  8.26it/s]\n",
      "                 Class     Images  Instances      Box(P          R      mAP50  mAP50-95): 100%|██████████| 4/4 [00:00<00:00,  8.56it/s]"
     ]
    },
    {
     "name": "stdout",
     "output_type": "stream",
     "text": [
      "                   all        114        122      0.886      0.926      0.948      0.805\n"
     ]
    },
    {
     "name": "stderr",
     "output_type": "stream",
     "text": [
      "\n"
     ]
    },
    {
     "name": "stdout",
     "output_type": "stream",
     "text": [
      "\n",
      "      Epoch    GPU_mem   box_loss   cls_loss   dfl_loss  Instances       Size\n"
     ]
    },
    {
     "name": "stderr",
     "output_type": "stream",
     "text": [
      "     65/100      4.02G     0.3847     0.3085      1.065          6        640: 100%|██████████| 37/37 [00:04<00:00,  8.25it/s]\n",
      "                 Class     Images  Instances      Box(P          R      mAP50  mAP50-95): 100%|██████████| 4/4 [00:00<00:00,  8.79it/s]"
     ]
    },
    {
     "name": "stdout",
     "output_type": "stream",
     "text": [
      "                   all        114        122      0.931      0.885      0.949      0.786\n"
     ]
    },
    {
     "name": "stderr",
     "output_type": "stream",
     "text": [
      "\n"
     ]
    },
    {
     "name": "stdout",
     "output_type": "stream",
     "text": [
      "\n",
      "      Epoch    GPU_mem   box_loss   cls_loss   dfl_loss  Instances       Size\n"
     ]
    },
    {
     "name": "stderr",
     "output_type": "stream",
     "text": [
      "     66/100      4.02G     0.3722     0.3066      1.066          8        640: 100%|██████████| 37/37 [00:04<00:00,  8.32it/s]\n",
      "                 Class     Images  Instances      Box(P          R      mAP50  mAP50-95): 100%|██████████| 4/4 [00:00<00:00,  8.81it/s]"
     ]
    },
    {
     "name": "stdout",
     "output_type": "stream",
     "text": [
      "                   all        114        122      0.975      0.852      0.945      0.787\n"
     ]
    },
    {
     "name": "stderr",
     "output_type": "stream",
     "text": [
      "\n"
     ]
    },
    {
     "name": "stdout",
     "output_type": "stream",
     "text": [
      "\n",
      "      Epoch    GPU_mem   box_loss   cls_loss   dfl_loss  Instances       Size\n"
     ]
    },
    {
     "name": "stderr",
     "output_type": "stream",
     "text": [
      "     67/100      4.02G     0.3408     0.2922      1.024          9        640: 100%|██████████| 37/37 [00:04<00:00,  7.83it/s]\n",
      "                 Class     Images  Instances      Box(P          R      mAP50  mAP50-95): 100%|██████████| 4/4 [00:00<00:00,  8.61it/s]"
     ]
    },
    {
     "name": "stdout",
     "output_type": "stream",
     "text": [
      "                   all        114        122      0.939       0.89      0.947       0.81\n"
     ]
    },
    {
     "name": "stderr",
     "output_type": "stream",
     "text": [
      "\n"
     ]
    },
    {
     "name": "stdout",
     "output_type": "stream",
     "text": [
      "\n",
      "      Epoch    GPU_mem   box_loss   cls_loss   dfl_loss  Instances       Size\n"
     ]
    },
    {
     "name": "stderr",
     "output_type": "stream",
     "text": [
      "     68/100      4.02G     0.3687     0.3109      1.054          8        640: 100%|██████████| 37/37 [00:04<00:00,  7.86it/s]\n",
      "                 Class     Images  Instances      Box(P          R      mAP50  mAP50-95): 100%|██████████| 4/4 [00:00<00:00,  8.29it/s]"
     ]
    },
    {
     "name": "stdout",
     "output_type": "stream",
     "text": [
      "                   all        114        122      0.908      0.902       0.94      0.815\n"
     ]
    },
    {
     "name": "stderr",
     "output_type": "stream",
     "text": [
      "\n"
     ]
    },
    {
     "name": "stdout",
     "output_type": "stream",
     "text": [
      "\n",
      "      Epoch    GPU_mem   box_loss   cls_loss   dfl_loss  Instances       Size\n"
     ]
    },
    {
     "name": "stderr",
     "output_type": "stream",
     "text": [
      "     69/100      4.02G     0.3617      0.304      1.028          8        640: 100%|██████████| 37/37 [00:04<00:00,  7.76it/s]\n",
      "                 Class     Images  Instances      Box(P          R      mAP50  mAP50-95): 100%|██████████| 4/4 [00:00<00:00,  8.45it/s]"
     ]
    },
    {
     "name": "stdout",
     "output_type": "stream",
     "text": [
      "                   all        114        122      0.923       0.91      0.946      0.812\n"
     ]
    },
    {
     "name": "stderr",
     "output_type": "stream",
     "text": [
      "\n"
     ]
    },
    {
     "name": "stdout",
     "output_type": "stream",
     "text": [
      "\n",
      "      Epoch    GPU_mem   box_loss   cls_loss   dfl_loss  Instances       Size\n"
     ]
    },
    {
     "name": "stderr",
     "output_type": "stream",
     "text": [
      "     70/100      4.02G     0.3583     0.2904      1.063          7        640: 100%|██████████| 37/37 [00:04<00:00,  8.25it/s]\n",
      "                 Class     Images  Instances      Box(P          R      mAP50  mAP50-95): 100%|██████████| 4/4 [00:00<00:00,  8.71it/s]"
     ]
    },
    {
     "name": "stdout",
     "output_type": "stream",
     "text": [
      "                   all        114        122       0.93      0.872      0.945      0.823\n"
     ]
    },
    {
     "name": "stderr",
     "output_type": "stream",
     "text": [
      "\n"
     ]
    },
    {
     "name": "stdout",
     "output_type": "stream",
     "text": [
      "\n",
      "      Epoch    GPU_mem   box_loss   cls_loss   dfl_loss  Instances       Size\n"
     ]
    },
    {
     "name": "stderr",
     "output_type": "stream",
     "text": [
      "     71/100      4.02G     0.3555     0.3049      1.055          4        640: 100%|██████████| 37/37 [00:04<00:00,  8.04it/s]\n",
      "                 Class     Images  Instances      Box(P          R      mAP50  mAP50-95): 100%|██████████| 4/4 [00:00<00:00,  8.56it/s]"
     ]
    },
    {
     "name": "stdout",
     "output_type": "stream",
     "text": [
      "                   all        114        122      0.898      0.864      0.941      0.811\n"
     ]
    },
    {
     "name": "stderr",
     "output_type": "stream",
     "text": [
      "\n"
     ]
    },
    {
     "name": "stdout",
     "output_type": "stream",
     "text": [
      "\n",
      "      Epoch    GPU_mem   box_loss   cls_loss   dfl_loss  Instances       Size\n"
     ]
    },
    {
     "name": "stderr",
     "output_type": "stream",
     "text": [
      "     72/100      4.02G     0.3427     0.2818      1.031          9        640: 100%|██████████| 37/37 [00:04<00:00,  7.79it/s]\n",
      "                 Class     Images  Instances      Box(P          R      mAP50  mAP50-95): 100%|██████████| 4/4 [00:00<00:00,  8.41it/s]"
     ]
    },
    {
     "name": "stdout",
     "output_type": "stream",
     "text": [
      "                   all        114        122      0.923      0.877      0.935      0.807\n"
     ]
    },
    {
     "name": "stderr",
     "output_type": "stream",
     "text": [
      "\n"
     ]
    },
    {
     "name": "stdout",
     "output_type": "stream",
     "text": [
      "\n",
      "      Epoch    GPU_mem   box_loss   cls_loss   dfl_loss  Instances       Size\n"
     ]
    },
    {
     "name": "stderr",
     "output_type": "stream",
     "text": [
      "     73/100      4.02G     0.3502     0.3208      1.049          6        640: 100%|██████████| 37/37 [00:04<00:00,  8.30it/s]\n",
      "                 Class     Images  Instances      Box(P          R      mAP50  mAP50-95): 100%|██████████| 4/4 [00:00<00:00,  8.80it/s]"
     ]
    },
    {
     "name": "stdout",
     "output_type": "stream",
     "text": [
      "                   all        114        122      0.859      0.926      0.939      0.799\n"
     ]
    },
    {
     "name": "stderr",
     "output_type": "stream",
     "text": [
      "\n"
     ]
    },
    {
     "name": "stdout",
     "output_type": "stream",
     "text": [
      "\n",
      "      Epoch    GPU_mem   box_loss   cls_loss   dfl_loss  Instances       Size\n"
     ]
    },
    {
     "name": "stderr",
     "output_type": "stream",
     "text": [
      "     74/100      4.02G     0.3485      0.291      1.049          9        640: 100%|██████████| 37/37 [00:04<00:00,  8.32it/s]\n",
      "                 Class     Images  Instances      Box(P          R      mAP50  mAP50-95): 100%|██████████| 4/4 [00:00<00:00,  8.26it/s]"
     ]
    },
    {
     "name": "stdout",
     "output_type": "stream",
     "text": [
      "                   all        114        122      0.901      0.918      0.942      0.795\n"
     ]
    },
    {
     "name": "stderr",
     "output_type": "stream",
     "text": [
      "\n"
     ]
    },
    {
     "name": "stdout",
     "output_type": "stream",
     "text": [
      "\n",
      "      Epoch    GPU_mem   box_loss   cls_loss   dfl_loss  Instances       Size\n"
     ]
    },
    {
     "name": "stderr",
     "output_type": "stream",
     "text": [
      "     75/100      4.02G     0.3591     0.3102       1.04          7        640: 100%|██████████| 37/37 [00:04<00:00,  8.34it/s]\n",
      "                 Class     Images  Instances      Box(P          R      mAP50  mAP50-95): 100%|██████████| 4/4 [00:00<00:00,  8.64it/s]"
     ]
    },
    {
     "name": "stdout",
     "output_type": "stream",
     "text": [
      "                   all        114        122      0.907      0.926      0.947      0.806\n"
     ]
    },
    {
     "name": "stderr",
     "output_type": "stream",
     "text": [
      "\n"
     ]
    },
    {
     "name": "stdout",
     "output_type": "stream",
     "text": [
      "\n",
      "      Epoch    GPU_mem   box_loss   cls_loss   dfl_loss  Instances       Size\n"
     ]
    },
    {
     "name": "stderr",
     "output_type": "stream",
     "text": [
      "     76/100      4.02G     0.3386     0.2874      1.034          9        640: 100%|██████████| 37/37 [00:04<00:00,  8.15it/s]\n",
      "                 Class     Images  Instances      Box(P          R      mAP50  mAP50-95): 100%|██████████| 4/4 [00:00<00:00,  8.67it/s]"
     ]
    },
    {
     "name": "stdout",
     "output_type": "stream",
     "text": [
      "                   all        114        122      0.906      0.902      0.937      0.806\n"
     ]
    },
    {
     "name": "stderr",
     "output_type": "stream",
     "text": [
      "\n"
     ]
    },
    {
     "name": "stdout",
     "output_type": "stream",
     "text": [
      "\n",
      "      Epoch    GPU_mem   box_loss   cls_loss   dfl_loss  Instances       Size\n"
     ]
    },
    {
     "name": "stderr",
     "output_type": "stream",
     "text": [
      "     77/100      4.02G     0.3187     0.2667      1.028         11        640: 100%|██████████| 37/37 [00:04<00:00,  8.36it/s]\n",
      "                 Class     Images  Instances      Box(P          R      mAP50  mAP50-95): 100%|██████████| 4/4 [00:00<00:00,  8.10it/s]"
     ]
    },
    {
     "name": "stdout",
     "output_type": "stream",
     "text": [
      "                   all        114        122      0.909      0.885       0.94      0.809\n"
     ]
    },
    {
     "name": "stderr",
     "output_type": "stream",
     "text": [
      "\n"
     ]
    },
    {
     "name": "stdout",
     "output_type": "stream",
     "text": [
      "\n",
      "      Epoch    GPU_mem   box_loss   cls_loss   dfl_loss  Instances       Size\n"
     ]
    },
    {
     "name": "stderr",
     "output_type": "stream",
     "text": [
      "     78/100      4.02G     0.3255     0.2732      1.037         10        640: 100%|██████████| 37/37 [00:04<00:00,  8.14it/s]\n",
      "                 Class     Images  Instances      Box(P          R      mAP50  mAP50-95): 100%|██████████| 4/4 [00:00<00:00,  8.74it/s]"
     ]
    },
    {
     "name": "stdout",
     "output_type": "stream",
     "text": [
      "                   all        114        122      0.908      0.902      0.941      0.809\n"
     ]
    },
    {
     "name": "stderr",
     "output_type": "stream",
     "text": [
      "\n"
     ]
    },
    {
     "name": "stdout",
     "output_type": "stream",
     "text": [
      "\n",
      "      Epoch    GPU_mem   box_loss   cls_loss   dfl_loss  Instances       Size\n"
     ]
    },
    {
     "name": "stderr",
     "output_type": "stream",
     "text": [
      "     79/100      4.02G      0.321     0.2788      1.022         10        640: 100%|██████████| 37/37 [00:04<00:00,  8.27it/s]\n",
      "                 Class     Images  Instances      Box(P          R      mAP50  mAP50-95): 100%|██████████| 4/4 [00:00<00:00,  9.15it/s]"
     ]
    },
    {
     "name": "stdout",
     "output_type": "stream",
     "text": [
      "                   all        114        122      0.903      0.902      0.946      0.811\n"
     ]
    },
    {
     "name": "stderr",
     "output_type": "stream",
     "text": [
      "\n"
     ]
    },
    {
     "name": "stdout",
     "output_type": "stream",
     "text": [
      "\n",
      "      Epoch    GPU_mem   box_loss   cls_loss   dfl_loss  Instances       Size\n"
     ]
    },
    {
     "name": "stderr",
     "output_type": "stream",
     "text": [
      "     80/100      4.02G     0.3234     0.2618      1.029          6        640: 100%|██████████| 37/37 [00:04<00:00,  8.37it/s]\n",
      "                 Class     Images  Instances      Box(P          R      mAP50  mAP50-95): 100%|██████████| 4/4 [00:00<00:00,  8.58it/s]"
     ]
    },
    {
     "name": "stdout",
     "output_type": "stream",
     "text": [
      "                   all        114        122      0.895      0.926      0.947      0.821\n"
     ]
    },
    {
     "name": "stderr",
     "output_type": "stream",
     "text": [
      "\n"
     ]
    },
    {
     "name": "stdout",
     "output_type": "stream",
     "text": [
      "\n",
      "      Epoch    GPU_mem   box_loss   cls_loss   dfl_loss  Instances       Size\n"
     ]
    },
    {
     "name": "stderr",
     "output_type": "stream",
     "text": [
      "     81/100      4.02G     0.3147     0.2772      1.024         10        640: 100%|██████████| 37/37 [00:04<00:00,  7.99it/s]\n",
      "                 Class     Images  Instances      Box(P          R      mAP50  mAP50-95): 100%|██████████| 4/4 [00:00<00:00,  8.42it/s]"
     ]
    },
    {
     "name": "stdout",
     "output_type": "stream",
     "text": [
      "                   all        114        122       0.91      0.909      0.947       0.82\n"
     ]
    },
    {
     "name": "stderr",
     "output_type": "stream",
     "text": [
      "\n"
     ]
    },
    {
     "name": "stdout",
     "output_type": "stream",
     "text": [
      "\n",
      "      Epoch    GPU_mem   box_loss   cls_loss   dfl_loss  Instances       Size\n"
     ]
    },
    {
     "name": "stderr",
     "output_type": "stream",
     "text": [
      "     82/100      4.02G     0.3141     0.2721      1.013          5        640: 100%|██████████| 37/37 [00:04<00:00,  8.15it/s]\n",
      "                 Class     Images  Instances      Box(P          R      mAP50  mAP50-95): 100%|██████████| 4/4 [00:00<00:00,  8.69it/s]"
     ]
    },
    {
     "name": "stdout",
     "output_type": "stream",
     "text": [
      "                   all        114        122      0.894       0.91      0.948      0.821\n"
     ]
    },
    {
     "name": "stderr",
     "output_type": "stream",
     "text": [
      "\n"
     ]
    },
    {
     "name": "stdout",
     "output_type": "stream",
     "text": [
      "\n",
      "      Epoch    GPU_mem   box_loss   cls_loss   dfl_loss  Instances       Size\n"
     ]
    },
    {
     "name": "stderr",
     "output_type": "stream",
     "text": [
      "     83/100      4.02G      0.313     0.2558      1.021          9        640: 100%|██████████| 37/37 [00:04<00:00,  8.09it/s]\n",
      "                 Class     Images  Instances      Box(P          R      mAP50  mAP50-95): 100%|██████████| 4/4 [00:00<00:00,  8.50it/s]"
     ]
    },
    {
     "name": "stdout",
     "output_type": "stream",
     "text": [
      "                   all        114        122       0.91      0.893       0.94      0.802\n"
     ]
    },
    {
     "name": "stderr",
     "output_type": "stream",
     "text": [
      "\n"
     ]
    },
    {
     "name": "stdout",
     "output_type": "stream",
     "text": [
      "\n",
      "      Epoch    GPU_mem   box_loss   cls_loss   dfl_loss  Instances       Size\n"
     ]
    },
    {
     "name": "stderr",
     "output_type": "stream",
     "text": [
      "     84/100      4.02G     0.3229     0.2569      1.023          9        640: 100%|██████████| 37/37 [00:04<00:00,  8.19it/s]\n",
      "                 Class     Images  Instances      Box(P          R      mAP50  mAP50-95): 100%|██████████| 4/4 [00:00<00:00,  8.66it/s]"
     ]
    },
    {
     "name": "stdout",
     "output_type": "stream",
     "text": [
      "                   all        114        122       0.91      0.926      0.948      0.825\n"
     ]
    },
    {
     "name": "stderr",
     "output_type": "stream",
     "text": [
      "\n"
     ]
    },
    {
     "name": "stdout",
     "output_type": "stream",
     "text": [
      "\n",
      "      Epoch    GPU_mem   box_loss   cls_loss   dfl_loss  Instances       Size\n"
     ]
    },
    {
     "name": "stderr",
     "output_type": "stream",
     "text": [
      "     85/100      4.02G     0.3217     0.2629      1.014          6        640: 100%|██████████| 37/37 [00:04<00:00,  8.03it/s]\n",
      "                 Class     Images  Instances      Box(P          R      mAP50  mAP50-95): 100%|██████████| 4/4 [00:00<00:00,  8.38it/s]"
     ]
    },
    {
     "name": "stdout",
     "output_type": "stream",
     "text": [
      "                   all        114        122      0.909       0.91      0.946      0.819\n"
     ]
    },
    {
     "name": "stderr",
     "output_type": "stream",
     "text": [
      "\n"
     ]
    },
    {
     "name": "stdout",
     "output_type": "stream",
     "text": [
      "\n",
      "      Epoch    GPU_mem   box_loss   cls_loss   dfl_loss  Instances       Size\n"
     ]
    },
    {
     "name": "stderr",
     "output_type": "stream",
     "text": [
      "     86/100      4.02G     0.3144     0.2576      1.016         11        640: 100%|██████████| 37/37 [00:04<00:00,  8.23it/s]\n",
      "                 Class     Images  Instances      Box(P          R      mAP50  mAP50-95): 100%|██████████| 4/4 [00:00<00:00,  8.68it/s]"
     ]
    },
    {
     "name": "stdout",
     "output_type": "stream",
     "text": [
      "                   all        114        122      0.914      0.893      0.948      0.825\n"
     ]
    },
    {
     "name": "stderr",
     "output_type": "stream",
     "text": [
      "\n"
     ]
    },
    {
     "name": "stdout",
     "output_type": "stream",
     "text": [
      "\n",
      "      Epoch    GPU_mem   box_loss   cls_loss   dfl_loss  Instances       Size\n"
     ]
    },
    {
     "name": "stderr",
     "output_type": "stream",
     "text": [
      "     87/100      4.02G     0.3391       0.27       1.04          8        640: 100%|██████████| 37/37 [00:04<00:00,  8.04it/s]\n",
      "                 Class     Images  Instances      Box(P          R      mAP50  mAP50-95): 100%|██████████| 4/4 [00:00<00:00,  8.78it/s]"
     ]
    },
    {
     "name": "stdout",
     "output_type": "stream",
     "text": [
      "                   all        114        122      0.924      0.893      0.939      0.816\n"
     ]
    },
    {
     "name": "stderr",
     "output_type": "stream",
     "text": [
      "\n"
     ]
    },
    {
     "name": "stdout",
     "output_type": "stream",
     "text": [
      "\n",
      "      Epoch    GPU_mem   box_loss   cls_loss   dfl_loss  Instances       Size\n"
     ]
    },
    {
     "name": "stderr",
     "output_type": "stream",
     "text": [
      "     88/100      4.02G     0.3051     0.2532      1.014          5        640: 100%|██████████| 37/37 [00:04<00:00,  8.32it/s]\n",
      "                 Class     Images  Instances      Box(P          R      mAP50  mAP50-95): 100%|██████████| 4/4 [00:00<00:00,  8.54it/s]"
     ]
    },
    {
     "name": "stdout",
     "output_type": "stream",
     "text": [
      "                   all        114        122      0.947      0.873      0.948       0.82\n"
     ]
    },
    {
     "name": "stderr",
     "output_type": "stream",
     "text": [
      "\n"
     ]
    },
    {
     "name": "stdout",
     "output_type": "stream",
     "text": [
      "\n",
      "      Epoch    GPU_mem   box_loss   cls_loss   dfl_loss  Instances       Size\n"
     ]
    },
    {
     "name": "stderr",
     "output_type": "stream",
     "text": [
      "     89/100      4.02G      0.292     0.2391      1.007         11        640: 100%|██████████| 37/37 [00:04<00:00,  8.31it/s]\n",
      "                 Class     Images  Instances      Box(P          R      mAP50  mAP50-95): 100%|██████████| 4/4 [00:00<00:00,  8.75it/s]"
     ]
    },
    {
     "name": "stdout",
     "output_type": "stream",
     "text": [
      "                   all        114        122       0.94      0.891       0.95      0.826\n"
     ]
    },
    {
     "name": "stderr",
     "output_type": "stream",
     "text": [
      "\n"
     ]
    },
    {
     "name": "stdout",
     "output_type": "stream",
     "text": [
      "\n",
      "      Epoch    GPU_mem   box_loss   cls_loss   dfl_loss  Instances       Size\n"
     ]
    },
    {
     "name": "stderr",
     "output_type": "stream",
     "text": [
      "     90/100      4.02G      0.289     0.2369      1.011         10        640: 100%|██████████| 37/37 [00:04<00:00,  8.20it/s]\n",
      "                 Class     Images  Instances      Box(P          R      mAP50  mAP50-95): 100%|██████████| 4/4 [00:00<00:00,  8.83it/s]"
     ]
    },
    {
     "name": "stdout",
     "output_type": "stream",
     "text": [
      "                   all        114        122      0.968      0.869      0.948      0.826\n"
     ]
    },
    {
     "name": "stderr",
     "output_type": "stream",
     "text": [
      "\n"
     ]
    },
    {
     "name": "stdout",
     "output_type": "stream",
     "text": [
      "Closing dataloader mosaic\n",
      "\u001b[34m\u001b[1malbumentations: \u001b[0mBlur(p=0.01, blur_limit=(3, 7)), MedianBlur(p=0.01, blur_limit=(3, 7)), ToGray(p=0.01, num_output_channels=3, method='weighted_average'), CLAHE(p=0.01, clip_limit=(1.0, 4.0), tile_grid_size=(8, 8))\n",
      "\n",
      "      Epoch    GPU_mem   box_loss   cls_loss   dfl_loss  Instances       Size\n"
     ]
    },
    {
     "name": "stderr",
     "output_type": "stream",
     "text": [
      "     91/100      4.02G     0.3841     0.4534      1.114          3        640: 100%|██████████| 37/37 [00:05<00:00,  7.32it/s]\n",
      "                 Class     Images  Instances      Box(P          R      mAP50  mAP50-95): 100%|██████████| 4/4 [00:00<00:00,  8.57it/s]"
     ]
    },
    {
     "name": "stdout",
     "output_type": "stream",
     "text": [
      "                   all        114        122      0.902      0.926      0.945      0.823\n"
     ]
    },
    {
     "name": "stderr",
     "output_type": "stream",
     "text": [
      "\n"
     ]
    },
    {
     "name": "stdout",
     "output_type": "stream",
     "text": [
      "\n",
      "      Epoch    GPU_mem   box_loss   cls_loss   dfl_loss  Instances       Size\n"
     ]
    },
    {
     "name": "stderr",
     "output_type": "stream",
     "text": [
      "     92/100      4.02G     0.3257      0.234      1.042          3        640: 100%|██████████| 37/37 [00:04<00:00,  8.19it/s]\n",
      "                 Class     Images  Instances      Box(P          R      mAP50  mAP50-95): 100%|██████████| 4/4 [00:00<00:00,  7.96it/s]"
     ]
    },
    {
     "name": "stdout",
     "output_type": "stream",
     "text": [
      "                   all        114        122      0.907       0.91      0.944      0.816\n"
     ]
    },
    {
     "name": "stderr",
     "output_type": "stream",
     "text": [
      "\n"
     ]
    },
    {
     "name": "stdout",
     "output_type": "stream",
     "text": [
      "\n",
      "      Epoch    GPU_mem   box_loss   cls_loss   dfl_loss  Instances       Size\n"
     ]
    },
    {
     "name": "stderr",
     "output_type": "stream",
     "text": [
      "     93/100      4.02G     0.3205     0.2435      1.038          3        640: 100%|██████████| 37/37 [00:04<00:00,  8.24it/s]\n",
      "                 Class     Images  Instances      Box(P          R      mAP50  mAP50-95): 100%|██████████| 4/4 [00:00<00:00,  8.62it/s]"
     ]
    },
    {
     "name": "stdout",
     "output_type": "stream",
     "text": [
      "                   all        114        122      0.903      0.911      0.945      0.811\n"
     ]
    },
    {
     "name": "stderr",
     "output_type": "stream",
     "text": [
      "\n"
     ]
    },
    {
     "name": "stdout",
     "output_type": "stream",
     "text": [
      "\n",
      "      Epoch    GPU_mem   box_loss   cls_loss   dfl_loss  Instances       Size\n"
     ]
    },
    {
     "name": "stderr",
     "output_type": "stream",
     "text": [
      "     94/100      4.02G     0.3015      0.234      1.024          3        640: 100%|██████████| 37/37 [00:04<00:00,  8.30it/s]\n",
      "                 Class     Images  Instances      Box(P          R      mAP50  mAP50-95): 100%|██████████| 4/4 [00:00<00:00,  8.72it/s]"
     ]
    },
    {
     "name": "stdout",
     "output_type": "stream",
     "text": [
      "                   all        114        122      0.904      0.923      0.947      0.816\n"
     ]
    },
    {
     "name": "stderr",
     "output_type": "stream",
     "text": [
      "\n"
     ]
    },
    {
     "name": "stdout",
     "output_type": "stream",
     "text": [
      "\n",
      "      Epoch    GPU_mem   box_loss   cls_loss   dfl_loss  Instances       Size\n"
     ]
    },
    {
     "name": "stderr",
     "output_type": "stream",
     "text": [
      "     95/100      4.02G     0.2832     0.2109      1.021          3        640: 100%|██████████| 37/37 [00:04<00:00,  8.28it/s]\n",
      "                 Class     Images  Instances      Box(P          R      mAP50  mAP50-95): 100%|██████████| 4/4 [00:00<00:00,  8.65it/s]"
     ]
    },
    {
     "name": "stdout",
     "output_type": "stream",
     "text": [
      "                   all        114        122      0.902      0.926      0.946      0.813\n"
     ]
    },
    {
     "name": "stderr",
     "output_type": "stream",
     "text": [
      "\n"
     ]
    },
    {
     "name": "stdout",
     "output_type": "stream",
     "text": [
      "\n",
      "      Epoch    GPU_mem   box_loss   cls_loss   dfl_loss  Instances       Size\n"
     ]
    },
    {
     "name": "stderr",
     "output_type": "stream",
     "text": [
      "     96/100      4.02G     0.3014     0.2222      1.041          2        640: 100%|██████████| 37/37 [00:04<00:00,  8.48it/s]\n",
      "                 Class     Images  Instances      Box(P          R      mAP50  mAP50-95): 100%|██████████| 4/4 [00:00<00:00,  8.79it/s]"
     ]
    },
    {
     "name": "stdout",
     "output_type": "stream",
     "text": [
      "                   all        114        122      0.888      0.926      0.944      0.814\n"
     ]
    },
    {
     "name": "stderr",
     "output_type": "stream",
     "text": [
      "\n"
     ]
    },
    {
     "name": "stdout",
     "output_type": "stream",
     "text": [
      "\n",
      "      Epoch    GPU_mem   box_loss   cls_loss   dfl_loss  Instances       Size\n"
     ]
    },
    {
     "name": "stderr",
     "output_type": "stream",
     "text": [
      "     97/100      4.02G     0.2965     0.2095      1.045          3        640: 100%|██████████| 37/37 [00:04<00:00,  8.32it/s]\n",
      "                 Class     Images  Instances      Box(P          R      mAP50  mAP50-95): 100%|██████████| 4/4 [00:00<00:00,  8.54it/s]"
     ]
    },
    {
     "name": "stdout",
     "output_type": "stream",
     "text": [
      "                   all        114        122      0.916      0.898      0.947      0.818\n"
     ]
    },
    {
     "name": "stderr",
     "output_type": "stream",
     "text": [
      "\n"
     ]
    },
    {
     "name": "stdout",
     "output_type": "stream",
     "text": [
      "\n",
      "      Epoch    GPU_mem   box_loss   cls_loss   dfl_loss  Instances       Size\n"
     ]
    },
    {
     "name": "stderr",
     "output_type": "stream",
     "text": [
      "     98/100      4.02G     0.2898     0.2183      1.024          3        640: 100%|██████████| 37/37 [00:04<00:00,  8.31it/s]\n",
      "                 Class     Images  Instances      Box(P          R      mAP50  mAP50-95): 100%|██████████| 4/4 [00:00<00:00,  8.75it/s]"
     ]
    },
    {
     "name": "stdout",
     "output_type": "stream",
     "text": [
      "                   all        114        122      0.889      0.926       0.95      0.815\n"
     ]
    },
    {
     "name": "stderr",
     "output_type": "stream",
     "text": [
      "\n"
     ]
    },
    {
     "name": "stdout",
     "output_type": "stream",
     "text": [
      "\n",
      "      Epoch    GPU_mem   box_loss   cls_loss   dfl_loss  Instances       Size\n"
     ]
    },
    {
     "name": "stderr",
     "output_type": "stream",
     "text": [
      "     99/100      4.02G     0.2711     0.2069      1.031          3        640: 100%|██████████| 37/37 [00:04<00:00,  8.26it/s]\n",
      "                 Class     Images  Instances      Box(P          R      mAP50  mAP50-95): 100%|██████████| 4/4 [00:00<00:00,  8.46it/s]"
     ]
    },
    {
     "name": "stdout",
     "output_type": "stream",
     "text": [
      "                   all        114        122      0.895      0.918      0.945      0.813\n"
     ]
    },
    {
     "name": "stderr",
     "output_type": "stream",
     "text": [
      "\n"
     ]
    },
    {
     "name": "stdout",
     "output_type": "stream",
     "text": [
      "\n",
      "      Epoch    GPU_mem   box_loss   cls_loss   dfl_loss  Instances       Size\n"
     ]
    },
    {
     "name": "stderr",
     "output_type": "stream",
     "text": [
      "    100/100      4.02G     0.2829     0.2105      1.024          3        640: 100%|██████████| 37/37 [00:04<00:00,  8.29it/s]\n",
      "                 Class     Images  Instances      Box(P          R      mAP50  mAP50-95): 100%|██████████| 4/4 [00:00<00:00,  8.65it/s]"
     ]
    },
    {
     "name": "stdout",
     "output_type": "stream",
     "text": [
      "                   all        114        122       0.89      0.918      0.945      0.813\n"
     ]
    },
    {
     "name": "stderr",
     "output_type": "stream",
     "text": [
      "\n"
     ]
    },
    {
     "name": "stdout",
     "output_type": "stream",
     "text": [
      "\n",
      "100 epochs completed in 0.159 hours.\n",
      "Optimizer stripped from runs\\detect\\train3\\weights\\last.pt, 5.5MB\n",
      "Optimizer stripped from runs\\detect\\train3\\weights\\best.pt, 5.5MB\n",
      "\n",
      "Validating runs\\detect\\train3\\weights\\best.pt...\n",
      "Ultralytics 8.3.107  Python-3.9.21 torch-2.8.0.dev20250410+cu128 CUDA:0 (NVIDIA GeForce RTX 5070, 12227MiB)\n",
      "YOLOv12n summary (fused): 159 layers, 2,557,118 parameters, 0 gradients, 6.3 GFLOPs\n"
     ]
    },
    {
     "name": "stderr",
     "output_type": "stream",
     "text": [
      "                 Class     Images  Instances      Box(P          R      mAP50  mAP50-95): 100%|██████████| 4/4 [00:00<00:00,  5.68it/s]\n"
     ]
    },
    {
     "name": "stdout",
     "output_type": "stream",
     "text": [
      "                   all        114        122      0.909       0.91      0.948      0.826\n",
      "          license-plat        114        122      0.909       0.91      0.948      0.826\n",
      "Speed: 0.1ms preprocess, 1.6ms inference, 0.0ms loss, 0.9ms postprocess per image\n",
      "Results saved to \u001b[1mruns\\detect\\train3\u001b[0m\n"
     ]
    },
    {
     "data": {
      "text/plain": [
       "ultralytics.utils.metrics.DetMetrics object with attributes:\n",
       "\n",
       "ap_class_index: array([0])\n",
       "box: ultralytics.utils.metrics.Metric object\n",
       "confusion_matrix: <ultralytics.utils.metrics.ConfusionMatrix object at 0x000001B1C6756F40>\n",
       "curves: ['Precision-Recall(B)', 'F1-Confidence(B)', 'Precision-Confidence(B)', 'Recall-Confidence(B)']\n",
       "curves_results: [[array([          0,    0.001001,    0.002002,    0.003003,    0.004004,    0.005005,    0.006006,    0.007007,    0.008008,    0.009009,     0.01001,    0.011011,    0.012012,    0.013013,    0.014014,    0.015015,    0.016016,    0.017017,    0.018018,    0.019019,     0.02002,    0.021021,    0.022022,    0.023023,\n",
       "          0.024024,    0.025025,    0.026026,    0.027027,    0.028028,    0.029029,     0.03003,    0.031031,    0.032032,    0.033033,    0.034034,    0.035035,    0.036036,    0.037037,    0.038038,    0.039039,     0.04004,    0.041041,    0.042042,    0.043043,    0.044044,    0.045045,    0.046046,    0.047047,\n",
       "          0.048048,    0.049049,     0.05005,    0.051051,    0.052052,    0.053053,    0.054054,    0.055055,    0.056056,    0.057057,    0.058058,    0.059059,     0.06006,    0.061061,    0.062062,    0.063063,    0.064064,    0.065065,    0.066066,    0.067067,    0.068068,    0.069069,     0.07007,    0.071071,\n",
       "          0.072072,    0.073073,    0.074074,    0.075075,    0.076076,    0.077077,    0.078078,    0.079079,     0.08008,    0.081081,    0.082082,    0.083083,    0.084084,    0.085085,    0.086086,    0.087087,    0.088088,    0.089089,     0.09009,    0.091091,    0.092092,    0.093093,    0.094094,    0.095095,\n",
       "          0.096096,    0.097097,    0.098098,    0.099099,      0.1001,      0.1011,      0.1021,      0.1031,      0.1041,     0.10511,     0.10611,     0.10711,     0.10811,     0.10911,     0.11011,     0.11111,     0.11211,     0.11311,     0.11411,     0.11512,     0.11612,     0.11712,     0.11812,     0.11912,\n",
       "           0.12012,     0.12112,     0.12212,     0.12312,     0.12412,     0.12513,     0.12613,     0.12713,     0.12813,     0.12913,     0.13013,     0.13113,     0.13213,     0.13313,     0.13413,     0.13514,     0.13614,     0.13714,     0.13814,     0.13914,     0.14014,     0.14114,     0.14214,     0.14314,\n",
       "           0.14414,     0.14515,     0.14615,     0.14715,     0.14815,     0.14915,     0.15015,     0.15115,     0.15215,     0.15315,     0.15415,     0.15516,     0.15616,     0.15716,     0.15816,     0.15916,     0.16016,     0.16116,     0.16216,     0.16316,     0.16416,     0.16517,     0.16617,     0.16717,\n",
       "           0.16817,     0.16917,     0.17017,     0.17117,     0.17217,     0.17317,     0.17417,     0.17518,     0.17618,     0.17718,     0.17818,     0.17918,     0.18018,     0.18118,     0.18218,     0.18318,     0.18418,     0.18519,     0.18619,     0.18719,     0.18819,     0.18919,     0.19019,     0.19119,\n",
       "           0.19219,     0.19319,     0.19419,      0.1952,      0.1962,      0.1972,      0.1982,      0.1992,      0.2002,      0.2012,      0.2022,      0.2032,      0.2042,     0.20521,     0.20621,     0.20721,     0.20821,     0.20921,     0.21021,     0.21121,     0.21221,     0.21321,     0.21421,     0.21522,\n",
       "           0.21622,     0.21722,     0.21822,     0.21922,     0.22022,     0.22122,     0.22222,     0.22322,     0.22422,     0.22523,     0.22623,     0.22723,     0.22823,     0.22923,     0.23023,     0.23123,     0.23223,     0.23323,     0.23423,     0.23524,     0.23624,     0.23724,     0.23824,     0.23924,\n",
       "           0.24024,     0.24124,     0.24224,     0.24324,     0.24424,     0.24525,     0.24625,     0.24725,     0.24825,     0.24925,     0.25025,     0.25125,     0.25225,     0.25325,     0.25425,     0.25526,     0.25626,     0.25726,     0.25826,     0.25926,     0.26026,     0.26126,     0.26226,     0.26326,\n",
       "           0.26426,     0.26527,     0.26627,     0.26727,     0.26827,     0.26927,     0.27027,     0.27127,     0.27227,     0.27327,     0.27427,     0.27528,     0.27628,     0.27728,     0.27828,     0.27928,     0.28028,     0.28128,     0.28228,     0.28328,     0.28428,     0.28529,     0.28629,     0.28729,\n",
       "           0.28829,     0.28929,     0.29029,     0.29129,     0.29229,     0.29329,     0.29429,      0.2953,      0.2963,      0.2973,      0.2983,      0.2993,      0.3003,      0.3013,      0.3023,      0.3033,      0.3043,     0.30531,     0.30631,     0.30731,     0.30831,     0.30931,     0.31031,     0.31131,\n",
       "           0.31231,     0.31331,     0.31431,     0.31532,     0.31632,     0.31732,     0.31832,     0.31932,     0.32032,     0.32132,     0.32232,     0.32332,     0.32432,     0.32533,     0.32633,     0.32733,     0.32833,     0.32933,     0.33033,     0.33133,     0.33233,     0.33333,     0.33433,     0.33534,\n",
       "           0.33634,     0.33734,     0.33834,     0.33934,     0.34034,     0.34134,     0.34234,     0.34334,     0.34434,     0.34535,     0.34635,     0.34735,     0.34835,     0.34935,     0.35035,     0.35135,     0.35235,     0.35335,     0.35435,     0.35536,     0.35636,     0.35736,     0.35836,     0.35936,\n",
       "           0.36036,     0.36136,     0.36236,     0.36336,     0.36436,     0.36537,     0.36637,     0.36737,     0.36837,     0.36937,     0.37037,     0.37137,     0.37237,     0.37337,     0.37437,     0.37538,     0.37638,     0.37738,     0.37838,     0.37938,     0.38038,     0.38138,     0.38238,     0.38338,\n",
       "           0.38438,     0.38539,     0.38639,     0.38739,     0.38839,     0.38939,     0.39039,     0.39139,     0.39239,     0.39339,     0.39439,      0.3954,      0.3964,      0.3974,      0.3984,      0.3994,      0.4004,      0.4014,      0.4024,      0.4034,      0.4044,     0.40541,     0.40641,     0.40741,\n",
       "           0.40841,     0.40941,     0.41041,     0.41141,     0.41241,     0.41341,     0.41441,     0.41542,     0.41642,     0.41742,     0.41842,     0.41942,     0.42042,     0.42142,     0.42242,     0.42342,     0.42442,     0.42543,     0.42643,     0.42743,     0.42843,     0.42943,     0.43043,     0.43143,\n",
       "           0.43243,     0.43343,     0.43443,     0.43544,     0.43644,     0.43744,     0.43844,     0.43944,     0.44044,     0.44144,     0.44244,     0.44344,     0.44444,     0.44545,     0.44645,     0.44745,     0.44845,     0.44945,     0.45045,     0.45145,     0.45245,     0.45345,     0.45445,     0.45546,\n",
       "           0.45646,     0.45746,     0.45846,     0.45946,     0.46046,     0.46146,     0.46246,     0.46346,     0.46446,     0.46547,     0.46647,     0.46747,     0.46847,     0.46947,     0.47047,     0.47147,     0.47247,     0.47347,     0.47447,     0.47548,     0.47648,     0.47748,     0.47848,     0.47948,\n",
       "           0.48048,     0.48148,     0.48248,     0.48348,     0.48448,     0.48549,     0.48649,     0.48749,     0.48849,     0.48949,     0.49049,     0.49149,     0.49249,     0.49349,     0.49449,      0.4955,      0.4965,      0.4975,      0.4985,      0.4995,      0.5005,      0.5015,      0.5025,      0.5035,\n",
       "            0.5045,     0.50551,     0.50651,     0.50751,     0.50851,     0.50951,     0.51051,     0.51151,     0.51251,     0.51351,     0.51451,     0.51552,     0.51652,     0.51752,     0.51852,     0.51952,     0.52052,     0.52152,     0.52252,     0.52352,     0.52452,     0.52553,     0.52653,     0.52753,\n",
       "           0.52853,     0.52953,     0.53053,     0.53153,     0.53253,     0.53353,     0.53453,     0.53554,     0.53654,     0.53754,     0.53854,     0.53954,     0.54054,     0.54154,     0.54254,     0.54354,     0.54454,     0.54555,     0.54655,     0.54755,     0.54855,     0.54955,     0.55055,     0.55155,\n",
       "           0.55255,     0.55355,     0.55455,     0.55556,     0.55656,     0.55756,     0.55856,     0.55956,     0.56056,     0.56156,     0.56256,     0.56356,     0.56456,     0.56557,     0.56657,     0.56757,     0.56857,     0.56957,     0.57057,     0.57157,     0.57257,     0.57357,     0.57457,     0.57558,\n",
       "           0.57658,     0.57758,     0.57858,     0.57958,     0.58058,     0.58158,     0.58258,     0.58358,     0.58458,     0.58559,     0.58659,     0.58759,     0.58859,     0.58959,     0.59059,     0.59159,     0.59259,     0.59359,     0.59459,      0.5956,      0.5966,      0.5976,      0.5986,      0.5996,\n",
       "            0.6006,      0.6016,      0.6026,      0.6036,      0.6046,     0.60561,     0.60661,     0.60761,     0.60861,     0.60961,     0.61061,     0.61161,     0.61261,     0.61361,     0.61461,     0.61562,     0.61662,     0.61762,     0.61862,     0.61962,     0.62062,     0.62162,     0.62262,     0.62362,\n",
       "           0.62462,     0.62563,     0.62663,     0.62763,     0.62863,     0.62963,     0.63063,     0.63163,     0.63263,     0.63363,     0.63463,     0.63564,     0.63664,     0.63764,     0.63864,     0.63964,     0.64064,     0.64164,     0.64264,     0.64364,     0.64464,     0.64565,     0.64665,     0.64765,\n",
       "           0.64865,     0.64965,     0.65065,     0.65165,     0.65265,     0.65365,     0.65465,     0.65566,     0.65666,     0.65766,     0.65866,     0.65966,     0.66066,     0.66166,     0.66266,     0.66366,     0.66466,     0.66567,     0.66667,     0.66767,     0.66867,     0.66967,     0.67067,     0.67167,\n",
       "           0.67267,     0.67367,     0.67467,     0.67568,     0.67668,     0.67768,     0.67868,     0.67968,     0.68068,     0.68168,     0.68268,     0.68368,     0.68468,     0.68569,     0.68669,     0.68769,     0.68869,     0.68969,     0.69069,     0.69169,     0.69269,     0.69369,     0.69469,      0.6957,\n",
       "            0.6967,      0.6977,      0.6987,      0.6997,      0.7007,      0.7017,      0.7027,      0.7037,      0.7047,     0.70571,     0.70671,     0.70771,     0.70871,     0.70971,     0.71071,     0.71171,     0.71271,     0.71371,     0.71471,     0.71572,     0.71672,     0.71772,     0.71872,     0.71972,\n",
       "           0.72072,     0.72172,     0.72272,     0.72372,     0.72472,     0.72573,     0.72673,     0.72773,     0.72873,     0.72973,     0.73073,     0.73173,     0.73273,     0.73373,     0.73473,     0.73574,     0.73674,     0.73774,     0.73874,     0.73974,     0.74074,     0.74174,     0.74274,     0.74374,\n",
       "           0.74474,     0.74575,     0.74675,     0.74775,     0.74875,     0.74975,     0.75075,     0.75175,     0.75275,     0.75375,     0.75475,     0.75576,     0.75676,     0.75776,     0.75876,     0.75976,     0.76076,     0.76176,     0.76276,     0.76376,     0.76476,     0.76577,     0.76677,     0.76777,\n",
       "           0.76877,     0.76977,     0.77077,     0.77177,     0.77277,     0.77377,     0.77477,     0.77578,     0.77678,     0.77778,     0.77878,     0.77978,     0.78078,     0.78178,     0.78278,     0.78378,     0.78478,     0.78579,     0.78679,     0.78779,     0.78879,     0.78979,     0.79079,     0.79179,\n",
       "           0.79279,     0.79379,     0.79479,      0.7958,      0.7968,      0.7978,      0.7988,      0.7998,      0.8008,      0.8018,      0.8028,      0.8038,      0.8048,     0.80581,     0.80681,     0.80781,     0.80881,     0.80981,     0.81081,     0.81181,     0.81281,     0.81381,     0.81481,     0.81582,\n",
       "           0.81682,     0.81782,     0.81882,     0.81982,     0.82082,     0.82182,     0.82282,     0.82382,     0.82482,     0.82583,     0.82683,     0.82783,     0.82883,     0.82983,     0.83083,     0.83183,     0.83283,     0.83383,     0.83483,     0.83584,     0.83684,     0.83784,     0.83884,     0.83984,\n",
       "           0.84084,     0.84184,     0.84284,     0.84384,     0.84484,     0.84585,     0.84685,     0.84785,     0.84885,     0.84985,     0.85085,     0.85185,     0.85285,     0.85385,     0.85485,     0.85586,     0.85686,     0.85786,     0.85886,     0.85986,     0.86086,     0.86186,     0.86286,     0.86386,\n",
       "           0.86486,     0.86587,     0.86687,     0.86787,     0.86887,     0.86987,     0.87087,     0.87187,     0.87287,     0.87387,     0.87487,     0.87588,     0.87688,     0.87788,     0.87888,     0.87988,     0.88088,     0.88188,     0.88288,     0.88388,     0.88488,     0.88589,     0.88689,     0.88789,\n",
       "           0.88889,     0.88989,     0.89089,     0.89189,     0.89289,     0.89389,     0.89489,      0.8959,      0.8969,      0.8979,      0.8989,      0.8999,      0.9009,      0.9019,      0.9029,      0.9039,      0.9049,     0.90591,     0.90691,     0.90791,     0.90891,     0.90991,     0.91091,     0.91191,\n",
       "           0.91291,     0.91391,     0.91491,     0.91592,     0.91692,     0.91792,     0.91892,     0.91992,     0.92092,     0.92192,     0.92292,     0.92392,     0.92492,     0.92593,     0.92693,     0.92793,     0.92893,     0.92993,     0.93093,     0.93193,     0.93293,     0.93393,     0.93493,     0.93594,\n",
       "           0.93694,     0.93794,     0.93894,     0.93994,     0.94094,     0.94194,     0.94294,     0.94394,     0.94494,     0.94595,     0.94695,     0.94795,     0.94895,     0.94995,     0.95095,     0.95195,     0.95295,     0.95395,     0.95495,     0.95596,     0.95696,     0.95796,     0.95896,     0.95996,\n",
       "           0.96096,     0.96196,     0.96296,     0.96396,     0.96496,     0.96597,     0.96697,     0.96797,     0.96897,     0.96997,     0.97097,     0.97197,     0.97297,     0.97397,     0.97497,     0.97598,     0.97698,     0.97798,     0.97898,     0.97998,     0.98098,     0.98198,     0.98298,     0.98398,\n",
       "           0.98498,     0.98599,     0.98699,     0.98799,     0.98899,     0.98999,     0.99099,     0.99199,     0.99299,     0.99399,     0.99499,       0.996,       0.997,       0.998,       0.999,           1]), array([[          1,           1,           1,           1,           1,           1,           1,           1,           1,           1,           1,           1,           1,           1,           1,           1,           1,           1,           1,           1,           1,           1,           1,\n",
       "                  1,           1,           1,           1,           1,           1,           1,           1,           1,           1,           1,           1,           1,           1,           1,           1,           1,           1,           1,           1,           1,           1,           1,\n",
       "                  1,           1,           1,           1,           1,           1,           1,           1,           1,           1,           1,           1,           1,           1,           1,           1,           1,           1,           1,           1,           1,           1,           1,\n",
       "                  1,           1,           1,           1,           1,           1,           1,           1,           1,           1,           1,           1,           1,           1,           1,           1,           1,           1,           1,           1,           1,           1,           1,\n",
       "                  1,           1,           1,           1,           1,           1,           1,           1,           1,           1,           1,           1,           1,           1,           1,           1,           1,           1,           1,           1,           1,           1,           1,\n",
       "                  1,           1,           1,           1,           1,           1,           1,           1,           1,           1,           1,           1,           1,           1,           1,           1,           1,           1,           1,           1,           1,           1,           1,\n",
       "                  1,           1,           1,           1,           1,           1,           1,           1,           1,           1,           1,           1,           1,           1,           1,           1,           1,           1,           1,           1,           1,           1,           1,\n",
       "                  1,           1,           1,           1,           1,           1,           1,           1,           1,           1,           1,           1,           1,           1,           1,           1,           1,           1,           1,           1,           1,           1,           1,\n",
       "                  1,           1,           1,           1,           1,           1,           1,           1,           1,           1,           1,           1,           1,           1,           1,           1,           1,           1,           1,           1,           1,           1,           1,\n",
       "                  1,           1,           1,           1,           1,           1,           1,           1,           1,           1,           1,           1,           1,           1,           1,           1,           1,           1,           1,           1,           1,           1,           1,\n",
       "                  1,           1,           1,           1,           1,           1,           1,           1,           1,           1,           1,           1,           1,           1,           1,           1,           1,           1,           1,           1,           1,           1,           1,\n",
       "                  1,           1,           1,           1,           1,           1,           1,           1,           1,           1,           1,           1,           1,           1,           1,           1,           1,           1,           1,           1,           1,           1,           1,\n",
       "                  1,           1,           1,           1,           1,           1,           1,           1,           1,           1,           1,           1,           1,           1,           1,           1,           1,           1,           1,           1,           1,           1,           1,\n",
       "                  1,           1,           1,           1,           1,           1,           1,           1,           1,           1,           1,           1,           1,           1,           1,           1,           1,           1,           1,           1,           1,           1,           1,\n",
       "                  1,           1,           1,           1,           1,           1,           1,           1,           1,           1,           1,           1,           1,           1,           1,           1,           1,           1,           1,           1,           1,           1,           1,\n",
       "                  1,           1,           1,           1,           1,           1,           1,           1,           1,           1,           1,           1,           1,           1,           1,           1,           1,           1,           1,           1,           1,           1,           1,\n",
       "                  1,           1,           1,           1,           1,           1,           1,           1,           1,           1,           1,           1,           1,           1,           1,           1,           1,           1,           1,           1,           1,           1,           1,\n",
       "                  1,           1,           1,           1,           1,           1,           1,           1,           1,           1,           1,           1,           1,           1,           1,           1,           1,           1,           1,           1,           1,           1,           1,\n",
       "                  1,           1,           1,           1,           1,           1,           1,           1,           1,           1,           1,           1,           1,           1,           1,           1,           1,           1,           1,           1,           1,           1,           1,\n",
       "                  1,           1,           1,           1,           1,           1,           1,           1,           1,           1,           1,           1,           1,           1,           1,           1,           1,           1,           1,           1,           1,           1,           1,\n",
       "                  1,           1,           1,           1,           1,           1,           1,           1,           1,           1,           1,           1,           1,           1,           1,           1,           1,           1,           1,           1,           1,           1,           1,\n",
       "                  1,           1,           1,           1,           1,           1,           1,           1,           1,           1,           1,           1,           1,           1,           1,           1,           1,           1,           1,           1,           1,           1,           1,\n",
       "                  1,           1,           1,           1,           1,           1,           1,           1,           1,           1,           1,           1,           1,           1,           1,           1,           1,           1,           1,           1,           1,           1,           1,\n",
       "                  1,           1,           1,           1,           1,           1,           1,           1,           1,           1,           1,           1,           1,           1,           1,           1,           1,           1,           1,           1,           1,           1,           1,\n",
       "                  1,           1,           1,           1,           1,           1,           1,           1,           1,           1,           1,           1,           1,           1,           1,           1,           1,           1,           1,           1,           1,           1,           1,\n",
       "                  1,           1,           1,           1,           1,           1,           1,           1,           1,           1,           1,           1,           1,           1,           1,           1,           1,           1,           1,           1,           1,           1,           1,\n",
       "                  1,           1,           1,           1,           1,           1,           1,           1,           1,           1,           1,           1,           1,           1,           1,           1,           1,           1,           1,           1,           1,           1,           1,\n",
       "                  1,           1,           1,           1,           1,           1,           1,           1,           1,           1,           1,           1,           1,           1,           1,           1,           1,           1,           1,           1,           1,           1,           1,\n",
       "                  1,           1,           1,           1,           1,           1,           1,           1,           1,           1,           1,           1,           1,           1,           1,           1,           1,           1,           1,           1,           1,           1,           1,\n",
       "                  1,           1,           1,           1,           1,           1,           1,           1,           1,           1,           1,           1,           1,           1,           1,           1,           1,           1,           1,           1,           1,           1,           1,\n",
       "                  1,           1,           1,           1,           1,           1,           1,           1,           1,           1,           1,           1,           1,           1,           1,           1,           1,           1,           1,           1,           1,           1,           1,\n",
       "                  1,           1,           1,           1,           1,           1,           1,           1,           1,           1,           1,           1,           1,           1,           1,           1,           1,           1,           1,           1,           1,           1,           1,\n",
       "                  1,           1,           1,           1,           1,           1,           1,           1,           1,           1,           1,           1,           1,           1,           1,           1,           1,           1,           1,           1,           1,           1,           1,\n",
       "                  1,           1,           1,           1,           1,           1,           1,           1,           1,           1,           1,           1,           1,           1,           1,           1,           1,           1,           1,     0.99038,     0.99038,     0.99038,     0.99038,\n",
       "            0.99038,     0.99038,     0.99038,     0.99038,     0.99038,     0.99038,     0.99038,     0.99038,     0.99038,     0.99038,     0.99038,     0.99038,     0.99038,     0.99038,     0.99038,     0.99038,     0.99038,     0.99038,     0.99038,     0.99038,     0.99038,     0.99038,     0.99038,\n",
       "            0.99038,     0.99038,     0.99038,     0.99038,     0.99038,     0.99038,     0.99038,     0.99038,     0.99038,     0.99038,     0.99038,     0.99038,     0.99038,     0.99038,     0.99038,     0.99038,     0.99038,     0.99038,     0.99038,     0.99038,     0.99038,     0.99038,     0.99038,\n",
       "            0.99038,     0.99038,     0.99038,     0.99038,     0.99038,     0.99038,     0.99038,     0.99038,     0.99038,     0.99038,     0.99038,     0.99038,     0.99038,     0.99038,     0.99038,     0.99038,     0.98148,     0.98148,     0.98148,     0.98148,     0.98148,     0.98148,     0.98148,\n",
       "            0.98148,     0.98148,     0.98148,     0.98148,     0.98148,     0.98148,     0.98148,     0.98148,     0.98148,     0.98148,     0.98148,     0.98148,     0.98148,     0.98148,     0.98148,     0.98148,     0.98148,     0.93103,     0.93103,     0.93103,     0.93103,     0.93103,     0.93103,\n",
       "            0.93103,     0.93103,     0.93103,     0.93103,     0.93103,     0.93103,     0.93103,     0.93103,     0.93103,     0.93103,     0.93103,     0.92373,     0.92373,     0.92373,     0.92373,     0.92373,     0.92373,     0.92373,     0.92373,     0.91736,     0.91736,     0.91736,     0.91736,\n",
       "            0.91736,     0.91736,     0.91736,     0.91736,     0.91736,     0.91736,     0.91736,     0.91736,     0.91736,     0.91736,     0.91736,     0.91736,     0.90323,     0.90323,     0.90323,     0.90323,     0.90323,     0.90323,     0.90323,     0.90323,     0.90323,     0.88281,     0.88281,\n",
       "            0.88281,     0.88281,     0.88281,     0.88281,     0.88281,     0.88281,     0.84444,     0.84444,     0.84444,     0.84444,     0.84444,     0.84444,     0.84444,     0.84444,     0.76159,     0.76159,     0.76159,     0.76159,     0.76159,     0.76159,     0.76159,     0.76159,     0.48133,\n",
       "            0.48133,     0.48133,     0.48133,     0.48133,     0.48133,     0.48133,     0.48133,     0.40451,     0.39626,       0.388,     0.37975,     0.37149,     0.36324,     0.35498,     0.34672,     0.33847,     0.33021,     0.32196,      0.3137,     0.30545,     0.29719,     0.28894,     0.28068,\n",
       "            0.27243,     0.26417,     0.25592,     0.24766,      0.2394,     0.23115,     0.22289,     0.21464,     0.20638,     0.19813,     0.18987,     0.18162,     0.17336,     0.16511,     0.15685,      0.1486,     0.14034,     0.13209,     0.12383,     0.11557,     0.10732,    0.099064,    0.090809,\n",
       "           0.082553,    0.074298,    0.066043,    0.057787,    0.049532,    0.041277,    0.033021,    0.024766,    0.016511,   0.0082553,           0]]), 'Recall', 'Precision'], [array([          0,    0.001001,    0.002002,    0.003003,    0.004004,    0.005005,    0.006006,    0.007007,    0.008008,    0.009009,     0.01001,    0.011011,    0.012012,    0.013013,    0.014014,    0.015015,    0.016016,    0.017017,    0.018018,    0.019019,     0.02002,    0.021021,    0.022022,    0.023023,\n",
       "          0.024024,    0.025025,    0.026026,    0.027027,    0.028028,    0.029029,     0.03003,    0.031031,    0.032032,    0.033033,    0.034034,    0.035035,    0.036036,    0.037037,    0.038038,    0.039039,     0.04004,    0.041041,    0.042042,    0.043043,    0.044044,    0.045045,    0.046046,    0.047047,\n",
       "          0.048048,    0.049049,     0.05005,    0.051051,    0.052052,    0.053053,    0.054054,    0.055055,    0.056056,    0.057057,    0.058058,    0.059059,     0.06006,    0.061061,    0.062062,    0.063063,    0.064064,    0.065065,    0.066066,    0.067067,    0.068068,    0.069069,     0.07007,    0.071071,\n",
       "          0.072072,    0.073073,    0.074074,    0.075075,    0.076076,    0.077077,    0.078078,    0.079079,     0.08008,    0.081081,    0.082082,    0.083083,    0.084084,    0.085085,    0.086086,    0.087087,    0.088088,    0.089089,     0.09009,    0.091091,    0.092092,    0.093093,    0.094094,    0.095095,\n",
       "          0.096096,    0.097097,    0.098098,    0.099099,      0.1001,      0.1011,      0.1021,      0.1031,      0.1041,     0.10511,     0.10611,     0.10711,     0.10811,     0.10911,     0.11011,     0.11111,     0.11211,     0.11311,     0.11411,     0.11512,     0.11612,     0.11712,     0.11812,     0.11912,\n",
       "           0.12012,     0.12112,     0.12212,     0.12312,     0.12412,     0.12513,     0.12613,     0.12713,     0.12813,     0.12913,     0.13013,     0.13113,     0.13213,     0.13313,     0.13413,     0.13514,     0.13614,     0.13714,     0.13814,     0.13914,     0.14014,     0.14114,     0.14214,     0.14314,\n",
       "           0.14414,     0.14515,     0.14615,     0.14715,     0.14815,     0.14915,     0.15015,     0.15115,     0.15215,     0.15315,     0.15415,     0.15516,     0.15616,     0.15716,     0.15816,     0.15916,     0.16016,     0.16116,     0.16216,     0.16316,     0.16416,     0.16517,     0.16617,     0.16717,\n",
       "           0.16817,     0.16917,     0.17017,     0.17117,     0.17217,     0.17317,     0.17417,     0.17518,     0.17618,     0.17718,     0.17818,     0.17918,     0.18018,     0.18118,     0.18218,     0.18318,     0.18418,     0.18519,     0.18619,     0.18719,     0.18819,     0.18919,     0.19019,     0.19119,\n",
       "           0.19219,     0.19319,     0.19419,      0.1952,      0.1962,      0.1972,      0.1982,      0.1992,      0.2002,      0.2012,      0.2022,      0.2032,      0.2042,     0.20521,     0.20621,     0.20721,     0.20821,     0.20921,     0.21021,     0.21121,     0.21221,     0.21321,     0.21421,     0.21522,\n",
       "           0.21622,     0.21722,     0.21822,     0.21922,     0.22022,     0.22122,     0.22222,     0.22322,     0.22422,     0.22523,     0.22623,     0.22723,     0.22823,     0.22923,     0.23023,     0.23123,     0.23223,     0.23323,     0.23423,     0.23524,     0.23624,     0.23724,     0.23824,     0.23924,\n",
       "           0.24024,     0.24124,     0.24224,     0.24324,     0.24424,     0.24525,     0.24625,     0.24725,     0.24825,     0.24925,     0.25025,     0.25125,     0.25225,     0.25325,     0.25425,     0.25526,     0.25626,     0.25726,     0.25826,     0.25926,     0.26026,     0.26126,     0.26226,     0.26326,\n",
       "           0.26426,     0.26527,     0.26627,     0.26727,     0.26827,     0.26927,     0.27027,     0.27127,     0.27227,     0.27327,     0.27427,     0.27528,     0.27628,     0.27728,     0.27828,     0.27928,     0.28028,     0.28128,     0.28228,     0.28328,     0.28428,     0.28529,     0.28629,     0.28729,\n",
       "           0.28829,     0.28929,     0.29029,     0.29129,     0.29229,     0.29329,     0.29429,      0.2953,      0.2963,      0.2973,      0.2983,      0.2993,      0.3003,      0.3013,      0.3023,      0.3033,      0.3043,     0.30531,     0.30631,     0.30731,     0.30831,     0.30931,     0.31031,     0.31131,\n",
       "           0.31231,     0.31331,     0.31431,     0.31532,     0.31632,     0.31732,     0.31832,     0.31932,     0.32032,     0.32132,     0.32232,     0.32332,     0.32432,     0.32533,     0.32633,     0.32733,     0.32833,     0.32933,     0.33033,     0.33133,     0.33233,     0.33333,     0.33433,     0.33534,\n",
       "           0.33634,     0.33734,     0.33834,     0.33934,     0.34034,     0.34134,     0.34234,     0.34334,     0.34434,     0.34535,     0.34635,     0.34735,     0.34835,     0.34935,     0.35035,     0.35135,     0.35235,     0.35335,     0.35435,     0.35536,     0.35636,     0.35736,     0.35836,     0.35936,\n",
       "           0.36036,     0.36136,     0.36236,     0.36336,     0.36436,     0.36537,     0.36637,     0.36737,     0.36837,     0.36937,     0.37037,     0.37137,     0.37237,     0.37337,     0.37437,     0.37538,     0.37638,     0.37738,     0.37838,     0.37938,     0.38038,     0.38138,     0.38238,     0.38338,\n",
       "           0.38438,     0.38539,     0.38639,     0.38739,     0.38839,     0.38939,     0.39039,     0.39139,     0.39239,     0.39339,     0.39439,      0.3954,      0.3964,      0.3974,      0.3984,      0.3994,      0.4004,      0.4014,      0.4024,      0.4034,      0.4044,     0.40541,     0.40641,     0.40741,\n",
       "           0.40841,     0.40941,     0.41041,     0.41141,     0.41241,     0.41341,     0.41441,     0.41542,     0.41642,     0.41742,     0.41842,     0.41942,     0.42042,     0.42142,     0.42242,     0.42342,     0.42442,     0.42543,     0.42643,     0.42743,     0.42843,     0.42943,     0.43043,     0.43143,\n",
       "           0.43243,     0.43343,     0.43443,     0.43544,     0.43644,     0.43744,     0.43844,     0.43944,     0.44044,     0.44144,     0.44244,     0.44344,     0.44444,     0.44545,     0.44645,     0.44745,     0.44845,     0.44945,     0.45045,     0.45145,     0.45245,     0.45345,     0.45445,     0.45546,\n",
       "           0.45646,     0.45746,     0.45846,     0.45946,     0.46046,     0.46146,     0.46246,     0.46346,     0.46446,     0.46547,     0.46647,     0.46747,     0.46847,     0.46947,     0.47047,     0.47147,     0.47247,     0.47347,     0.47447,     0.47548,     0.47648,     0.47748,     0.47848,     0.47948,\n",
       "           0.48048,     0.48148,     0.48248,     0.48348,     0.48448,     0.48549,     0.48649,     0.48749,     0.48849,     0.48949,     0.49049,     0.49149,     0.49249,     0.49349,     0.49449,      0.4955,      0.4965,      0.4975,      0.4985,      0.4995,      0.5005,      0.5015,      0.5025,      0.5035,\n",
       "            0.5045,     0.50551,     0.50651,     0.50751,     0.50851,     0.50951,     0.51051,     0.51151,     0.51251,     0.51351,     0.51451,     0.51552,     0.51652,     0.51752,     0.51852,     0.51952,     0.52052,     0.52152,     0.52252,     0.52352,     0.52452,     0.52553,     0.52653,     0.52753,\n",
       "           0.52853,     0.52953,     0.53053,     0.53153,     0.53253,     0.53353,     0.53453,     0.53554,     0.53654,     0.53754,     0.53854,     0.53954,     0.54054,     0.54154,     0.54254,     0.54354,     0.54454,     0.54555,     0.54655,     0.54755,     0.54855,     0.54955,     0.55055,     0.55155,\n",
       "           0.55255,     0.55355,     0.55455,     0.55556,     0.55656,     0.55756,     0.55856,     0.55956,     0.56056,     0.56156,     0.56256,     0.56356,     0.56456,     0.56557,     0.56657,     0.56757,     0.56857,     0.56957,     0.57057,     0.57157,     0.57257,     0.57357,     0.57457,     0.57558,\n",
       "           0.57658,     0.57758,     0.57858,     0.57958,     0.58058,     0.58158,     0.58258,     0.58358,     0.58458,     0.58559,     0.58659,     0.58759,     0.58859,     0.58959,     0.59059,     0.59159,     0.59259,     0.59359,     0.59459,      0.5956,      0.5966,      0.5976,      0.5986,      0.5996,\n",
       "            0.6006,      0.6016,      0.6026,      0.6036,      0.6046,     0.60561,     0.60661,     0.60761,     0.60861,     0.60961,     0.61061,     0.61161,     0.61261,     0.61361,     0.61461,     0.61562,     0.61662,     0.61762,     0.61862,     0.61962,     0.62062,     0.62162,     0.62262,     0.62362,\n",
       "           0.62462,     0.62563,     0.62663,     0.62763,     0.62863,     0.62963,     0.63063,     0.63163,     0.63263,     0.63363,     0.63463,     0.63564,     0.63664,     0.63764,     0.63864,     0.63964,     0.64064,     0.64164,     0.64264,     0.64364,     0.64464,     0.64565,     0.64665,     0.64765,\n",
       "           0.64865,     0.64965,     0.65065,     0.65165,     0.65265,     0.65365,     0.65465,     0.65566,     0.65666,     0.65766,     0.65866,     0.65966,     0.66066,     0.66166,     0.66266,     0.66366,     0.66466,     0.66567,     0.66667,     0.66767,     0.66867,     0.66967,     0.67067,     0.67167,\n",
       "           0.67267,     0.67367,     0.67467,     0.67568,     0.67668,     0.67768,     0.67868,     0.67968,     0.68068,     0.68168,     0.68268,     0.68368,     0.68468,     0.68569,     0.68669,     0.68769,     0.68869,     0.68969,     0.69069,     0.69169,     0.69269,     0.69369,     0.69469,      0.6957,\n",
       "            0.6967,      0.6977,      0.6987,      0.6997,      0.7007,      0.7017,      0.7027,      0.7037,      0.7047,     0.70571,     0.70671,     0.70771,     0.70871,     0.70971,     0.71071,     0.71171,     0.71271,     0.71371,     0.71471,     0.71572,     0.71672,     0.71772,     0.71872,     0.71972,\n",
       "           0.72072,     0.72172,     0.72272,     0.72372,     0.72472,     0.72573,     0.72673,     0.72773,     0.72873,     0.72973,     0.73073,     0.73173,     0.73273,     0.73373,     0.73473,     0.73574,     0.73674,     0.73774,     0.73874,     0.73974,     0.74074,     0.74174,     0.74274,     0.74374,\n",
       "           0.74474,     0.74575,     0.74675,     0.74775,     0.74875,     0.74975,     0.75075,     0.75175,     0.75275,     0.75375,     0.75475,     0.75576,     0.75676,     0.75776,     0.75876,     0.75976,     0.76076,     0.76176,     0.76276,     0.76376,     0.76476,     0.76577,     0.76677,     0.76777,\n",
       "           0.76877,     0.76977,     0.77077,     0.77177,     0.77277,     0.77377,     0.77477,     0.77578,     0.77678,     0.77778,     0.77878,     0.77978,     0.78078,     0.78178,     0.78278,     0.78378,     0.78478,     0.78579,     0.78679,     0.78779,     0.78879,     0.78979,     0.79079,     0.79179,\n",
       "           0.79279,     0.79379,     0.79479,      0.7958,      0.7968,      0.7978,      0.7988,      0.7998,      0.8008,      0.8018,      0.8028,      0.8038,      0.8048,     0.80581,     0.80681,     0.80781,     0.80881,     0.80981,     0.81081,     0.81181,     0.81281,     0.81381,     0.81481,     0.81582,\n",
       "           0.81682,     0.81782,     0.81882,     0.81982,     0.82082,     0.82182,     0.82282,     0.82382,     0.82482,     0.82583,     0.82683,     0.82783,     0.82883,     0.82983,     0.83083,     0.83183,     0.83283,     0.83383,     0.83483,     0.83584,     0.83684,     0.83784,     0.83884,     0.83984,\n",
       "           0.84084,     0.84184,     0.84284,     0.84384,     0.84484,     0.84585,     0.84685,     0.84785,     0.84885,     0.84985,     0.85085,     0.85185,     0.85285,     0.85385,     0.85485,     0.85586,     0.85686,     0.85786,     0.85886,     0.85986,     0.86086,     0.86186,     0.86286,     0.86386,\n",
       "           0.86486,     0.86587,     0.86687,     0.86787,     0.86887,     0.86987,     0.87087,     0.87187,     0.87287,     0.87387,     0.87487,     0.87588,     0.87688,     0.87788,     0.87888,     0.87988,     0.88088,     0.88188,     0.88288,     0.88388,     0.88488,     0.88589,     0.88689,     0.88789,\n",
       "           0.88889,     0.88989,     0.89089,     0.89189,     0.89289,     0.89389,     0.89489,      0.8959,      0.8969,      0.8979,      0.8989,      0.8999,      0.9009,      0.9019,      0.9029,      0.9039,      0.9049,     0.90591,     0.90691,     0.90791,     0.90891,     0.90991,     0.91091,     0.91191,\n",
       "           0.91291,     0.91391,     0.91491,     0.91592,     0.91692,     0.91792,     0.91892,     0.91992,     0.92092,     0.92192,     0.92292,     0.92392,     0.92492,     0.92593,     0.92693,     0.92793,     0.92893,     0.92993,     0.93093,     0.93193,     0.93293,     0.93393,     0.93493,     0.93594,\n",
       "           0.93694,     0.93794,     0.93894,     0.93994,     0.94094,     0.94194,     0.94294,     0.94394,     0.94494,     0.94595,     0.94695,     0.94795,     0.94895,     0.94995,     0.95095,     0.95195,     0.95295,     0.95395,     0.95495,     0.95596,     0.95696,     0.95796,     0.95896,     0.95996,\n",
       "           0.96096,     0.96196,     0.96296,     0.96396,     0.96496,     0.96597,     0.96697,     0.96797,     0.96897,     0.96997,     0.97097,     0.97197,     0.97297,     0.97397,     0.97497,     0.97598,     0.97698,     0.97798,     0.97898,     0.97998,     0.98098,     0.98198,     0.98298,     0.98398,\n",
       "           0.98498,     0.98599,     0.98699,     0.98799,     0.98899,     0.98999,     0.99099,     0.99199,     0.99299,     0.99399,     0.99499,       0.996,       0.997,       0.998,       0.999,           1]), array([[    0.56863,     0.56863,     0.65758,     0.70762,     0.73625,     0.74182,     0.75909,     0.77734,     0.78819,      0.7958,     0.80185,     0.80761,     0.81028,       0.811,     0.81171,     0.81243,     0.81589,     0.82099,     0.82217,     0.82299,      0.8238,     0.82474,     0.82596,\n",
       "            0.82719,     0.83069,     0.83213,     0.83343,     0.83403,     0.83463,     0.83523,     0.83583,     0.83644,     0.83713,     0.83781,     0.83849,     0.83917,      0.8405,     0.84221,     0.84155,     0.84043,      0.8393,     0.83828,     0.83899,      0.8397,     0.84041,     0.84111,\n",
       "            0.84281,     0.84494,     0.84704,     0.84972,     0.85261,     0.85719,     0.85751,     0.85782,     0.85814,     0.85845,     0.85877,     0.85908,      0.8594,     0.85971,     0.86002,     0.86034,     0.86062,     0.86089,     0.86116,     0.86143,     0.86171,     0.86198,     0.86225,\n",
       "            0.86252,     0.86279,     0.86306,     0.86334,     0.86361,     0.86375,     0.86388,       0.864,     0.86413,     0.86426,     0.86438,     0.86451,     0.86464,     0.86477,     0.86489,     0.86502,     0.86515,     0.86527,      0.8654,     0.86553,     0.86565,     0.86578,     0.86591,\n",
       "            0.86603,     0.86616,     0.86629,     0.86641,     0.86654,     0.86666,     0.86679,     0.86692,       0.867,     0.86708,     0.86716,     0.86724,     0.86733,     0.86741,     0.86749,     0.86757,     0.86765,     0.86773,     0.86781,      0.8679,     0.86798,     0.86806,     0.86814,\n",
       "            0.86822,      0.8683,     0.86838,     0.86846,     0.86855,     0.86863,     0.86871,     0.86879,     0.86887,     0.86895,     0.86903,     0.86911,      0.8692,     0.86928,     0.86936,     0.86944,     0.86952,      0.8696,     0.86968,     0.86976,     0.86984,     0.86993,     0.87001,\n",
       "            0.87009,     0.87017,     0.87085,     0.87333,     0.87481,     0.87619,     0.87704,     0.87728,     0.87752,     0.87776,       0.878,     0.87825,     0.87849,     0.87873,     0.87897,     0.87921,     0.87945,     0.87969,     0.87993,     0.88017,     0.88048,     0.88086,     0.88125,\n",
       "            0.88163,     0.88201,      0.8824,     0.88278,     0.88316,     0.88355,     0.88379,     0.88393,     0.88407,      0.8842,     0.88434,     0.88448,     0.88461,     0.88475,     0.88489,     0.88502,     0.88516,      0.8853,     0.88543,     0.88557,      0.8857,     0.88584,     0.88598,\n",
       "            0.88611,     0.88625,     0.88638,     0.88652,     0.88666,     0.88679,     0.88693,     0.88706,      0.8871,      0.8869,      0.8867,     0.88649,     0.88629,     0.88609,     0.88589,     0.88568,     0.88548,     0.88528,     0.88508,     0.88487,     0.88467,     0.88447,     0.88427,\n",
       "            0.88406,     0.88386,     0.88366,     0.88346,     0.88325,     0.88305,     0.88285,     0.88287,     0.88294,     0.88301,     0.88308,     0.88315,     0.88322,     0.88329,     0.88336,     0.88343,      0.8835,     0.88357,     0.88364,     0.88371,     0.88378,     0.88385,     0.88392,\n",
       "            0.88399,     0.88406,     0.88413,      0.8842,     0.88427,     0.88434,     0.88441,     0.88448,     0.88455,     0.88462,     0.88469,     0.88476,     0.88483,      0.8849,     0.88497,     0.88504,     0.88511,     0.88518,     0.88525,     0.88532,     0.88539,     0.88546,     0.88553,\n",
       "             0.8856,     0.88567,     0.88574,     0.88581,     0.88588,     0.88595,     0.88602,     0.88609,     0.88616,     0.88623,     0.88782,     0.89033,      0.8913,     0.89226,     0.89322,     0.89339,     0.89352,     0.89364,     0.89376,     0.89388,       0.894,     0.89412,     0.89424,\n",
       "            0.89437,     0.89449,     0.89461,     0.89473,     0.89485,     0.89497,     0.89509,     0.89521,     0.89533,     0.89546,     0.89558,      0.8957,     0.89582,     0.89594,     0.89606,     0.89618,      0.8963,     0.89642,     0.89654,     0.89666,     0.89679,     0.89822,     0.90031,\n",
       "            0.90049,     0.90058,     0.90067,     0.90076,     0.90085,     0.90094,     0.90103,     0.90112,     0.90121,      0.9013,     0.90139,     0.90148,     0.90158,     0.90167,     0.90176,     0.90185,     0.90194,     0.90203,     0.90212,     0.90221,      0.9023,     0.90239,     0.90248,\n",
       "            0.90257,     0.90266,     0.90275,     0.90284,     0.90293,     0.90302,     0.90312,     0.90321,      0.9033,     0.90339,     0.90348,     0.90357,     0.90366,     0.90375,     0.90384,     0.90393,     0.90397,     0.90379,     0.90362,     0.90345,     0.90328,     0.90311,     0.90294,\n",
       "            0.90276,     0.90259,     0.90242,     0.90225,     0.90208,     0.90191,     0.90173,     0.90156,     0.90139,     0.90122,     0.90105,     0.90087,      0.9007,     0.90053,     0.90036,     0.90019,     0.90001,     0.89984,     0.89967,     0.90071,     0.90256,     0.90325,     0.90328,\n",
       "            0.90331,     0.90334,     0.90337,      0.9034,     0.90344,     0.90347,      0.9035,     0.90353,     0.90356,      0.9036,     0.90363,     0.90366,     0.90369,     0.90372,     0.90375,     0.90379,     0.90382,     0.90385,     0.90388,     0.90391,     0.90394,     0.90398,     0.90401,\n",
       "            0.90404,     0.90407,      0.9041,     0.90413,     0.90417,      0.9042,     0.90423,     0.90426,     0.90429,     0.90432,     0.90436,     0.90439,     0.90442,     0.90445,     0.90448,     0.90451,     0.90455,     0.90458,     0.90461,     0.90464,     0.90467,      0.9047,     0.90474,\n",
       "            0.90477,      0.9048,     0.90483,     0.90486,     0.90489,     0.90493,     0.90496,     0.90499,     0.90502,     0.90505,     0.90508,     0.90512,     0.90515,     0.90518,     0.90521,     0.90524,     0.90527,     0.90531,     0.90534,     0.90537,      0.9054,     0.90543,     0.90546,\n",
       "             0.9055,     0.90553,     0.90556,     0.90559,     0.90562,     0.90565,     0.90568,     0.90572,     0.90575,     0.90578,     0.90581,     0.90584,     0.90587,     0.90591,     0.90594,     0.90597,       0.906,     0.90603,     0.90606,      0.9061,     0.90613,     0.90616,     0.90619,\n",
       "            0.90622,     0.90625,     0.90628,     0.90632,     0.90635,     0.90638,     0.90641,     0.90644,     0.90647,     0.90651,     0.90654,     0.90657,      0.9066,     0.90663,     0.90666,     0.90669,     0.90673,     0.90676,     0.90679,     0.90682,     0.90685,      0.9069,     0.90732,\n",
       "            0.90774,     0.90816,     0.90858,       0.909,     0.90942,     0.90984,     0.91026,     0.91051,     0.91028,     0.91006,     0.90983,      0.9096,     0.90937,     0.90915,     0.90892,     0.90869,     0.90846,     0.90824,     0.90801,     0.90778,     0.90755,     0.90732,     0.90709,\n",
       "            0.90687,     0.90664,     0.90641,     0.90618,     0.90621,     0.90633,     0.90645,     0.90657,     0.90669,     0.90681,     0.90693,     0.90705,     0.90717,     0.90728,      0.9074,     0.90752,     0.90764,     0.90776,     0.90788,       0.908,     0.90812,     0.90824,     0.90836,\n",
       "            0.90847,     0.90859,     0.90871,     0.90883,     0.90895,     0.90907,     0.90919,     0.90931,     0.90942,     0.90954,     0.90966,     0.90978,      0.9099,     0.91001,     0.91013,     0.91024,     0.91036,     0.91047,     0.91059,      0.9107,     0.91082,     0.91093,     0.91105,\n",
       "            0.91116,     0.91127,     0.91139,      0.9115,     0.91162,     0.91173,     0.91185,     0.91196,     0.91208,     0.91219,     0.91231,     0.91242,     0.91253,     0.91265,     0.91276,     0.91288,     0.91299,     0.91311,     0.91322,     0.91333,     0.91345,     0.91356,     0.91336,\n",
       "             0.9131,     0.91283,     0.91257,     0.91231,     0.91205,     0.91178,     0.91152,     0.91126,       0.911,     0.91073,     0.91047,     0.91021,     0.90994,     0.90968,     0.90942,     0.90915,     0.90892,      0.9087,     0.90848,     0.90826,     0.90804,     0.90782,      0.9076,\n",
       "            0.90738,     0.90716,     0.90694,     0.90672,     0.90649,     0.90627,     0.90605,     0.90583,     0.90561,     0.90539,     0.90517,     0.90494,     0.90472,     0.90464,     0.90492,      0.9052,     0.90547,     0.90575,     0.90603,      0.9063,     0.90658,     0.90685,     0.90713,\n",
       "             0.9074,     0.90768,     0.90796,     0.90823,     0.90823,     0.90805,     0.90788,     0.90771,     0.90753,     0.90736,     0.90719,     0.90701,     0.90684,     0.90667,     0.90649,     0.90632,     0.90615,     0.90597,      0.9058,     0.90563,     0.90545,     0.90528,     0.90511,\n",
       "            0.90493,     0.90476,     0.90459,     0.90441,     0.90424,     0.90406,     0.90389,     0.90385,     0.90414,     0.90443,     0.90472,       0.905,     0.90529,     0.90558,     0.90587,     0.90616,     0.90645,     0.90673,     0.90702,     0.90731,     0.90749,     0.90681,     0.90614,\n",
       "            0.90547,     0.90479,     0.90411,     0.90344,     0.90241,     0.90051,      0.8986,     0.89997,     0.90192,     0.90449,     0.90609,     0.90634,     0.90659,     0.90684,     0.90709,     0.90734,     0.90759,     0.90784,     0.90809,     0.90834,     0.90859,     0.90883,     0.90908,\n",
       "            0.90933,     0.90958,     0.90983,     0.91053,     0.91134,     0.91214,     0.91295,     0.91375,     0.91413,     0.91448,     0.91483,     0.91519,     0.91554,     0.91589,     0.91625,      0.9166,     0.91695,      0.9173,     0.91765,     0.91834,     0.91916,     0.91998,      0.9208,\n",
       "            0.92161,     0.91902,     0.91684,     0.91636,     0.91587,     0.91539,      0.9149,     0.91441,     0.91393,     0.91344,     0.91295,     0.91246,     0.91206,     0.91171,     0.91136,     0.91101,     0.91066,     0.91031,     0.90996,     0.90961,     0.90926,     0.90891,     0.90856,\n",
       "             0.9082,     0.90785,      0.9075,     0.90882,      0.9102,     0.91148,     0.91082,     0.91016,      0.9095,     0.90884,     0.90817,     0.90751,     0.90685,     0.90615,     0.90544,     0.90472,     0.90401,     0.90329,     0.90258,     0.90186,      0.9005,     0.89906,     0.89761,\n",
       "            0.89642,     0.89549,     0.89457,     0.89364,     0.89271,     0.89169,     0.88998,     0.88827,      0.8859,     0.88167,     0.88097,     0.88028,     0.87958,     0.87888,     0.87818,     0.87748,     0.87678,     0.87628,      0.8758,     0.87533,     0.87485,     0.87437,     0.87389,\n",
       "            0.87341,     0.87293,     0.87244,     0.87196,     0.87167,      0.8723,     0.87294,     0.87357,      0.8742,     0.87483,     0.87547,     0.87524,     0.87483,     0.87442,     0.87401,      0.8736,     0.87319,     0.87278,     0.87237,     0.87196,     0.87155,     0.87114,     0.87072,\n",
       "            0.86961,     0.86498,     0.86414,     0.86331,     0.86247,     0.86164,      0.8608,     0.85996,     0.85938,     0.85886,     0.85834,     0.85782,      0.8573,     0.85678,     0.85625,     0.85573,      0.8552,     0.85468,       0.854,     0.85321,     0.85242,     0.85163,     0.85084,\n",
       "            0.85005,     0.84925,     0.84786,     0.84626,     0.84466,     0.84297,     0.84109,     0.83921,     0.83576,     0.83087,     0.82703,     0.82128,     0.82094,     0.82063,     0.82031,     0.81999,     0.81968,     0.81936,     0.81904,     0.81873,     0.81841,     0.81809,     0.81778,\n",
       "            0.81746,     0.81714,     0.81682,     0.81651,     0.81619,     0.81587,     0.81555,     0.81394,     0.81225,     0.81055,     0.80912,     0.80793,     0.80673,     0.80554,     0.80434,     0.80353,     0.80293,     0.80232,     0.80172,     0.80112,     0.80051,     0.79991,      0.7993,\n",
       "             0.7987,     0.79809,     0.78839,     0.78571,     0.78488,     0.78406,     0.78323,      0.7824,     0.78157,     0.78073,      0.7797,     0.77719,     0.77468,     0.76956,     0.76715,      0.7664,     0.76564,     0.76489,     0.76414,     0.76338,     0.76262,     0.76187,     0.76101,\n",
       "            0.76002,     0.75903,     0.75803,     0.75703,     0.75603,     0.75505,     0.75433,      0.7536,     0.75288,     0.75215,     0.75142,     0.75069,     0.74997,     0.74924,     0.74817,     0.74629,      0.7444,      0.7425,     0.73935,       0.736,     0.73472,     0.73359,     0.73247,\n",
       "            0.73134,     0.73022,     0.72909,     0.72795,     0.72682,     0.72568,     0.72455,     0.72341,     0.71952,     0.71528,     0.71459,      0.7139,      0.7132,      0.7125,     0.71181,     0.71111,     0.71041,     0.70971,     0.70901,     0.70107,     0.69997,     0.69888,     0.69779,\n",
       "            0.69669,     0.69559,     0.69389,     0.69184,     0.68978,     0.68659,     0.68037,     0.67744,     0.67449,     0.67243,     0.67057,     0.66871,     0.66685,     0.66329,     0.65953,     0.65213,     0.64445,     0.64135,     0.63824,     0.61305,      0.6054,     0.60212,     0.59883,\n",
       "            0.57996,     0.56133,     0.53499,     0.49848,     0.46758,      0.4021,     0.37713,     0.33221,     0.20919,     0.14026,    0.087408,     0.05656,    0.033068,    0.025893,    0.019323,           0,           0,           0,           0,           0,           0,           0,           0,\n",
       "                  0,           0,           0,           0,           0,           0,           0,           0,           0,           0,           0]]), 'Confidence', 'F1'], [array([          0,    0.001001,    0.002002,    0.003003,    0.004004,    0.005005,    0.006006,    0.007007,    0.008008,    0.009009,     0.01001,    0.011011,    0.012012,    0.013013,    0.014014,    0.015015,    0.016016,    0.017017,    0.018018,    0.019019,     0.02002,    0.021021,    0.022022,    0.023023,\n",
       "          0.024024,    0.025025,    0.026026,    0.027027,    0.028028,    0.029029,     0.03003,    0.031031,    0.032032,    0.033033,    0.034034,    0.035035,    0.036036,    0.037037,    0.038038,    0.039039,     0.04004,    0.041041,    0.042042,    0.043043,    0.044044,    0.045045,    0.046046,    0.047047,\n",
       "          0.048048,    0.049049,     0.05005,    0.051051,    0.052052,    0.053053,    0.054054,    0.055055,    0.056056,    0.057057,    0.058058,    0.059059,     0.06006,    0.061061,    0.062062,    0.063063,    0.064064,    0.065065,    0.066066,    0.067067,    0.068068,    0.069069,     0.07007,    0.071071,\n",
       "          0.072072,    0.073073,    0.074074,    0.075075,    0.076076,    0.077077,    0.078078,    0.079079,     0.08008,    0.081081,    0.082082,    0.083083,    0.084084,    0.085085,    0.086086,    0.087087,    0.088088,    0.089089,     0.09009,    0.091091,    0.092092,    0.093093,    0.094094,    0.095095,\n",
       "          0.096096,    0.097097,    0.098098,    0.099099,      0.1001,      0.1011,      0.1021,      0.1031,      0.1041,     0.10511,     0.10611,     0.10711,     0.10811,     0.10911,     0.11011,     0.11111,     0.11211,     0.11311,     0.11411,     0.11512,     0.11612,     0.11712,     0.11812,     0.11912,\n",
       "           0.12012,     0.12112,     0.12212,     0.12312,     0.12412,     0.12513,     0.12613,     0.12713,     0.12813,     0.12913,     0.13013,     0.13113,     0.13213,     0.13313,     0.13413,     0.13514,     0.13614,     0.13714,     0.13814,     0.13914,     0.14014,     0.14114,     0.14214,     0.14314,\n",
       "           0.14414,     0.14515,     0.14615,     0.14715,     0.14815,     0.14915,     0.15015,     0.15115,     0.15215,     0.15315,     0.15415,     0.15516,     0.15616,     0.15716,     0.15816,     0.15916,     0.16016,     0.16116,     0.16216,     0.16316,     0.16416,     0.16517,     0.16617,     0.16717,\n",
       "           0.16817,     0.16917,     0.17017,     0.17117,     0.17217,     0.17317,     0.17417,     0.17518,     0.17618,     0.17718,     0.17818,     0.17918,     0.18018,     0.18118,     0.18218,     0.18318,     0.18418,     0.18519,     0.18619,     0.18719,     0.18819,     0.18919,     0.19019,     0.19119,\n",
       "           0.19219,     0.19319,     0.19419,      0.1952,      0.1962,      0.1972,      0.1982,      0.1992,      0.2002,      0.2012,      0.2022,      0.2032,      0.2042,     0.20521,     0.20621,     0.20721,     0.20821,     0.20921,     0.21021,     0.21121,     0.21221,     0.21321,     0.21421,     0.21522,\n",
       "           0.21622,     0.21722,     0.21822,     0.21922,     0.22022,     0.22122,     0.22222,     0.22322,     0.22422,     0.22523,     0.22623,     0.22723,     0.22823,     0.22923,     0.23023,     0.23123,     0.23223,     0.23323,     0.23423,     0.23524,     0.23624,     0.23724,     0.23824,     0.23924,\n",
       "           0.24024,     0.24124,     0.24224,     0.24324,     0.24424,     0.24525,     0.24625,     0.24725,     0.24825,     0.24925,     0.25025,     0.25125,     0.25225,     0.25325,     0.25425,     0.25526,     0.25626,     0.25726,     0.25826,     0.25926,     0.26026,     0.26126,     0.26226,     0.26326,\n",
       "           0.26426,     0.26527,     0.26627,     0.26727,     0.26827,     0.26927,     0.27027,     0.27127,     0.27227,     0.27327,     0.27427,     0.27528,     0.27628,     0.27728,     0.27828,     0.27928,     0.28028,     0.28128,     0.28228,     0.28328,     0.28428,     0.28529,     0.28629,     0.28729,\n",
       "           0.28829,     0.28929,     0.29029,     0.29129,     0.29229,     0.29329,     0.29429,      0.2953,      0.2963,      0.2973,      0.2983,      0.2993,      0.3003,      0.3013,      0.3023,      0.3033,      0.3043,     0.30531,     0.30631,     0.30731,     0.30831,     0.30931,     0.31031,     0.31131,\n",
       "           0.31231,     0.31331,     0.31431,     0.31532,     0.31632,     0.31732,     0.31832,     0.31932,     0.32032,     0.32132,     0.32232,     0.32332,     0.32432,     0.32533,     0.32633,     0.32733,     0.32833,     0.32933,     0.33033,     0.33133,     0.33233,     0.33333,     0.33433,     0.33534,\n",
       "           0.33634,     0.33734,     0.33834,     0.33934,     0.34034,     0.34134,     0.34234,     0.34334,     0.34434,     0.34535,     0.34635,     0.34735,     0.34835,     0.34935,     0.35035,     0.35135,     0.35235,     0.35335,     0.35435,     0.35536,     0.35636,     0.35736,     0.35836,     0.35936,\n",
       "           0.36036,     0.36136,     0.36236,     0.36336,     0.36436,     0.36537,     0.36637,     0.36737,     0.36837,     0.36937,     0.37037,     0.37137,     0.37237,     0.37337,     0.37437,     0.37538,     0.37638,     0.37738,     0.37838,     0.37938,     0.38038,     0.38138,     0.38238,     0.38338,\n",
       "           0.38438,     0.38539,     0.38639,     0.38739,     0.38839,     0.38939,     0.39039,     0.39139,     0.39239,     0.39339,     0.39439,      0.3954,      0.3964,      0.3974,      0.3984,      0.3994,      0.4004,      0.4014,      0.4024,      0.4034,      0.4044,     0.40541,     0.40641,     0.40741,\n",
       "           0.40841,     0.40941,     0.41041,     0.41141,     0.41241,     0.41341,     0.41441,     0.41542,     0.41642,     0.41742,     0.41842,     0.41942,     0.42042,     0.42142,     0.42242,     0.42342,     0.42442,     0.42543,     0.42643,     0.42743,     0.42843,     0.42943,     0.43043,     0.43143,\n",
       "           0.43243,     0.43343,     0.43443,     0.43544,     0.43644,     0.43744,     0.43844,     0.43944,     0.44044,     0.44144,     0.44244,     0.44344,     0.44444,     0.44545,     0.44645,     0.44745,     0.44845,     0.44945,     0.45045,     0.45145,     0.45245,     0.45345,     0.45445,     0.45546,\n",
       "           0.45646,     0.45746,     0.45846,     0.45946,     0.46046,     0.46146,     0.46246,     0.46346,     0.46446,     0.46547,     0.46647,     0.46747,     0.46847,     0.46947,     0.47047,     0.47147,     0.47247,     0.47347,     0.47447,     0.47548,     0.47648,     0.47748,     0.47848,     0.47948,\n",
       "           0.48048,     0.48148,     0.48248,     0.48348,     0.48448,     0.48549,     0.48649,     0.48749,     0.48849,     0.48949,     0.49049,     0.49149,     0.49249,     0.49349,     0.49449,      0.4955,      0.4965,      0.4975,      0.4985,      0.4995,      0.5005,      0.5015,      0.5025,      0.5035,\n",
       "            0.5045,     0.50551,     0.50651,     0.50751,     0.50851,     0.50951,     0.51051,     0.51151,     0.51251,     0.51351,     0.51451,     0.51552,     0.51652,     0.51752,     0.51852,     0.51952,     0.52052,     0.52152,     0.52252,     0.52352,     0.52452,     0.52553,     0.52653,     0.52753,\n",
       "           0.52853,     0.52953,     0.53053,     0.53153,     0.53253,     0.53353,     0.53453,     0.53554,     0.53654,     0.53754,     0.53854,     0.53954,     0.54054,     0.54154,     0.54254,     0.54354,     0.54454,     0.54555,     0.54655,     0.54755,     0.54855,     0.54955,     0.55055,     0.55155,\n",
       "           0.55255,     0.55355,     0.55455,     0.55556,     0.55656,     0.55756,     0.55856,     0.55956,     0.56056,     0.56156,     0.56256,     0.56356,     0.56456,     0.56557,     0.56657,     0.56757,     0.56857,     0.56957,     0.57057,     0.57157,     0.57257,     0.57357,     0.57457,     0.57558,\n",
       "           0.57658,     0.57758,     0.57858,     0.57958,     0.58058,     0.58158,     0.58258,     0.58358,     0.58458,     0.58559,     0.58659,     0.58759,     0.58859,     0.58959,     0.59059,     0.59159,     0.59259,     0.59359,     0.59459,      0.5956,      0.5966,      0.5976,      0.5986,      0.5996,\n",
       "            0.6006,      0.6016,      0.6026,      0.6036,      0.6046,     0.60561,     0.60661,     0.60761,     0.60861,     0.60961,     0.61061,     0.61161,     0.61261,     0.61361,     0.61461,     0.61562,     0.61662,     0.61762,     0.61862,     0.61962,     0.62062,     0.62162,     0.62262,     0.62362,\n",
       "           0.62462,     0.62563,     0.62663,     0.62763,     0.62863,     0.62963,     0.63063,     0.63163,     0.63263,     0.63363,     0.63463,     0.63564,     0.63664,     0.63764,     0.63864,     0.63964,     0.64064,     0.64164,     0.64264,     0.64364,     0.64464,     0.64565,     0.64665,     0.64765,\n",
       "           0.64865,     0.64965,     0.65065,     0.65165,     0.65265,     0.65365,     0.65465,     0.65566,     0.65666,     0.65766,     0.65866,     0.65966,     0.66066,     0.66166,     0.66266,     0.66366,     0.66466,     0.66567,     0.66667,     0.66767,     0.66867,     0.66967,     0.67067,     0.67167,\n",
       "           0.67267,     0.67367,     0.67467,     0.67568,     0.67668,     0.67768,     0.67868,     0.67968,     0.68068,     0.68168,     0.68268,     0.68368,     0.68468,     0.68569,     0.68669,     0.68769,     0.68869,     0.68969,     0.69069,     0.69169,     0.69269,     0.69369,     0.69469,      0.6957,\n",
       "            0.6967,      0.6977,      0.6987,      0.6997,      0.7007,      0.7017,      0.7027,      0.7037,      0.7047,     0.70571,     0.70671,     0.70771,     0.70871,     0.70971,     0.71071,     0.71171,     0.71271,     0.71371,     0.71471,     0.71572,     0.71672,     0.71772,     0.71872,     0.71972,\n",
       "           0.72072,     0.72172,     0.72272,     0.72372,     0.72472,     0.72573,     0.72673,     0.72773,     0.72873,     0.72973,     0.73073,     0.73173,     0.73273,     0.73373,     0.73473,     0.73574,     0.73674,     0.73774,     0.73874,     0.73974,     0.74074,     0.74174,     0.74274,     0.74374,\n",
       "           0.74474,     0.74575,     0.74675,     0.74775,     0.74875,     0.74975,     0.75075,     0.75175,     0.75275,     0.75375,     0.75475,     0.75576,     0.75676,     0.75776,     0.75876,     0.75976,     0.76076,     0.76176,     0.76276,     0.76376,     0.76476,     0.76577,     0.76677,     0.76777,\n",
       "           0.76877,     0.76977,     0.77077,     0.77177,     0.77277,     0.77377,     0.77477,     0.77578,     0.77678,     0.77778,     0.77878,     0.77978,     0.78078,     0.78178,     0.78278,     0.78378,     0.78478,     0.78579,     0.78679,     0.78779,     0.78879,     0.78979,     0.79079,     0.79179,\n",
       "           0.79279,     0.79379,     0.79479,      0.7958,      0.7968,      0.7978,      0.7988,      0.7998,      0.8008,      0.8018,      0.8028,      0.8038,      0.8048,     0.80581,     0.80681,     0.80781,     0.80881,     0.80981,     0.81081,     0.81181,     0.81281,     0.81381,     0.81481,     0.81582,\n",
       "           0.81682,     0.81782,     0.81882,     0.81982,     0.82082,     0.82182,     0.82282,     0.82382,     0.82482,     0.82583,     0.82683,     0.82783,     0.82883,     0.82983,     0.83083,     0.83183,     0.83283,     0.83383,     0.83483,     0.83584,     0.83684,     0.83784,     0.83884,     0.83984,\n",
       "           0.84084,     0.84184,     0.84284,     0.84384,     0.84484,     0.84585,     0.84685,     0.84785,     0.84885,     0.84985,     0.85085,     0.85185,     0.85285,     0.85385,     0.85485,     0.85586,     0.85686,     0.85786,     0.85886,     0.85986,     0.86086,     0.86186,     0.86286,     0.86386,\n",
       "           0.86486,     0.86587,     0.86687,     0.86787,     0.86887,     0.86987,     0.87087,     0.87187,     0.87287,     0.87387,     0.87487,     0.87588,     0.87688,     0.87788,     0.87888,     0.87988,     0.88088,     0.88188,     0.88288,     0.88388,     0.88488,     0.88589,     0.88689,     0.88789,\n",
       "           0.88889,     0.88989,     0.89089,     0.89189,     0.89289,     0.89389,     0.89489,      0.8959,      0.8969,      0.8979,      0.8989,      0.8999,      0.9009,      0.9019,      0.9029,      0.9039,      0.9049,     0.90591,     0.90691,     0.90791,     0.90891,     0.90991,     0.91091,     0.91191,\n",
       "           0.91291,     0.91391,     0.91491,     0.91592,     0.91692,     0.91792,     0.91892,     0.91992,     0.92092,     0.92192,     0.92292,     0.92392,     0.92492,     0.92593,     0.92693,     0.92793,     0.92893,     0.92993,     0.93093,     0.93193,     0.93293,     0.93393,     0.93493,     0.93594,\n",
       "           0.93694,     0.93794,     0.93894,     0.93994,     0.94094,     0.94194,     0.94294,     0.94394,     0.94494,     0.94595,     0.94695,     0.94795,     0.94895,     0.94995,     0.95095,     0.95195,     0.95295,     0.95395,     0.95495,     0.95596,     0.95696,     0.95796,     0.95896,     0.95996,\n",
       "           0.96096,     0.96196,     0.96296,     0.96396,     0.96496,     0.96597,     0.96697,     0.96797,     0.96897,     0.96997,     0.97097,     0.97197,     0.97297,     0.97397,     0.97497,     0.97598,     0.97698,     0.97798,     0.97898,     0.97998,     0.98098,     0.98198,     0.98298,     0.98398,\n",
       "           0.98498,     0.98599,     0.98699,     0.98799,     0.98899,     0.98999,     0.99099,     0.99199,     0.99299,     0.99399,     0.99499,       0.996,       0.997,       0.998,       0.999,           1]), array([[    0.40559,     0.40559,      0.5049,     0.56642,     0.60402,     0.61154,     0.63538,     0.66137,     0.67724,     0.68855,     0.69766,     0.70643,     0.71053,     0.71163,     0.71273,     0.71383,     0.71919,     0.72715,     0.72902,      0.7303,     0.73158,     0.73306,       0.735,\n",
       "            0.73694,     0.74251,     0.74482,     0.74691,     0.74788,     0.74884,     0.74981,     0.75078,     0.75176,     0.75287,     0.75397,     0.75507,     0.75618,     0.75835,     0.76113,     0.76124,     0.76082,      0.7604,     0.76007,     0.76124,     0.76241,     0.76358,     0.76475,\n",
       "            0.76756,     0.77109,     0.77459,     0.77909,     0.78397,     0.79175,     0.79229,     0.79282,     0.79336,      0.7939,     0.79444,     0.79498,     0.79552,     0.79606,      0.7966,     0.79713,     0.79761,     0.79808,     0.79855,     0.79902,     0.79949,     0.79995,     0.80042,\n",
       "            0.80089,     0.80136,     0.80183,      0.8023,     0.80277,     0.80301,     0.80323,     0.80345,     0.80367,     0.80389,     0.80411,     0.80433,     0.80455,     0.80477,     0.80499,     0.80521,     0.80543,     0.80565,     0.80587,     0.80609,     0.80631,     0.80653,     0.80675,\n",
       "            0.80697,     0.80719,     0.80741,     0.80763,     0.80785,     0.80807,     0.80829,     0.80851,     0.80865,     0.80879,     0.80893,     0.80907,     0.80922,     0.80936,      0.8095,     0.80964,     0.80978,     0.80993,     0.81007,     0.81021,     0.81035,     0.81049,     0.81063,\n",
       "            0.81078,     0.81092,     0.81106,      0.8112,     0.81134,     0.81149,     0.81163,     0.81177,     0.81191,     0.81205,     0.81219,     0.81234,     0.81248,     0.81262,     0.81276,      0.8129,     0.81304,     0.81319,     0.81333,     0.81347,     0.81361,     0.81375,      0.8139,\n",
       "            0.81404,     0.81418,     0.81537,     0.81973,     0.82235,     0.82479,     0.82629,     0.82672,     0.82715,     0.82758,     0.82801,     0.82844,     0.82887,      0.8293,     0.82973,     0.83016,     0.83059,     0.83102,     0.83145,     0.83188,     0.83242,     0.83311,      0.8338,\n",
       "            0.83448,     0.83517,     0.83586,     0.83654,     0.83723,     0.83792,     0.83837,     0.83861,     0.83886,     0.83911,     0.83935,      0.8396,     0.83984,     0.84009,     0.84034,     0.84058,     0.84083,     0.84107,     0.84132,     0.84157,     0.84181,     0.84206,      0.8423,\n",
       "            0.84255,      0.8428,     0.84304,     0.84329,     0.84353,     0.84378,     0.84403,     0.84427,     0.84443,     0.84437,     0.84432,     0.84427,     0.84421,     0.84416,      0.8441,     0.84405,       0.844,     0.84394,     0.84389,     0.84383,     0.84378,     0.84373,     0.84367,\n",
       "            0.84362,     0.84356,     0.84351,     0.84345,      0.8434,     0.84335,     0.84329,     0.84339,     0.84352,     0.84365,     0.84377,      0.8439,     0.84403,     0.84416,     0.84429,     0.84441,     0.84454,     0.84467,      0.8448,     0.84493,     0.84506,     0.84518,     0.84531,\n",
       "            0.84544,     0.84557,      0.8457,     0.84582,     0.84595,     0.84608,     0.84621,     0.84634,     0.84646,     0.84659,     0.84672,     0.84685,     0.84698,      0.8471,     0.84723,     0.84736,     0.84749,     0.84762,     0.84774,     0.84787,       0.848,     0.84813,     0.84826,\n",
       "            0.84838,     0.84851,     0.84864,     0.84877,      0.8489,     0.84903,     0.84915,     0.84928,     0.84941,     0.84954,     0.85247,     0.85712,      0.8589,     0.86069,     0.86248,     0.86281,     0.86303,     0.86326,     0.86349,     0.86371,     0.86394,     0.86417,     0.86439,\n",
       "            0.86462,     0.86485,     0.86507,      0.8653,     0.86553,     0.86575,     0.86598,     0.86621,     0.86643,     0.86666,     0.86689,     0.86711,     0.86734,     0.86757,     0.86779,     0.86802,     0.86825,     0.86847,      0.8687,     0.86893,     0.86915,     0.87186,     0.87581,\n",
       "            0.87613,     0.87631,     0.87648,     0.87665,     0.87682,     0.87699,     0.87717,     0.87734,     0.87751,     0.87768,     0.87786,     0.87803,      0.8782,     0.87837,     0.87854,     0.87872,     0.87889,     0.87906,     0.87923,      0.8794,     0.87958,     0.87975,     0.87992,\n",
       "            0.88009,     0.88027,     0.88044,     0.88061,     0.88078,     0.88095,     0.88113,      0.8813,     0.88147,     0.88164,     0.88181,     0.88199,     0.88216,     0.88233,      0.8825,     0.88268,     0.88281,     0.88277,     0.88273,      0.8827,     0.88266,     0.88263,     0.88259,\n",
       "            0.88255,     0.88252,     0.88248,     0.88244,     0.88241,     0.88237,     0.88234,      0.8823,     0.88226,     0.88223,     0.88219,     0.88216,     0.88212,     0.88208,     0.88205,     0.88201,     0.88198,     0.88194,      0.8819,     0.88402,     0.88761,     0.88893,     0.88899,\n",
       "            0.88905,     0.88911,     0.88917,     0.88924,      0.8893,     0.88936,     0.88942,     0.88948,     0.88954,     0.88961,     0.88967,     0.88973,     0.88979,     0.88985,     0.88991,     0.88997,     0.89004,      0.8901,     0.89016,     0.89022,     0.89028,     0.89034,      0.8904,\n",
       "            0.89047,     0.89053,     0.89059,     0.89065,     0.89071,     0.89077,     0.89084,      0.8909,     0.89096,     0.89102,     0.89108,     0.89114,      0.8912,     0.89127,     0.89133,     0.89139,     0.89145,     0.89151,     0.89157,     0.89163,      0.8917,     0.89176,     0.89182,\n",
       "            0.89188,     0.89194,       0.892,     0.89207,     0.89213,     0.89219,     0.89225,     0.89231,     0.89237,     0.89243,      0.8925,     0.89256,     0.89262,     0.89268,     0.89274,      0.8928,     0.89287,     0.89293,     0.89299,     0.89305,     0.89311,     0.89317,     0.89323,\n",
       "             0.8933,     0.89336,     0.89342,     0.89348,     0.89354,      0.8936,     0.89366,     0.89373,     0.89379,     0.89385,     0.89391,     0.89397,     0.89403,      0.8941,     0.89416,     0.89422,     0.89428,     0.89434,      0.8944,     0.89446,     0.89453,     0.89459,     0.89465,\n",
       "            0.89471,     0.89477,     0.89483,      0.8949,     0.89496,     0.89502,     0.89508,     0.89514,      0.8952,     0.89526,     0.89533,     0.89539,     0.89545,     0.89551,     0.89557,     0.89563,     0.89569,     0.89576,     0.89582,     0.89588,     0.89594,     0.89603,     0.89685,\n",
       "            0.89768,      0.8985,     0.89932,     0.90014,     0.90097,     0.90179,     0.90261,     0.90322,     0.90318,     0.90313,     0.90309,     0.90305,     0.90301,     0.90297,     0.90293,     0.90289,     0.90285,     0.90281,     0.90277,     0.90273,     0.90269,     0.90265,     0.90261,\n",
       "            0.90257,     0.90253,     0.90249,     0.90245,     0.90262,     0.90285,     0.90309,     0.90333,     0.90356,      0.9038,     0.90404,     0.90427,     0.90451,     0.90475,     0.90498,     0.90522,     0.90546,      0.9057,     0.90593,     0.90617,     0.90641,     0.90664,     0.90688,\n",
       "            0.90712,     0.90735,     0.90759,     0.90783,     0.90807,      0.9083,     0.90854,     0.90878,     0.90901,     0.90925,     0.90949,     0.90972,     0.90996,     0.91019,     0.91042,     0.91065,     0.91088,     0.91111,     0.91134,     0.91157,      0.9118,     0.91203,     0.91226,\n",
       "            0.91249,     0.91272,     0.91295,     0.91318,     0.91341,     0.91364,     0.91387,      0.9141,     0.91433,     0.91456,     0.91479,     0.91502,     0.91525,     0.91548,     0.91571,     0.91594,     0.91617,      0.9164,     0.91663,     0.91686,     0.91709,     0.91732,     0.91732,\n",
       "            0.91728,     0.91724,      0.9172,     0.91716,     0.91712,     0.91708,     0.91704,       0.917,     0.91696,     0.91692,     0.91688,     0.91684,      0.9168,     0.91676,     0.91672,     0.91668,     0.91664,     0.91661,     0.91657,     0.91654,      0.9165,     0.91647,     0.91644,\n",
       "             0.9164,     0.91637,     0.91633,      0.9163,     0.91626,     0.91623,      0.9162,     0.91616,     0.91613,     0.91609,     0.91606,     0.91603,     0.91599,     0.91613,      0.9167,     0.91726,     0.91783,      0.9184,     0.91897,     0.91954,     0.92011,     0.92067,     0.92124,\n",
       "            0.92181,     0.92238,     0.92295,     0.92352,     0.92371,     0.92369,     0.92366,     0.92364,     0.92361,     0.92359,     0.92356,     0.92354,     0.92352,     0.92349,     0.92347,     0.92344,     0.92342,     0.92339,     0.92337,     0.92334,     0.92332,     0.92329,     0.92327,\n",
       "            0.92324,     0.92322,     0.92319,     0.92317,     0.92314,     0.92312,     0.92309,     0.92325,     0.92385,     0.92446,     0.92506,     0.92567,     0.92627,     0.92687,     0.92748,     0.92808,     0.92869,     0.92929,     0.92989,      0.9305,     0.93102,     0.93094,     0.93085,\n",
       "            0.93076,     0.93067,     0.93059,      0.9305,     0.93036,     0.93011,     0.92986,     0.93339,     0.93761,     0.94317,     0.94666,     0.94721,     0.94776,      0.9483,     0.94885,      0.9494,     0.94994,     0.95049,     0.95103,     0.95158,     0.95213,     0.95267,     0.95322,\n",
       "            0.95377,     0.95431,     0.95486,     0.95642,      0.9582,     0.95998,     0.96176,     0.96354,     0.96438,     0.96517,     0.96596,     0.96674,     0.96753,     0.96832,     0.96911,      0.9699,     0.97068,     0.97147,     0.97226,     0.97381,     0.97566,     0.97751,     0.97935,\n",
       "             0.9812,     0.98138,      0.9813,     0.98128,     0.98127,     0.98125,     0.98123,     0.98121,     0.98119,     0.98117,     0.98116,     0.98114,     0.98112,     0.98111,      0.9811,     0.98108,     0.98107,     0.98106,     0.98104,     0.98103,     0.98102,     0.98101,     0.98099,\n",
       "            0.98098,     0.98097,     0.98095,     0.98408,      0.9873,     0.99038,     0.99037,     0.99036,     0.99035,     0.99033,     0.99032,     0.99031,     0.99029,     0.99028,     0.99027,     0.99025,     0.99024,     0.99023,     0.99021,      0.9902,     0.99017,     0.99014,     0.99011,\n",
       "            0.99009,     0.99007,     0.99005,     0.99003,     0.99002,        0.99,     0.98996,     0.98993,     0.98988,     0.98979,     0.98978,     0.98976,     0.98975,     0.98974,     0.98972,     0.98971,     0.98969,     0.98968,     0.98967,     0.98966,     0.98965,     0.98964,     0.98963,\n",
       "            0.98962,     0.98961,      0.9896,     0.98959,     0.98986,      0.9915,     0.99314,     0.99478,     0.99643,     0.99807,     0.99971,           1,           1,           1,           1,           1,           1,           1,           1,           1,           1,           1,           1,\n",
       "                  1,           1,           1,           1,           1,           1,           1,           1,           1,           1,           1,           1,           1,           1,           1,           1,           1,           1,           1,           1,           1,           1,           1,\n",
       "                  1,           1,           1,           1,           1,           1,           1,           1,           1,           1,           1,           1,           1,           1,           1,           1,           1,           1,           1,           1,           1,           1,           1,\n",
       "                  1,           1,           1,           1,           1,           1,           1,           1,           1,           1,           1,           1,           1,           1,           1,           1,           1,           1,           1,           1,           1,           1,           1,\n",
       "                  1,           1,           1,           1,           1,           1,           1,           1,           1,           1,           1,           1,           1,           1,           1,           1,           1,           1,           1,           1,           1,           1,           1,\n",
       "                  1,           1,           1,           1,           1,           1,           1,           1,           1,           1,           1,           1,           1,           1,           1,           1,           1,           1,           1,           1,           1,           1,           1,\n",
       "                  1,           1,           1,           1,           1,           1,           1,           1,           1,           1,           1,           1,           1,           1,           1,           1,           1,           1,           1,           1,           1,           1,           1,\n",
       "                  1,           1,           1,           1,           1,           1,           1,           1,           1,           1,           1,           1,           1,           1,           1,           1,           1,           1,           1,           1,           1,           1,           1,\n",
       "                  1,           1,           1,           1,           1,           1,           1,           1,           1,           1,           1,           1,           1,           1,           1,           1,           1,           1,           1,           1,           1,           1,           1,\n",
       "                  1,           1,           1,           1,           1,           1,           1,           1,           1,           1,           1]]), 'Confidence', 'Precision'], [array([          0,    0.001001,    0.002002,    0.003003,    0.004004,    0.005005,    0.006006,    0.007007,    0.008008,    0.009009,     0.01001,    0.011011,    0.012012,    0.013013,    0.014014,    0.015015,    0.016016,    0.017017,    0.018018,    0.019019,     0.02002,    0.021021,    0.022022,    0.023023,\n",
       "          0.024024,    0.025025,    0.026026,    0.027027,    0.028028,    0.029029,     0.03003,    0.031031,    0.032032,    0.033033,    0.034034,    0.035035,    0.036036,    0.037037,    0.038038,    0.039039,     0.04004,    0.041041,    0.042042,    0.043043,    0.044044,    0.045045,    0.046046,    0.047047,\n",
       "          0.048048,    0.049049,     0.05005,    0.051051,    0.052052,    0.053053,    0.054054,    0.055055,    0.056056,    0.057057,    0.058058,    0.059059,     0.06006,    0.061061,    0.062062,    0.063063,    0.064064,    0.065065,    0.066066,    0.067067,    0.068068,    0.069069,     0.07007,    0.071071,\n",
       "          0.072072,    0.073073,    0.074074,    0.075075,    0.076076,    0.077077,    0.078078,    0.079079,     0.08008,    0.081081,    0.082082,    0.083083,    0.084084,    0.085085,    0.086086,    0.087087,    0.088088,    0.089089,     0.09009,    0.091091,    0.092092,    0.093093,    0.094094,    0.095095,\n",
       "          0.096096,    0.097097,    0.098098,    0.099099,      0.1001,      0.1011,      0.1021,      0.1031,      0.1041,     0.10511,     0.10611,     0.10711,     0.10811,     0.10911,     0.11011,     0.11111,     0.11211,     0.11311,     0.11411,     0.11512,     0.11612,     0.11712,     0.11812,     0.11912,\n",
       "           0.12012,     0.12112,     0.12212,     0.12312,     0.12412,     0.12513,     0.12613,     0.12713,     0.12813,     0.12913,     0.13013,     0.13113,     0.13213,     0.13313,     0.13413,     0.13514,     0.13614,     0.13714,     0.13814,     0.13914,     0.14014,     0.14114,     0.14214,     0.14314,\n",
       "           0.14414,     0.14515,     0.14615,     0.14715,     0.14815,     0.14915,     0.15015,     0.15115,     0.15215,     0.15315,     0.15415,     0.15516,     0.15616,     0.15716,     0.15816,     0.15916,     0.16016,     0.16116,     0.16216,     0.16316,     0.16416,     0.16517,     0.16617,     0.16717,\n",
       "           0.16817,     0.16917,     0.17017,     0.17117,     0.17217,     0.17317,     0.17417,     0.17518,     0.17618,     0.17718,     0.17818,     0.17918,     0.18018,     0.18118,     0.18218,     0.18318,     0.18418,     0.18519,     0.18619,     0.18719,     0.18819,     0.18919,     0.19019,     0.19119,\n",
       "           0.19219,     0.19319,     0.19419,      0.1952,      0.1962,      0.1972,      0.1982,      0.1992,      0.2002,      0.2012,      0.2022,      0.2032,      0.2042,     0.20521,     0.20621,     0.20721,     0.20821,     0.20921,     0.21021,     0.21121,     0.21221,     0.21321,     0.21421,     0.21522,\n",
       "           0.21622,     0.21722,     0.21822,     0.21922,     0.22022,     0.22122,     0.22222,     0.22322,     0.22422,     0.22523,     0.22623,     0.22723,     0.22823,     0.22923,     0.23023,     0.23123,     0.23223,     0.23323,     0.23423,     0.23524,     0.23624,     0.23724,     0.23824,     0.23924,\n",
       "           0.24024,     0.24124,     0.24224,     0.24324,     0.24424,     0.24525,     0.24625,     0.24725,     0.24825,     0.24925,     0.25025,     0.25125,     0.25225,     0.25325,     0.25425,     0.25526,     0.25626,     0.25726,     0.25826,     0.25926,     0.26026,     0.26126,     0.26226,     0.26326,\n",
       "           0.26426,     0.26527,     0.26627,     0.26727,     0.26827,     0.26927,     0.27027,     0.27127,     0.27227,     0.27327,     0.27427,     0.27528,     0.27628,     0.27728,     0.27828,     0.27928,     0.28028,     0.28128,     0.28228,     0.28328,     0.28428,     0.28529,     0.28629,     0.28729,\n",
       "           0.28829,     0.28929,     0.29029,     0.29129,     0.29229,     0.29329,     0.29429,      0.2953,      0.2963,      0.2973,      0.2983,      0.2993,      0.3003,      0.3013,      0.3023,      0.3033,      0.3043,     0.30531,     0.30631,     0.30731,     0.30831,     0.30931,     0.31031,     0.31131,\n",
       "           0.31231,     0.31331,     0.31431,     0.31532,     0.31632,     0.31732,     0.31832,     0.31932,     0.32032,     0.32132,     0.32232,     0.32332,     0.32432,     0.32533,     0.32633,     0.32733,     0.32833,     0.32933,     0.33033,     0.33133,     0.33233,     0.33333,     0.33433,     0.33534,\n",
       "           0.33634,     0.33734,     0.33834,     0.33934,     0.34034,     0.34134,     0.34234,     0.34334,     0.34434,     0.34535,     0.34635,     0.34735,     0.34835,     0.34935,     0.35035,     0.35135,     0.35235,     0.35335,     0.35435,     0.35536,     0.35636,     0.35736,     0.35836,     0.35936,\n",
       "           0.36036,     0.36136,     0.36236,     0.36336,     0.36436,     0.36537,     0.36637,     0.36737,     0.36837,     0.36937,     0.37037,     0.37137,     0.37237,     0.37337,     0.37437,     0.37538,     0.37638,     0.37738,     0.37838,     0.37938,     0.38038,     0.38138,     0.38238,     0.38338,\n",
       "           0.38438,     0.38539,     0.38639,     0.38739,     0.38839,     0.38939,     0.39039,     0.39139,     0.39239,     0.39339,     0.39439,      0.3954,      0.3964,      0.3974,      0.3984,      0.3994,      0.4004,      0.4014,      0.4024,      0.4034,      0.4044,     0.40541,     0.40641,     0.40741,\n",
       "           0.40841,     0.40941,     0.41041,     0.41141,     0.41241,     0.41341,     0.41441,     0.41542,     0.41642,     0.41742,     0.41842,     0.41942,     0.42042,     0.42142,     0.42242,     0.42342,     0.42442,     0.42543,     0.42643,     0.42743,     0.42843,     0.42943,     0.43043,     0.43143,\n",
       "           0.43243,     0.43343,     0.43443,     0.43544,     0.43644,     0.43744,     0.43844,     0.43944,     0.44044,     0.44144,     0.44244,     0.44344,     0.44444,     0.44545,     0.44645,     0.44745,     0.44845,     0.44945,     0.45045,     0.45145,     0.45245,     0.45345,     0.45445,     0.45546,\n",
       "           0.45646,     0.45746,     0.45846,     0.45946,     0.46046,     0.46146,     0.46246,     0.46346,     0.46446,     0.46547,     0.46647,     0.46747,     0.46847,     0.46947,     0.47047,     0.47147,     0.47247,     0.47347,     0.47447,     0.47548,     0.47648,     0.47748,     0.47848,     0.47948,\n",
       "           0.48048,     0.48148,     0.48248,     0.48348,     0.48448,     0.48549,     0.48649,     0.48749,     0.48849,     0.48949,     0.49049,     0.49149,     0.49249,     0.49349,     0.49449,      0.4955,      0.4965,      0.4975,      0.4985,      0.4995,      0.5005,      0.5015,      0.5025,      0.5035,\n",
       "            0.5045,     0.50551,     0.50651,     0.50751,     0.50851,     0.50951,     0.51051,     0.51151,     0.51251,     0.51351,     0.51451,     0.51552,     0.51652,     0.51752,     0.51852,     0.51952,     0.52052,     0.52152,     0.52252,     0.52352,     0.52452,     0.52553,     0.52653,     0.52753,\n",
       "           0.52853,     0.52953,     0.53053,     0.53153,     0.53253,     0.53353,     0.53453,     0.53554,     0.53654,     0.53754,     0.53854,     0.53954,     0.54054,     0.54154,     0.54254,     0.54354,     0.54454,     0.54555,     0.54655,     0.54755,     0.54855,     0.54955,     0.55055,     0.55155,\n",
       "           0.55255,     0.55355,     0.55455,     0.55556,     0.55656,     0.55756,     0.55856,     0.55956,     0.56056,     0.56156,     0.56256,     0.56356,     0.56456,     0.56557,     0.56657,     0.56757,     0.56857,     0.56957,     0.57057,     0.57157,     0.57257,     0.57357,     0.57457,     0.57558,\n",
       "           0.57658,     0.57758,     0.57858,     0.57958,     0.58058,     0.58158,     0.58258,     0.58358,     0.58458,     0.58559,     0.58659,     0.58759,     0.58859,     0.58959,     0.59059,     0.59159,     0.59259,     0.59359,     0.59459,      0.5956,      0.5966,      0.5976,      0.5986,      0.5996,\n",
       "            0.6006,      0.6016,      0.6026,      0.6036,      0.6046,     0.60561,     0.60661,     0.60761,     0.60861,     0.60961,     0.61061,     0.61161,     0.61261,     0.61361,     0.61461,     0.61562,     0.61662,     0.61762,     0.61862,     0.61962,     0.62062,     0.62162,     0.62262,     0.62362,\n",
       "           0.62462,     0.62563,     0.62663,     0.62763,     0.62863,     0.62963,     0.63063,     0.63163,     0.63263,     0.63363,     0.63463,     0.63564,     0.63664,     0.63764,     0.63864,     0.63964,     0.64064,     0.64164,     0.64264,     0.64364,     0.64464,     0.64565,     0.64665,     0.64765,\n",
       "           0.64865,     0.64965,     0.65065,     0.65165,     0.65265,     0.65365,     0.65465,     0.65566,     0.65666,     0.65766,     0.65866,     0.65966,     0.66066,     0.66166,     0.66266,     0.66366,     0.66466,     0.66567,     0.66667,     0.66767,     0.66867,     0.66967,     0.67067,     0.67167,\n",
       "           0.67267,     0.67367,     0.67467,     0.67568,     0.67668,     0.67768,     0.67868,     0.67968,     0.68068,     0.68168,     0.68268,     0.68368,     0.68468,     0.68569,     0.68669,     0.68769,     0.68869,     0.68969,     0.69069,     0.69169,     0.69269,     0.69369,     0.69469,      0.6957,\n",
       "            0.6967,      0.6977,      0.6987,      0.6997,      0.7007,      0.7017,      0.7027,      0.7037,      0.7047,     0.70571,     0.70671,     0.70771,     0.70871,     0.70971,     0.71071,     0.71171,     0.71271,     0.71371,     0.71471,     0.71572,     0.71672,     0.71772,     0.71872,     0.71972,\n",
       "           0.72072,     0.72172,     0.72272,     0.72372,     0.72472,     0.72573,     0.72673,     0.72773,     0.72873,     0.72973,     0.73073,     0.73173,     0.73273,     0.73373,     0.73473,     0.73574,     0.73674,     0.73774,     0.73874,     0.73974,     0.74074,     0.74174,     0.74274,     0.74374,\n",
       "           0.74474,     0.74575,     0.74675,     0.74775,     0.74875,     0.74975,     0.75075,     0.75175,     0.75275,     0.75375,     0.75475,     0.75576,     0.75676,     0.75776,     0.75876,     0.75976,     0.76076,     0.76176,     0.76276,     0.76376,     0.76476,     0.76577,     0.76677,     0.76777,\n",
       "           0.76877,     0.76977,     0.77077,     0.77177,     0.77277,     0.77377,     0.77477,     0.77578,     0.77678,     0.77778,     0.77878,     0.77978,     0.78078,     0.78178,     0.78278,     0.78378,     0.78478,     0.78579,     0.78679,     0.78779,     0.78879,     0.78979,     0.79079,     0.79179,\n",
       "           0.79279,     0.79379,     0.79479,      0.7958,      0.7968,      0.7978,      0.7988,      0.7998,      0.8008,      0.8018,      0.8028,      0.8038,      0.8048,     0.80581,     0.80681,     0.80781,     0.80881,     0.80981,     0.81081,     0.81181,     0.81281,     0.81381,     0.81481,     0.81582,\n",
       "           0.81682,     0.81782,     0.81882,     0.81982,     0.82082,     0.82182,     0.82282,     0.82382,     0.82482,     0.82583,     0.82683,     0.82783,     0.82883,     0.82983,     0.83083,     0.83183,     0.83283,     0.83383,     0.83483,     0.83584,     0.83684,     0.83784,     0.83884,     0.83984,\n",
       "           0.84084,     0.84184,     0.84284,     0.84384,     0.84484,     0.84585,     0.84685,     0.84785,     0.84885,     0.84985,     0.85085,     0.85185,     0.85285,     0.85385,     0.85485,     0.85586,     0.85686,     0.85786,     0.85886,     0.85986,     0.86086,     0.86186,     0.86286,     0.86386,\n",
       "           0.86486,     0.86587,     0.86687,     0.86787,     0.86887,     0.86987,     0.87087,     0.87187,     0.87287,     0.87387,     0.87487,     0.87588,     0.87688,     0.87788,     0.87888,     0.87988,     0.88088,     0.88188,     0.88288,     0.88388,     0.88488,     0.88589,     0.88689,     0.88789,\n",
       "           0.88889,     0.88989,     0.89089,     0.89189,     0.89289,     0.89389,     0.89489,      0.8959,      0.8969,      0.8979,      0.8989,      0.8999,      0.9009,      0.9019,      0.9029,      0.9039,      0.9049,     0.90591,     0.90691,     0.90791,     0.90891,     0.90991,     0.91091,     0.91191,\n",
       "           0.91291,     0.91391,     0.91491,     0.91592,     0.91692,     0.91792,     0.91892,     0.91992,     0.92092,     0.92192,     0.92292,     0.92392,     0.92492,     0.92593,     0.92693,     0.92793,     0.92893,     0.92993,     0.93093,     0.93193,     0.93293,     0.93393,     0.93493,     0.93594,\n",
       "           0.93694,     0.93794,     0.93894,     0.93994,     0.94094,     0.94194,     0.94294,     0.94394,     0.94494,     0.94595,     0.94695,     0.94795,     0.94895,     0.94995,     0.95095,     0.95195,     0.95295,     0.95395,     0.95495,     0.95596,     0.95696,     0.95796,     0.95896,     0.95996,\n",
       "           0.96096,     0.96196,     0.96296,     0.96396,     0.96496,     0.96597,     0.96697,     0.96797,     0.96897,     0.96997,     0.97097,     0.97197,     0.97297,     0.97397,     0.97497,     0.97598,     0.97698,     0.97798,     0.97898,     0.97998,     0.98098,     0.98198,     0.98298,     0.98398,\n",
       "           0.98498,     0.98599,     0.98699,     0.98799,     0.98899,     0.98999,     0.99099,     0.99199,     0.99299,     0.99399,     0.99499,       0.996,       0.997,       0.998,       0.999,           1]), array([[    0.95082,     0.95082,     0.94262,     0.94262,     0.94262,     0.94262,     0.94262,     0.94262,     0.94262,     0.94262,     0.94262,     0.94262,     0.94262,     0.94262,     0.94262,     0.94262,     0.94262,     0.94262,     0.94262,     0.94262,     0.94262,     0.94262,     0.94262,\n",
       "            0.94262,     0.94262,     0.94262,     0.94262,     0.94262,     0.94262,     0.94262,     0.94262,     0.94262,     0.94262,     0.94262,     0.94262,     0.94262,     0.94262,     0.94262,     0.94081,     0.93864,     0.93647,     0.93443,     0.93443,     0.93443,     0.93443,     0.93443,\n",
       "            0.93443,     0.93443,     0.93443,     0.93443,     0.93443,     0.93443,     0.93443,     0.93443,     0.93443,     0.93443,     0.93443,     0.93443,     0.93443,     0.93443,     0.93443,     0.93443,     0.93443,     0.93443,     0.93443,     0.93443,     0.93443,     0.93443,     0.93443,\n",
       "            0.93443,     0.93443,     0.93443,     0.93443,     0.93443,     0.93443,     0.93443,     0.93443,     0.93443,     0.93443,     0.93443,     0.93443,     0.93443,     0.93443,     0.93443,     0.93443,     0.93443,     0.93443,     0.93443,     0.93443,     0.93443,     0.93443,     0.93443,\n",
       "            0.93443,     0.93443,     0.93443,     0.93443,     0.93443,     0.93443,     0.93443,     0.93443,     0.93443,     0.93443,     0.93443,     0.93443,     0.93443,     0.93443,     0.93443,     0.93443,     0.93443,     0.93443,     0.93443,     0.93443,     0.93443,     0.93443,     0.93443,\n",
       "            0.93443,     0.93443,     0.93443,     0.93443,     0.93443,     0.93443,     0.93443,     0.93443,     0.93443,     0.93443,     0.93443,     0.93443,     0.93443,     0.93443,     0.93443,     0.93443,     0.93443,     0.93443,     0.93443,     0.93443,     0.93443,     0.93443,     0.93443,\n",
       "            0.93443,     0.93443,     0.93443,     0.93443,     0.93443,     0.93443,     0.93443,     0.93443,     0.93443,     0.93443,     0.93443,     0.93443,     0.93443,     0.93443,     0.93443,     0.93443,     0.93443,     0.93443,     0.93443,     0.93443,     0.93443,     0.93443,     0.93443,\n",
       "            0.93443,     0.93443,     0.93443,     0.93443,     0.93443,     0.93443,     0.93443,     0.93443,     0.93443,     0.93443,     0.93443,     0.93443,     0.93443,     0.93443,     0.93443,     0.93443,     0.93443,     0.93443,     0.93443,     0.93443,     0.93443,     0.93443,     0.93443,\n",
       "            0.93443,     0.93443,     0.93443,     0.93443,     0.93443,     0.93443,     0.93443,     0.93443,     0.93431,     0.93393,     0.93355,     0.93317,     0.93279,      0.9324,     0.93202,     0.93164,     0.93126,     0.93088,     0.93049,     0.93011,     0.92973,     0.92935,     0.92897,\n",
       "            0.92858,      0.9282,     0.92782,     0.92744,     0.92706,     0.92667,     0.92629,     0.92623,     0.92623,     0.92623,     0.92623,     0.92623,     0.92623,     0.92623,     0.92623,     0.92623,     0.92623,     0.92623,     0.92623,     0.92623,     0.92623,     0.92623,     0.92623,\n",
       "            0.92623,     0.92623,     0.92623,     0.92623,     0.92623,     0.92623,     0.92623,     0.92623,     0.92623,     0.92623,     0.92623,     0.92623,     0.92623,     0.92623,     0.92623,     0.92623,     0.92623,     0.92623,     0.92623,     0.92623,     0.92623,     0.92623,     0.92623,\n",
       "            0.92623,     0.92623,     0.92623,     0.92623,     0.92623,     0.92623,     0.92623,     0.92623,     0.92623,     0.92623,     0.92623,     0.92623,     0.92623,     0.92623,     0.92623,     0.92623,     0.92623,     0.92623,     0.92623,     0.92623,     0.92623,     0.92623,     0.92623,\n",
       "            0.92623,     0.92623,     0.92623,     0.92623,     0.92623,     0.92623,     0.92623,     0.92623,     0.92623,     0.92623,     0.92623,     0.92623,     0.92623,     0.92623,     0.92623,     0.92623,     0.92623,     0.92623,     0.92623,     0.92623,     0.92623,     0.92623,     0.92623,\n",
       "            0.92623,     0.92623,     0.92623,     0.92623,     0.92623,     0.92623,     0.92623,     0.92623,     0.92623,     0.92623,     0.92623,     0.92623,     0.92623,     0.92623,     0.92623,     0.92623,     0.92623,     0.92623,     0.92623,     0.92623,     0.92623,     0.92623,     0.92623,\n",
       "            0.92623,     0.92623,     0.92623,     0.92623,     0.92623,     0.92623,     0.92623,     0.92623,     0.92623,     0.92623,     0.92623,     0.92623,     0.92623,     0.92623,     0.92623,     0.92623,     0.92616,     0.92584,     0.92552,      0.9252,     0.92488,     0.92456,     0.92424,\n",
       "            0.92392,      0.9236,     0.92328,     0.92296,     0.92264,     0.92232,       0.922,     0.92168,     0.92136,     0.92104,     0.92072,      0.9204,     0.92008,     0.91976,     0.91944,     0.91912,      0.9188,     0.91848,     0.91816,     0.91803,     0.91803,     0.91803,     0.91803,\n",
       "            0.91803,     0.91803,     0.91803,     0.91803,     0.91803,     0.91803,     0.91803,     0.91803,     0.91803,     0.91803,     0.91803,     0.91803,     0.91803,     0.91803,     0.91803,     0.91803,     0.91803,     0.91803,     0.91803,     0.91803,     0.91803,     0.91803,     0.91803,\n",
       "            0.91803,     0.91803,     0.91803,     0.91803,     0.91803,     0.91803,     0.91803,     0.91803,     0.91803,     0.91803,     0.91803,     0.91803,     0.91803,     0.91803,     0.91803,     0.91803,     0.91803,     0.91803,     0.91803,     0.91803,     0.91803,     0.91803,     0.91803,\n",
       "            0.91803,     0.91803,     0.91803,     0.91803,     0.91803,     0.91803,     0.91803,     0.91803,     0.91803,     0.91803,     0.91803,     0.91803,     0.91803,     0.91803,     0.91803,     0.91803,     0.91803,     0.91803,     0.91803,     0.91803,     0.91803,     0.91803,     0.91803,\n",
       "            0.91803,     0.91803,     0.91803,     0.91803,     0.91803,     0.91803,     0.91803,     0.91803,     0.91803,     0.91803,     0.91803,     0.91803,     0.91803,     0.91803,     0.91803,     0.91803,     0.91803,     0.91803,     0.91803,     0.91803,     0.91803,     0.91803,     0.91803,\n",
       "            0.91803,     0.91803,     0.91803,     0.91803,     0.91803,     0.91803,     0.91803,     0.91803,     0.91803,     0.91803,     0.91803,     0.91803,     0.91803,     0.91803,     0.91803,     0.91803,     0.91803,     0.91803,     0.91803,     0.91803,     0.91803,     0.91803,     0.91803,\n",
       "            0.91803,     0.91803,     0.91803,     0.91803,     0.91803,     0.91803,     0.91803,     0.91793,     0.91751,     0.91709,     0.91667,     0.91624,     0.91582,      0.9154,     0.91498,     0.91456,     0.91414,     0.91372,      0.9133,     0.91288,     0.91246,     0.91204,     0.91162,\n",
       "             0.9112,     0.91078,     0.91036,     0.90994,     0.90984,     0.90984,     0.90984,     0.90984,     0.90984,     0.90984,     0.90984,     0.90984,     0.90984,     0.90984,     0.90984,     0.90984,     0.90984,     0.90984,     0.90984,     0.90984,     0.90984,     0.90984,     0.90984,\n",
       "            0.90984,     0.90984,     0.90984,     0.90984,     0.90984,     0.90984,     0.90984,     0.90984,     0.90984,     0.90984,     0.90984,     0.90984,     0.90984,     0.90984,     0.90984,     0.90984,     0.90984,     0.90984,     0.90984,     0.90984,     0.90984,     0.90984,     0.90984,\n",
       "            0.90984,     0.90984,     0.90984,     0.90984,     0.90984,     0.90984,     0.90984,     0.90984,     0.90984,     0.90984,     0.90984,     0.90984,     0.90984,     0.90984,     0.90984,     0.90984,     0.90984,     0.90984,     0.90984,     0.90984,     0.90984,     0.90984,     0.90943,\n",
       "            0.90895,     0.90847,     0.90799,     0.90751,     0.90703,     0.90655,     0.90607,     0.90559,     0.90511,     0.90463,     0.90415,     0.90367,     0.90319,     0.90271,     0.90223,     0.90175,     0.90133,     0.90093,     0.90053,     0.90013,     0.89973,     0.89933,     0.89893,\n",
       "            0.89853,     0.89813,     0.89773,     0.89733,     0.89693,     0.89653,     0.89613,     0.89573,     0.89533,     0.89493,     0.89453,     0.89413,     0.89373,     0.89344,     0.89344,     0.89344,     0.89344,     0.89344,     0.89344,     0.89344,     0.89344,     0.89344,     0.89344,\n",
       "            0.89344,     0.89344,     0.89344,     0.89344,     0.89325,     0.89294,     0.89263,     0.89231,       0.892,     0.89169,     0.89138,     0.89107,     0.89076,     0.89045,     0.89014,     0.88983,     0.88951,      0.8892,     0.88889,     0.88858,     0.88827,     0.88796,     0.88765,\n",
       "            0.88734,     0.88702,     0.88671,      0.8864,     0.88609,     0.88578,     0.88547,     0.88525,     0.88525,     0.88525,     0.88525,     0.88525,     0.88525,     0.88525,     0.88525,     0.88525,     0.88525,     0.88525,     0.88525,     0.88525,     0.88511,     0.88391,     0.88271,\n",
       "            0.88151,     0.88031,     0.87911,     0.87791,     0.87609,     0.87273,     0.86937,     0.86885,     0.86885,     0.86885,     0.86885,     0.86885,     0.86885,     0.86885,     0.86885,     0.86885,     0.86885,     0.86885,     0.86885,     0.86885,     0.86885,     0.86885,     0.86885,\n",
       "            0.86885,     0.86885,     0.86885,     0.86885,     0.86885,     0.86885,     0.86885,     0.86885,     0.86885,     0.86885,     0.86885,     0.86885,     0.86885,     0.86885,     0.86885,     0.86885,     0.86885,     0.86885,     0.86885,     0.86885,     0.86885,     0.86885,     0.86885,\n",
       "            0.86885,     0.86411,     0.86033,     0.85949,     0.85865,     0.85781,     0.85697,     0.85613,     0.85529,     0.85445,     0.85361,     0.85277,     0.85208,     0.85148,     0.85088,     0.85028,     0.84968,     0.84908,     0.84848,     0.84788,     0.84728,     0.84668,     0.84608,\n",
       "            0.84548,     0.84488,     0.84428,     0.84426,     0.84426,     0.84421,     0.84309,     0.84197,     0.84085,     0.83973,     0.83861,     0.83749,     0.83637,     0.83519,     0.83399,     0.83279,     0.83159,     0.83039,     0.82919,     0.82799,     0.82572,     0.82332,     0.82092,\n",
       "            0.81894,     0.81741,     0.81588,     0.81435,     0.81283,     0.81115,     0.80835,     0.80555,     0.80169,     0.79484,     0.79372,      0.7926,     0.79148,     0.79036,     0.78924,     0.78812,       0.787,      0.7862,     0.78544,     0.78467,     0.78391,     0.78314,     0.78238,\n",
       "            0.78162,     0.78085,     0.78009,     0.77933,     0.77869,     0.77869,     0.77869,     0.77869,     0.77869,     0.77869,     0.77869,     0.77816,     0.77751,     0.77686,     0.77622,     0.77557,     0.77492,     0.77428,     0.77363,     0.77299,     0.77234,     0.77169,     0.77105,\n",
       "             0.7693,     0.76208,     0.76079,      0.7595,      0.7582,     0.75691,     0.75562,     0.75432,     0.75344,     0.75264,     0.75184,     0.75104,     0.75024,     0.74944,     0.74864,     0.74784,     0.74704,     0.74624,      0.7452,       0.744,      0.7428,      0.7416,      0.7404,\n",
       "             0.7392,       0.738,      0.7359,      0.7335,      0.7311,     0.72856,     0.72576,     0.72296,     0.71786,     0.71068,     0.70508,     0.69675,     0.69627,     0.69581,     0.69536,     0.69491,     0.69445,       0.694,     0.69354,     0.69309,     0.69264,     0.69218,     0.69173,\n",
       "            0.69127,     0.69082,     0.69036,     0.68991,     0.68946,       0.689,     0.68855,     0.68625,     0.68385,     0.68145,     0.67943,     0.67775,     0.67607,     0.67439,     0.67271,     0.67158,     0.67074,      0.6699,     0.66906,     0.66822,     0.66738,     0.66654,      0.6657,\n",
       "            0.66486,     0.66402,      0.6507,     0.64705,     0.64593,     0.64481,     0.64369,     0.64257,     0.64145,     0.64033,     0.63894,     0.63558,     0.63222,     0.62543,     0.62225,     0.62127,     0.62028,     0.61929,      0.6183,     0.61731,     0.61632,     0.61534,     0.61422,\n",
       "            0.61293,     0.61164,     0.61034,     0.60905,     0.60776,     0.60649,     0.60556,     0.60462,     0.60369,     0.60276,     0.60182,     0.60089,     0.59996,     0.59902,     0.59766,     0.59526,     0.59286,     0.59046,     0.58648,     0.58228,     0.58067,     0.57927,     0.57787,\n",
       "            0.57647,     0.57507,     0.57367,     0.57227,     0.57087,     0.56947,     0.56807,     0.56667,     0.56191,     0.55676,     0.55592,     0.55508,     0.55424,      0.5534,     0.55256,     0.55172,     0.55088,     0.55004,      0.5492,     0.53972,     0.53843,     0.53714,     0.53585,\n",
       "            0.53455,     0.53326,     0.53127,     0.52887,     0.52647,     0.52276,     0.51558,     0.51222,     0.50886,     0.50651,     0.50441,     0.50231,     0.50021,     0.49621,     0.49201,     0.48382,     0.47542,     0.47205,     0.46869,     0.44202,      0.4341,     0.43074,     0.42738,\n",
       "            0.40841,     0.39018,     0.36518,     0.33198,     0.30513,     0.25165,     0.23239,     0.19919,     0.11681,     0.07542,    0.045701,    0.029103,    0.016812,    0.013116,   0.0097557,           0,           0,           0,           0,           0,           0,           0,           0,\n",
       "                  0,           0,           0,           0,           0,           0,           0,           0,           0,           0,           0]]), 'Confidence', 'Recall']]\n",
       "fitness: 0.8379047214126149\n",
       "keys: ['metrics/precision(B)', 'metrics/recall(B)', 'metrics/mAP50(B)', 'metrics/mAP50-95(B)']\n",
       "maps: array([    0.82568,     0.82568])\n",
       "names: {0: 'license-plat', 1: 'p'}\n",
       "plot: True\n",
       "results_dict: {'metrics/precision(B)': 0.9092497260355117, 'metrics/recall(B)': 0.9098360655737705, 'metrics/mAP50(B)': 0.9479691700204074, 'metrics/mAP50-95(B)': 0.8256753382339712, 'fitness': 0.8379047214126149}\n",
       "save_dir: WindowsPath('runs/detect/train3')\n",
       "speed: {'preprocess': 0.07997807017346259, 'inference': 1.5755122807057997, 'loss': 0.0004438596501961257, 'postprocess': 0.8655385964897377}\n",
       "task: 'detect'"
      ]
     },
     "execution_count": 21,
     "metadata": {},
     "output_type": "execute_result"
    }
   ],
   "source": [
    "model.train(data='C:/Jobs/ANPR/TrainingPt3/dataset/data.yaml', epochs=100)"
   ]
  },
  {
   "cell_type": "markdown",
   "id": "01c2e6f5",
   "metadata": {},
   "source": [
    "**INITIALIZE INFERENCE**"
   ]
  },
  {
   "cell_type": "code",
   "execution_count": 22,
   "id": "e99c88ef",
   "metadata": {},
   "outputs": [
    {
     "name": "stdout",
     "output_type": "stream",
     "text": [
      "[2025/04/16 08:37:10] ppocr DEBUG: Namespace(help='==SUPPRESS==', use_gpu=False, use_xpu=False, use_npu=False, use_mlu=False, use_gcu=False, ir_optim=True, use_tensorrt=False, min_subgraph_size=15, precision='fp32', gpu_mem=500, gpu_id=0, image_dir=None, page_num=0, det_algorithm='DB', det_model_dir='C:\\\\Users\\\\USER/.paddleocr/whl\\\\det\\\\en\\\\en_PP-OCRv3_det_infer', det_limit_side_len=960, det_limit_type='max', det_box_type='quad', det_db_thresh=0.3, det_db_box_thresh=0.6, det_db_unclip_ratio=1.5, max_batch_size=10, use_dilation=False, det_db_score_mode='fast', det_east_score_thresh=0.8, det_east_cover_thresh=0.1, det_east_nms_thresh=0.2, det_sast_score_thresh=0.5, det_sast_nms_thresh=0.2, det_pse_thresh=0, det_pse_box_thresh=0.85, det_pse_min_area=16, det_pse_scale=1, scales=[8, 16, 32], alpha=1.0, beta=1.0, fourier_degree=5, rec_algorithm='SVTR_LCNet', rec_model_dir='C:\\\\Users\\\\USER/.paddleocr/whl\\\\rec\\\\en\\\\en_PP-OCRv4_rec_infer', rec_image_inverse=True, rec_image_shape='3, 48, 320', rec_batch_num=6, max_text_length=25, rec_char_dict_path='c:\\\\Users\\\\USER\\\\anaconda3\\\\envs\\\\anpr\\\\lib\\\\site-packages\\\\paddleocr\\\\ppocr\\\\utils\\\\en_dict.txt', use_space_char=True, vis_font_path='./doc/fonts/simfang.ttf', drop_score=0.5, e2e_algorithm='PGNet', e2e_model_dir=None, e2e_limit_side_len=768, e2e_limit_type='max', e2e_pgnet_score_thresh=0.5, e2e_char_dict_path='./ppocr/utils/ic15_dict.txt', e2e_pgnet_valid_set='totaltext', e2e_pgnet_mode='fast', use_angle_cls=True, cls_model_dir='C:\\\\Users\\\\USER/.paddleocr/whl\\\\cls\\\\ch_ppocr_mobile_v2.0_cls_infer', cls_image_shape='3, 48, 192', label_list=['0', '180'], cls_batch_num=6, cls_thresh=0.9, enable_mkldnn=False, cpu_threads=10, use_pdserving=False, warmup=False, sr_model_dir=None, sr_image_shape='3, 32, 128', sr_batch_num=1, draw_img_save_dir='./inference_results', save_crop_res=False, crop_res_save_dir='./output', use_mp=False, total_process_num=1, process_id=0, benchmark=False, save_log_path='./log_output/', show_log=True, use_onnx=False, onnx_providers=False, onnx_sess_options=False, return_word_box=False, output='./output', table_max_len=488, table_algorithm='TableAttn', table_model_dir=None, merge_no_span_structure=True, table_char_dict_path=None, formula_algorithm='LaTeXOCR', formula_model_dir=None, formula_char_dict_path=None, formula_batch_num=1, layout_model_dir=None, layout_dict_path=None, layout_score_threshold=0.5, layout_nms_threshold=0.5, kie_algorithm='LayoutXLM', ser_model_dir=None, re_model_dir=None, use_visual_backbone=True, ser_dict_path='../train_data/XFUND/class_list_xfun.txt', ocr_order_method=None, mode='structure', image_orientation=False, layout=True, table=True, formula=False, ocr=True, recovery=False, recovery_to_markdown=False, use_pdf2docx_api=False, invert=False, binarize=False, alphacolor=(255, 255, 255), lang='en', det=True, rec=True, type='ocr', savefile=False, ocr_version='PP-OCRv4', structure_version='PP-StructureV2')\n"
     ]
    }
   ],
   "source": [
    "model = YOLO(\"./runs/detect/train/weights/best.pt\")\n",
    "ocr = PaddleOCR(use_angle_cls=True, lang='en')\n",
    "\n",
    "PLATE_REGEX = r\"^[A-Z]{1,2} ?\\d{1,4} ?[A-Z]{2,3}$\""
   ]
  },
  {
   "cell_type": "code",
   "execution_count": 25,
   "id": "76b24065",
   "metadata": {},
   "outputs": [
    {
     "name": "stdout",
     "output_type": "stream",
     "text": [
      "Ultralytics 8.3.107  Python-3.9.21 torch-2.8.0.dev20250410+cu128 CUDA:0 (NVIDIA GeForce RTX 5070, 12227MiB)\n"
     ]
    },
    {
     "name": "stderr",
     "output_type": "stream",
     "text": [
      "\u001b[34m\u001b[1mval: \u001b[0mScanning C:\\Jobs\\ANPR\\TrainingPt3\\dataset\\valid\\labels.cache... 114 images, 0 backgrounds, 0 corrupt: 100%|██████████| 114/114 [00:00<?, ?it/s]"
     ]
    },
    {
     "name": "stdout",
     "output_type": "stream",
     "text": [
      "\u001b[34m\u001b[1mval: \u001b[0mWARNING  C:\\Jobs\\ANPR\\TrainingPt3\\dataset\\valid\\images\\222-E-4578-TL-15-22_jpeg.rf.41cca04e746e2883835ac83fc629c3e0.jpg: 1 duplicate labels removed\n",
      "WARNING  Box and segment counts should be equal, but got len(segments) = 28, len(boxes) = 122. To resolve this only boxes will be used and all segments will be removed. To avoid this please supply either a detect or segment dataset, not a detect-segment mixed dataset.\n"
     ]
    },
    {
     "name": "stderr",
     "output_type": "stream",
     "text": [
      "\n",
      "                 Class     Images  Instances      Box(P          R      mAP50  mAP50-95): 100%|██████████| 8/8 [00:05<00:00,  1.59it/s]\n"
     ]
    },
    {
     "name": "stdout",
     "output_type": "stream",
     "text": [
      "                   all        114        122      0.909       0.91      0.948      0.827\n",
      "          license-plat        114        122      0.909       0.91      0.948      0.827\n",
      "Speed: 0.8ms preprocess, 3.4ms inference, 0.0ms loss, 1.0ms postprocess per image\n",
      "Results saved to \u001b[1mruns\\detect\\val\u001b[0m\n"
     ]
    }
   ],
   "source": [
    "metrics = model.val()"
   ]
  },
  {
   "cell_type": "markdown",
   "id": "f44eaec5",
   "metadata": {},
   "source": [
    "**INFERENCE**"
   ]
  },
  {
   "cell_type": "code",
   "execution_count": 23,
   "id": "44fbec0e",
   "metadata": {},
   "outputs": [],
   "source": [
    "def normalize_plate(text):\n",
    "    text = text.replace(\" \", \"\").upper()\n",
    "    match = re.match(r\"^([A-Z]{1,2})(\\d{1,4})([A-Z]{2,3})$\", text)\n",
    "    if match:\n",
    "        return f\"{match.group(1)} {match.group(2)} {match.group(3)}\"\n",
    "    return None"
   ]
  },
  {
   "cell_type": "code",
   "execution_count": 24,
   "id": "1b9c5f2e",
   "metadata": {},
   "outputs": [
    {
     "name": "stdout",
     "output_type": "stream",
     "text": [
      "\n",
      "0: 480x640 (no detections), 14.8ms\n",
      "Speed: 9.3ms preprocess, 14.8ms inference, 0.4ms postprocess per image at shape (1, 3, 480, 640)\n",
      "\n",
      "0: 480x640 (no detections), 12.6ms\n",
      "Speed: 6.8ms preprocess, 12.6ms inference, 0.4ms postprocess per image at shape (1, 3, 480, 640)\n",
      "\n",
      "0: 480x640 (no detections), 10.5ms\n",
      "Speed: 0.9ms preprocess, 10.5ms inference, 0.4ms postprocess per image at shape (1, 3, 480, 640)\n",
      "\n",
      "0: 480x640 (no detections), 26.8ms\n",
      "Speed: 1.3ms preprocess, 26.8ms inference, 0.7ms postprocess per image at shape (1, 3, 480, 640)\n",
      "\n",
      "0: 480x640 (no detections), 11.8ms\n",
      "Speed: 1.3ms preprocess, 11.8ms inference, 0.5ms postprocess per image at shape (1, 3, 480, 640)\n",
      "\n",
      "0: 480x640 (no detections), 11.9ms\n",
      "Speed: 1.0ms preprocess, 11.9ms inference, 0.6ms postprocess per image at shape (1, 3, 480, 640)\n",
      "\n",
      "0: 480x640 (no detections), 11.0ms\n",
      "Speed: 1.1ms preprocess, 11.0ms inference, 0.6ms postprocess per image at shape (1, 3, 480, 640)\n",
      "\n",
      "0: 480x640 (no detections), 10.7ms\n",
      "Speed: 1.1ms preprocess, 10.7ms inference, 0.4ms postprocess per image at shape (1, 3, 480, 640)\n",
      "\n",
      "0: 480x640 (no detections), 11.9ms\n",
      "Speed: 1.0ms preprocess, 11.9ms inference, 0.5ms postprocess per image at shape (1, 3, 480, 640)\n",
      "\n",
      "0: 480x640 (no detections), 15.2ms\n",
      "Speed: 1.3ms preprocess, 15.2ms inference, 0.4ms postprocess per image at shape (1, 3, 480, 640)\n",
      "\n",
      "0: 480x640 (no detections), 15.0ms\n",
      "Speed: 1.1ms preprocess, 15.0ms inference, 0.5ms postprocess per image at shape (1, 3, 480, 640)\n",
      "\n",
      "0: 480x640 (no detections), 11.9ms\n",
      "Speed: 1.3ms preprocess, 11.9ms inference, 0.4ms postprocess per image at shape (1, 3, 480, 640)\n",
      "\n",
      "0: 480x640 (no detections), 9.6ms\n",
      "Speed: 1.0ms preprocess, 9.6ms inference, 0.4ms postprocess per image at shape (1, 3, 480, 640)\n",
      "\n",
      "0: 480x640 (no detections), 9.7ms\n",
      "Speed: 1.1ms preprocess, 9.7ms inference, 0.4ms postprocess per image at shape (1, 3, 480, 640)\n",
      "\n",
      "0: 480x640 (no detections), 10.1ms\n",
      "Speed: 0.8ms preprocess, 10.1ms inference, 0.4ms postprocess per image at shape (1, 3, 480, 640)\n",
      "\n",
      "0: 480x640 (no detections), 9.7ms\n",
      "Speed: 1.0ms preprocess, 9.7ms inference, 0.4ms postprocess per image at shape (1, 3, 480, 640)\n",
      "\n",
      "0: 480x640 (no detections), 9.4ms\n",
      "Speed: 0.9ms preprocess, 9.4ms inference, 0.4ms postprocess per image at shape (1, 3, 480, 640)\n",
      "\n",
      "0: 480x640 (no detections), 10.8ms\n",
      "Speed: 0.8ms preprocess, 10.8ms inference, 0.4ms postprocess per image at shape (1, 3, 480, 640)\n",
      "\n",
      "0: 480x640 (no detections), 9.7ms\n",
      "Speed: 0.9ms preprocess, 9.7ms inference, 0.4ms postprocess per image at shape (1, 3, 480, 640)\n",
      "\n",
      "0: 480x640 (no detections), 9.6ms\n",
      "Speed: 1.0ms preprocess, 9.6ms inference, 0.4ms postprocess per image at shape (1, 3, 480, 640)\n",
      "\n",
      "0: 480x640 (no detections), 10.1ms\n",
      "Speed: 0.9ms preprocess, 10.1ms inference, 0.4ms postprocess per image at shape (1, 3, 480, 640)\n",
      "\n",
      "0: 480x640 (no detections), 10.3ms\n",
      "Speed: 0.9ms preprocess, 10.3ms inference, 0.4ms postprocess per image at shape (1, 3, 480, 640)\n",
      "\n",
      "0: 480x640 (no detections), 10.3ms\n",
      "Speed: 1.0ms preprocess, 10.3ms inference, 0.4ms postprocess per image at shape (1, 3, 480, 640)\n",
      "\n",
      "0: 480x640 (no detections), 9.8ms\n",
      "Speed: 1.0ms preprocess, 9.8ms inference, 0.4ms postprocess per image at shape (1, 3, 480, 640)\n",
      "\n",
      "0: 480x640 1 license-plat, 10.1ms\n",
      "Speed: 0.9ms preprocess, 10.1ms inference, 1.9ms postprocess per image at shape (1, 3, 480, 640)\n",
      "[2025/04/16 08:37:17] ppocr DEBUG: dt_boxes num : 0, elapsed : 0.24460291862487793\n",
      "[2025/04/16 08:37:17] ppocr DEBUG: cls num  : 0, elapsed : 0\n",
      "[2025/04/16 08:37:17] ppocr DEBUG: rec_res num  : 0, elapsed : 0.0\n",
      "\n",
      "0: 480x640 1 license-plat, 10.6ms\n",
      "Speed: 0.8ms preprocess, 10.6ms inference, 1.0ms postprocess per image at shape (1, 3, 480, 640)\n",
      "[2025/04/16 08:37:17] ppocr DEBUG: dt_boxes num : 0, elapsed : 0.1034543514251709\n",
      "[2025/04/16 08:37:17] ppocr DEBUG: cls num  : 0, elapsed : 0\n",
      "[2025/04/16 08:37:17] ppocr DEBUG: rec_res num  : 0, elapsed : 0.0\n",
      "\n",
      "0: 480x640 (no detections), 10.3ms\n",
      "Speed: 3.4ms preprocess, 10.3ms inference, 0.6ms postprocess per image at shape (1, 3, 480, 640)\n",
      "\n",
      "0: 480x640 (no detections), 9.6ms\n",
      "Speed: 1.0ms preprocess, 9.6ms inference, 0.4ms postprocess per image at shape (1, 3, 480, 640)\n",
      "\n",
      "0: 480x640 1 license-plat, 10.0ms\n",
      "Speed: 0.9ms preprocess, 10.0ms inference, 0.9ms postprocess per image at shape (1, 3, 480, 640)\n",
      "[2025/04/16 08:37:18] ppocr DEBUG: dt_boxes num : 0, elapsed : 0.10803365707397461\n",
      "[2025/04/16 08:37:18] ppocr DEBUG: cls num  : 0, elapsed : 0\n",
      "[2025/04/16 08:37:18] ppocr DEBUG: rec_res num  : 0, elapsed : 0.0\n",
      "\n",
      "0: 480x640 1 license-plat, 10.2ms\n",
      "Speed: 0.9ms preprocess, 10.2ms inference, 0.9ms postprocess per image at shape (1, 3, 480, 640)\n",
      "[2025/04/16 08:37:18] ppocr DEBUG: dt_boxes num : 1, elapsed : 0.10996651649475098\n",
      "[2025/04/16 08:37:18] ppocr DEBUG: cls num  : 1, elapsed : 0.06143474578857422\n",
      "[2025/04/16 08:37:18] ppocr DEBUG: rec_res num  : 1, elapsed : 0.11693167686462402\n",
      "\n",
      "0: 480x640 1 license-plat, 10.1ms\n",
      "Speed: 3.9ms preprocess, 10.1ms inference, 0.9ms postprocess per image at shape (1, 3, 480, 640)\n",
      "[2025/04/16 08:37:18] ppocr DEBUG: dt_boxes num : 0, elapsed : 0.06525278091430664\n",
      "[2025/04/16 08:37:18] ppocr DEBUG: cls num  : 0, elapsed : 0\n",
      "[2025/04/16 08:37:18] ppocr DEBUG: rec_res num  : 0, elapsed : 0.0\n",
      "\n",
      "0: 480x640 1 license-plat, 9.8ms\n",
      "Speed: 0.8ms preprocess, 9.8ms inference, 1.0ms postprocess per image at shape (1, 3, 480, 640)\n",
      "[2025/04/16 08:37:18] ppocr DEBUG: dt_boxes num : 1, elapsed : 0.0773019790649414\n",
      "[2025/04/16 08:37:18] ppocr DEBUG: cls num  : 1, elapsed : 0.003505706787109375\n",
      "[2025/04/16 08:37:18] ppocr DEBUG: rec_res num  : 1, elapsed : 0.07181453704833984\n",
      "\n",
      "0: 480x640 1 license-plat, 9.5ms\n",
      "Speed: 2.4ms preprocess, 9.5ms inference, 0.9ms postprocess per image at shape (1, 3, 480, 640)\n",
      "[2025/04/16 08:37:18] ppocr DEBUG: dt_boxes num : 2, elapsed : 0.014742136001586914\n",
      "[2025/04/16 08:37:18] ppocr DEBUG: cls num  : 2, elapsed : 0.03261876106262207\n",
      "[2025/04/16 08:37:18] ppocr DEBUG: rec_res num  : 2, elapsed : 0.11780953407287598\n",
      "\n",
      "0: 480x640 1 license-plat, 9.7ms\n",
      "Speed: 5.2ms preprocess, 9.7ms inference, 0.9ms postprocess per image at shape (1, 3, 480, 640)\n",
      "[2025/04/16 08:37:19] ppocr DEBUG: dt_boxes num : 2, elapsed : 0.04302501678466797\n",
      "[2025/04/16 08:37:19] ppocr DEBUG: cls num  : 2, elapsed : 0.001081228256225586\n",
      "[2025/04/16 08:37:19] ppocr DEBUG: rec_res num  : 2, elapsed : 0.04665732383728027\n",
      "\n",
      "0: 480x640 1 license-plat, 11.4ms\n",
      "Speed: 1.3ms preprocess, 11.4ms inference, 1.0ms postprocess per image at shape (1, 3, 480, 640)\n",
      "[2025/04/16 08:37:19] ppocr DEBUG: dt_boxes num : 2, elapsed : 0.04096174240112305\n",
      "[2025/04/16 08:37:19] ppocr DEBUG: cls num  : 2, elapsed : 0.004515409469604492\n",
      "[2025/04/16 08:37:19] ppocr DEBUG: rec_res num  : 2, elapsed : 0.04225349426269531\n",
      "\n",
      "0: 480x640 1 license-plat, 13.4ms\n",
      "Speed: 1.2ms preprocess, 13.4ms inference, 1.0ms postprocess per image at shape (1, 3, 480, 640)\n",
      "[2025/04/16 08:37:19] ppocr DEBUG: dt_boxes num : 2, elapsed : 0.010614395141601562\n",
      "[2025/04/16 08:37:19] ppocr DEBUG: cls num  : 2, elapsed : 0.004058361053466797\n",
      "[2025/04/16 08:37:19] ppocr DEBUG: rec_res num  : 2, elapsed : 0.04184889793395996\n",
      "\n",
      "0: 480x640 1 license-plat, 9.6ms\n",
      "Speed: 0.8ms preprocess, 9.6ms inference, 0.9ms postprocess per image at shape (1, 3, 480, 640)\n",
      "[2025/04/16 08:37:19] ppocr DEBUG: dt_boxes num : 2, elapsed : 0.009781360626220703\n",
      "[2025/04/16 08:37:19] ppocr DEBUG: cls num  : 2, elapsed : 0.0045053958892822266\n",
      "[2025/04/16 08:37:19] ppocr DEBUG: rec_res num  : 2, elapsed : 0.042830467224121094\n",
      "\n",
      "0: 480x640 1 license-plat, 11.2ms\n",
      "Speed: 0.9ms preprocess, 11.2ms inference, 1.3ms postprocess per image at shape (1, 3, 480, 640)\n",
      "[2025/04/16 08:37:19] ppocr DEBUG: dt_boxes num : 2, elapsed : 0.009386301040649414\n",
      "[2025/04/16 08:37:19] ppocr DEBUG: cls num  : 2, elapsed : 0.0050008296966552734\n",
      "[2025/04/16 08:37:19] ppocr DEBUG: rec_res num  : 2, elapsed : 0.04133772850036621\n",
      "\n",
      "0: 480x640 1 license-plat, 9.8ms\n",
      "Speed: 0.8ms preprocess, 9.8ms inference, 0.9ms postprocess per image at shape (1, 3, 480, 640)\n",
      "[2025/04/16 08:37:19] ppocr DEBUG: dt_boxes num : 2, elapsed : 0.010903596878051758\n",
      "[2025/04/16 08:37:19] ppocr DEBUG: cls num  : 2, elapsed : 0.004208564758300781\n",
      "[2025/04/16 08:37:19] ppocr DEBUG: rec_res num  : 2, elapsed : 0.04237198829650879\n",
      "\n",
      "0: 480x640 1 license-plat, 9.8ms\n",
      "Speed: 0.8ms preprocess, 9.8ms inference, 0.9ms postprocess per image at shape (1, 3, 480, 640)\n",
      "[2025/04/16 08:37:19] ppocr DEBUG: dt_boxes num : 2, elapsed : 0.012202739715576172\n",
      "[2025/04/16 08:37:19] ppocr DEBUG: cls num  : 2, elapsed : 0.003999233245849609\n",
      "[2025/04/16 08:37:19] ppocr DEBUG: rec_res num  : 2, elapsed : 0.04387712478637695\n",
      "\n",
      "0: 480x640 1 license-plat, 9.3ms\n",
      "Speed: 0.7ms preprocess, 9.3ms inference, 0.9ms postprocess per image at shape (1, 3, 480, 640)\n",
      "[2025/04/16 08:37:19] ppocr DEBUG: dt_boxes num : 2, elapsed : 0.013170957565307617\n",
      "[2025/04/16 08:37:19] ppocr DEBUG: cls num  : 2, elapsed : 0.00450444221496582\n",
      "[2025/04/16 08:37:19] ppocr DEBUG: rec_res num  : 2, elapsed : 0.042606353759765625\n",
      "\n",
      "0: 480x640 1 license-plat, 9.4ms\n",
      "Speed: 0.8ms preprocess, 9.4ms inference, 0.9ms postprocess per image at shape (1, 3, 480, 640)\n",
      "[2025/04/16 08:37:19] ppocr DEBUG: dt_boxes num : 2, elapsed : 0.013013124465942383\n",
      "[2025/04/16 08:37:19] ppocr DEBUG: cls num  : 2, elapsed : 0.004998922348022461\n",
      "[2025/04/16 08:37:19] ppocr DEBUG: rec_res num  : 2, elapsed : 0.043554067611694336\n",
      "\n",
      "0: 480x640 1 license-plat, 9.6ms\n",
      "Speed: 0.9ms preprocess, 9.6ms inference, 0.9ms postprocess per image at shape (1, 3, 480, 640)\n",
      "[2025/04/16 08:37:19] ppocr DEBUG: dt_boxes num : 2, elapsed : 0.011568069458007812\n",
      "[2025/04/16 08:37:19] ppocr DEBUG: cls num  : 2, elapsed : 0.004998683929443359\n",
      "[2025/04/16 08:37:19] ppocr DEBUG: rec_res num  : 2, elapsed : 0.043592214584350586\n",
      "\n",
      "0: 480x640 1 license-plat, 10.0ms\n",
      "Speed: 0.8ms preprocess, 10.0ms inference, 1.0ms postprocess per image at shape (1, 3, 480, 640)\n",
      "[2025/04/16 08:37:19] ppocr DEBUG: dt_boxes num : 2, elapsed : 0.012511014938354492\n",
      "[2025/04/16 08:37:19] ppocr DEBUG: cls num  : 2, elapsed : 0.0055065155029296875\n",
      "[2025/04/16 08:37:19] ppocr DEBUG: rec_res num  : 2, elapsed : 0.04246258735656738\n",
      "\n",
      "0: 480x640 1 license-plat, 12.7ms\n",
      "Speed: 1.0ms preprocess, 12.7ms inference, 0.9ms postprocess per image at shape (1, 3, 480, 640)\n",
      "[2025/04/16 08:37:20] ppocr DEBUG: dt_boxes num : 3, elapsed : 0.013022899627685547\n",
      "[2025/04/16 08:37:20] ppocr DEBUG: cls num  : 3, elapsed : 0.025159835815429688\n",
      "[2025/04/16 08:37:20] ppocr DEBUG: rec_res num  : 3, elapsed : 0.13016533851623535\n",
      "\n",
      "0: 480x640 1 license-plat, 9.9ms\n",
      "Speed: 1.1ms preprocess, 9.9ms inference, 1.0ms postprocess per image at shape (1, 3, 480, 640)\n",
      "[2025/04/16 08:37:20] ppocr DEBUG: dt_boxes num : 2, elapsed : 0.04514050483703613\n",
      "[2025/04/16 08:37:20] ppocr DEBUG: cls num  : 2, elapsed : 0.004511833190917969\n",
      "[2025/04/16 08:37:20] ppocr DEBUG: rec_res num  : 2, elapsed : 0.04253220558166504\n",
      "\n",
      "0: 480x640 1 license-plat, 9.6ms\n",
      "Speed: 1.3ms preprocess, 9.6ms inference, 1.0ms postprocess per image at shape (1, 3, 480, 640)\n",
      "[2025/04/16 08:37:20] ppocr DEBUG: dt_boxes num : 2, elapsed : 0.07970547676086426\n",
      "[2025/04/16 08:37:20] ppocr DEBUG: cls num  : 2, elapsed : 0.004511117935180664\n",
      "[2025/04/16 08:37:20] ppocr DEBUG: rec_res num  : 2, elapsed : 0.04266357421875\n",
      "\n",
      "0: 480x640 1 license-plat, 9.6ms\n",
      "Speed: 1.0ms preprocess, 9.6ms inference, 0.9ms postprocess per image at shape (1, 3, 480, 640)\n",
      "[2025/04/16 08:37:20] ppocr DEBUG: dt_boxes num : 2, elapsed : 0.045311927795410156\n",
      "[2025/04/16 08:37:20] ppocr DEBUG: cls num  : 2, elapsed : 0.003999471664428711\n",
      "[2025/04/16 08:37:20] ppocr DEBUG: rec_res num  : 2, elapsed : 0.04243302345275879\n",
      "\n",
      "0: 480x640 1 license-plat, 9.8ms\n",
      "Speed: 1.2ms preprocess, 9.8ms inference, 0.9ms postprocess per image at shape (1, 3, 480, 640)\n",
      "[2025/04/16 08:37:20] ppocr DEBUG: dt_boxes num : 1, elapsed : 0.10355114936828613\n",
      "[2025/04/16 08:37:20] ppocr DEBUG: cls num  : 1, elapsed : 0.023641586303710938\n",
      "[2025/04/16 08:37:20] ppocr DEBUG: rec_res num  : 1, elapsed : 0.06265783309936523\n",
      "\n",
      "0: 480x640 (no detections), 9.7ms\n",
      "Speed: 0.8ms preprocess, 9.7ms inference, 0.4ms postprocess per image at shape (1, 3, 480, 640)\n",
      "\n",
      "0: 480x640 (no detections), 10.4ms\n",
      "Speed: 0.8ms preprocess, 10.4ms inference, 0.4ms postprocess per image at shape (1, 3, 480, 640)\n",
      "\n",
      "0: 480x640 1 license-plat, 9.2ms\n",
      "Speed: 0.7ms preprocess, 9.2ms inference, 0.9ms postprocess per image at shape (1, 3, 480, 640)\n",
      "[2025/04/16 08:37:20] ppocr DEBUG: dt_boxes num : 0, elapsed : 0.0651097297668457\n",
      "[2025/04/16 08:37:20] ppocr DEBUG: cls num  : 0, elapsed : 0\n",
      "[2025/04/16 08:37:20] ppocr DEBUG: rec_res num  : 0, elapsed : 0.0\n",
      "\n",
      "0: 480x640 (no detections), 9.6ms\n",
      "Speed: 1.0ms preprocess, 9.6ms inference, 0.4ms postprocess per image at shape (1, 3, 480, 640)\n",
      "\n",
      "0: 480x640 (no detections), 10.4ms\n",
      "Speed: 0.9ms preprocess, 10.4ms inference, 0.4ms postprocess per image at shape (1, 3, 480, 640)\n",
      "\n",
      "0: 480x640 (no detections), 9.7ms\n",
      "Speed: 0.8ms preprocess, 9.7ms inference, 0.4ms postprocess per image at shape (1, 3, 480, 640)\n",
      "\n",
      "0: 480x640 (no detections), 10.2ms\n",
      "Speed: 0.8ms preprocess, 10.2ms inference, 0.4ms postprocess per image at shape (1, 3, 480, 640)\n",
      "\n",
      "0: 480x640 (no detections), 12.1ms\n",
      "Speed: 1.3ms preprocess, 12.1ms inference, 0.5ms postprocess per image at shape (1, 3, 480, 640)\n",
      "\n",
      "0: 480x640 1 license-plat, 9.7ms\n",
      "Speed: 0.8ms preprocess, 9.7ms inference, 0.9ms postprocess per image at shape (1, 3, 480, 640)\n",
      "[2025/04/16 08:37:21] ppocr DEBUG: dt_boxes num : 0, elapsed : 0.07424044609069824\n",
      "[2025/04/16 08:37:21] ppocr DEBUG: cls num  : 0, elapsed : 0\n",
      "[2025/04/16 08:37:21] ppocr DEBUG: rec_res num  : 0, elapsed : 0.0\n",
      "\n",
      "0: 480x640 1 license-plat, 9.7ms\n",
      "Speed: 1.1ms preprocess, 9.7ms inference, 1.0ms postprocess per image at shape (1, 3, 480, 640)\n",
      "[2025/04/16 08:37:21] ppocr DEBUG: dt_boxes num : 0, elapsed : 0.06328010559082031\n",
      "[2025/04/16 08:37:21] ppocr DEBUG: cls num  : 0, elapsed : 0\n",
      "[2025/04/16 08:37:21] ppocr DEBUG: rec_res num  : 0, elapsed : 0.0\n",
      "\n",
      "0: 480x640 1 license-plat, 9.8ms\n",
      "Speed: 1.0ms preprocess, 9.8ms inference, 0.9ms postprocess per image at shape (1, 3, 480, 640)\n",
      "[2025/04/16 08:37:21] ppocr DEBUG: dt_boxes num : 0, elapsed : 0.06858396530151367\n",
      "[2025/04/16 08:37:21] ppocr DEBUG: cls num  : 0, elapsed : 0\n",
      "[2025/04/16 08:37:21] ppocr DEBUG: rec_res num  : 0, elapsed : 0.0\n",
      "\n",
      "0: 480x640 1 license-plat, 9.5ms\n",
      "Speed: 1.0ms preprocess, 9.5ms inference, 0.9ms postprocess per image at shape (1, 3, 480, 640)\n",
      "[2025/04/16 08:37:21] ppocr DEBUG: dt_boxes num : 0, elapsed : 0.06360316276550293\n",
      "[2025/04/16 08:37:21] ppocr DEBUG: cls num  : 0, elapsed : 0\n",
      "[2025/04/16 08:37:21] ppocr DEBUG: rec_res num  : 0, elapsed : 0.0\n",
      "\n",
      "0: 480x640 (no detections), 9.9ms\n",
      "Speed: 0.8ms preprocess, 9.9ms inference, 0.5ms postprocess per image at shape (1, 3, 480, 640)\n",
      "\n",
      "0: 480x640 (no detections), 9.5ms\n",
      "Speed: 0.8ms preprocess, 9.5ms inference, 0.4ms postprocess per image at shape (1, 3, 480, 640)\n",
      "\n",
      "0: 480x640 (no detections), 9.5ms\n",
      "Speed: 0.7ms preprocess, 9.5ms inference, 0.4ms postprocess per image at shape (1, 3, 480, 640)\n",
      "\n",
      "0: 480x640 (no detections), 10.4ms\n",
      "Speed: 0.8ms preprocess, 10.4ms inference, 0.4ms postprocess per image at shape (1, 3, 480, 640)\n",
      "\n",
      "0: 480x640 (no detections), 9.4ms\n",
      "Speed: 0.7ms preprocess, 9.4ms inference, 0.4ms postprocess per image at shape (1, 3, 480, 640)\n",
      "\n",
      "0: 480x640 (no detections), 9.7ms\n",
      "Speed: 0.9ms preprocess, 9.7ms inference, 0.4ms postprocess per image at shape (1, 3, 480, 640)\n",
      "\n",
      "0: 480x640 (no detections), 10.4ms\n",
      "Speed: 0.8ms preprocess, 10.4ms inference, 0.4ms postprocess per image at shape (1, 3, 480, 640)\n",
      "\n",
      "0: 480x640 (no detections), 9.8ms\n",
      "Speed: 1.0ms preprocess, 9.8ms inference, 0.4ms postprocess per image at shape (1, 3, 480, 640)\n",
      "\n",
      "0: 480x640 (no detections), 10.1ms\n",
      "Speed: 0.9ms preprocess, 10.1ms inference, 0.4ms postprocess per image at shape (1, 3, 480, 640)\n",
      "\n",
      "0: 480x640 1 license-plat, 9.8ms\n",
      "Speed: 0.9ms preprocess, 9.8ms inference, 0.9ms postprocess per image at shape (1, 3, 480, 640)\n",
      "[2025/04/16 08:37:21] ppocr DEBUG: dt_boxes num : 0, elapsed : 0.062003374099731445\n",
      "[2025/04/16 08:37:21] ppocr DEBUG: cls num  : 0, elapsed : 0\n",
      "[2025/04/16 08:37:21] ppocr DEBUG: rec_res num  : 0, elapsed : 0.0\n",
      "\n",
      "0: 480x640 1 license-plat, 10.6ms\n",
      "Speed: 0.9ms preprocess, 10.6ms inference, 1.0ms postprocess per image at shape (1, 3, 480, 640)\n",
      "[2025/04/16 08:37:21] ppocr DEBUG: dt_boxes num : 0, elapsed : 0.06821465492248535\n",
      "[2025/04/16 08:37:21] ppocr DEBUG: cls num  : 0, elapsed : 0\n",
      "[2025/04/16 08:37:21] ppocr DEBUG: rec_res num  : 0, elapsed : 0.0\n",
      "\n",
      "0: 480x640 (no detections), 9.4ms\n",
      "Speed: 0.9ms preprocess, 9.4ms inference, 0.4ms postprocess per image at shape (1, 3, 480, 640)\n",
      "\n",
      "0: 480x640 (no detections), 10.4ms\n",
      "Speed: 0.8ms preprocess, 10.4ms inference, 0.5ms postprocess per image at shape (1, 3, 480, 640)\n",
      "\n",
      "0: 480x640 (no detections), 10.0ms\n",
      "Speed: 0.7ms preprocess, 10.0ms inference, 0.4ms postprocess per image at shape (1, 3, 480, 640)\n",
      "\n",
      "0: 480x640 (no detections), 9.4ms\n",
      "Speed: 0.9ms preprocess, 9.4ms inference, 0.4ms postprocess per image at shape (1, 3, 480, 640)\n",
      "\n",
      "0: 480x640 (no detections), 10.7ms\n",
      "Speed: 1.0ms preprocess, 10.7ms inference, 0.4ms postprocess per image at shape (1, 3, 480, 640)\n",
      "\n",
      "0: 480x640 (no detections), 9.8ms\n",
      "Speed: 0.8ms preprocess, 9.8ms inference, 0.4ms postprocess per image at shape (1, 3, 480, 640)\n",
      "\n",
      "0: 480x640 (no detections), 10.1ms\n",
      "Speed: 0.7ms preprocess, 10.1ms inference, 0.4ms postprocess per image at shape (1, 3, 480, 640)\n",
      "\n",
      "0: 480x640 (no detections), 9.5ms\n",
      "Speed: 0.9ms preprocess, 9.5ms inference, 0.4ms postprocess per image at shape (1, 3, 480, 640)\n",
      "\n",
      "0: 480x640 (no detections), 10.0ms\n",
      "Speed: 0.8ms preprocess, 10.0ms inference, 0.4ms postprocess per image at shape (1, 3, 480, 640)\n",
      "\n",
      "0: 480x640 (no detections), 10.1ms\n",
      "Speed: 0.8ms preprocess, 10.1ms inference, 0.4ms postprocess per image at shape (1, 3, 480, 640)\n",
      "\n",
      "0: 480x640 (no detections), 9.6ms\n",
      "Speed: 0.8ms preprocess, 9.6ms inference, 0.5ms postprocess per image at shape (1, 3, 480, 640)\n",
      "\n",
      "0: 480x640 (no detections), 10.4ms\n",
      "Speed: 0.8ms preprocess, 10.4ms inference, 0.4ms postprocess per image at shape (1, 3, 480, 640)\n",
      "\n",
      "0: 480x640 1 license-plat, 9.8ms\n",
      "Speed: 0.8ms preprocess, 9.8ms inference, 0.9ms postprocess per image at shape (1, 3, 480, 640)\n",
      "[2025/04/16 08:37:22] ppocr DEBUG: dt_boxes num : 1, elapsed : 0.07632160186767578\n",
      "[2025/04/16 08:37:22] ppocr DEBUG: cls num  : 1, elapsed : 0.007512807846069336\n",
      "[2025/04/16 08:37:22] ppocr DEBUG: rec_res num  : 1, elapsed : 0.02515268325805664\n",
      "\n",
      "0: 480x640 (no detections), 9.4ms\n",
      "Speed: 1.2ms preprocess, 9.4ms inference, 0.4ms postprocess per image at shape (1, 3, 480, 640)\n",
      "\n",
      "0: 480x640 1 license-plat, 9.4ms\n",
      "Speed: 1.0ms preprocess, 9.4ms inference, 0.9ms postprocess per image at shape (1, 3, 480, 640)\n",
      "[2025/04/16 08:37:22] ppocr DEBUG: dt_boxes num : 0, elapsed : 0.0325469970703125\n",
      "[2025/04/16 08:37:22] ppocr DEBUG: cls num  : 0, elapsed : 0\n",
      "[2025/04/16 08:37:22] ppocr DEBUG: rec_res num  : 0, elapsed : 0.0\n",
      "\n",
      "0: 480x640 1 license-plat, 9.5ms\n",
      "Speed: 0.8ms preprocess, 9.5ms inference, 1.0ms postprocess per image at shape (1, 3, 480, 640)\n",
      "[2025/04/16 08:37:22] ppocr DEBUG: dt_boxes num : 1, elapsed : 0.007167339324951172\n",
      "[2025/04/16 08:37:22] ppocr DEBUG: cls num  : 1, elapsed : 0.0031731128692626953\n",
      "[2025/04/16 08:37:22] ppocr DEBUG: rec_res num  : 1, elapsed : 0.05760073661804199\n",
      "\n",
      "0: 480x640 1 license-plat, 9.5ms\n",
      "Speed: 1.3ms preprocess, 9.5ms inference, 0.9ms postprocess per image at shape (1, 3, 480, 640)\n",
      "[2025/04/16 08:37:22] ppocr DEBUG: dt_boxes num : 1, elapsed : 0.00603938102722168\n",
      "[2025/04/16 08:37:22] ppocr DEBUG: cls num  : 1, elapsed : 0.003017425537109375\n",
      "[2025/04/16 08:37:22] ppocr DEBUG: rec_res num  : 1, elapsed : 0.028187990188598633\n",
      "\n",
      "0: 480x640 2 license-plats, 11.2ms\n",
      "Speed: 0.8ms preprocess, 11.2ms inference, 1.0ms postprocess per image at shape (1, 3, 480, 640)\n",
      "[2025/04/16 08:37:22] ppocr DEBUG: dt_boxes num : 2, elapsed : 0.03161025047302246\n",
      "[2025/04/16 08:37:22] ppocr DEBUG: cls num  : 2, elapsed : 0.029085397720336914\n",
      "[2025/04/16 08:37:22] ppocr DEBUG: rec_res num  : 2, elapsed : 0.07811522483825684\n",
      "[2025/04/16 08:37:22] ppocr DEBUG: dt_boxes num : 6, elapsed : 0.08372926712036133\n",
      "[2025/04/16 08:37:23] ppocr DEBUG: cls num  : 6, elapsed : 0.026323556900024414\n",
      "[2025/04/16 08:37:23] ppocr DEBUG: rec_res num  : 6, elapsed : 0.2218472957611084\n",
      "\n",
      "0: 480x640 2 license-plats, 9.6ms\n",
      "Speed: 0.9ms preprocess, 9.6ms inference, 0.9ms postprocess per image at shape (1, 3, 480, 640)\n",
      "[2025/04/16 08:37:23] ppocr DEBUG: dt_boxes num : 2, elapsed : 0.006044149398803711\n",
      "[2025/04/16 08:37:23] ppocr DEBUG: cls num  : 2, elapsed : 0.0050160884857177734\n",
      "[2025/04/16 08:37:23] ppocr DEBUG: rec_res num  : 2, elapsed : 0.04468083381652832\n",
      "[2025/04/16 08:37:23] ppocr DEBUG: dt_boxes num : 4, elapsed : 0.04781031608581543\n",
      "[2025/04/16 08:37:23] ppocr DEBUG: cls num  : 4, elapsed : 0.024227142333984375\n",
      "[2025/04/16 08:37:23] ppocr DEBUG: rec_res num  : 4, elapsed : 0.11747145652770996\n",
      "\n",
      "0: 480x640 1 license-plat, 10.3ms\n",
      "Speed: 1.1ms preprocess, 10.3ms inference, 1.0ms postprocess per image at shape (1, 3, 480, 640)\n",
      "[2025/04/16 08:37:23] ppocr DEBUG: dt_boxes num : 2, elapsed : 0.005503654479980469\n",
      "[2025/04/16 08:37:23] ppocr DEBUG: cls num  : 2, elapsed : 0.004998207092285156\n",
      "[2025/04/16 08:37:23] ppocr DEBUG: rec_res num  : 2, elapsed : 0.043380022048950195\n",
      "\n",
      "0: 480x640 1 license-plat, 9.8ms\n",
      "Speed: 0.8ms preprocess, 9.8ms inference, 0.9ms postprocess per image at shape (1, 3, 480, 640)\n",
      "[2025/04/16 08:37:23] ppocr DEBUG: dt_boxes num : 1, elapsed : 0.005494356155395508\n",
      "[2025/04/16 08:37:23] ppocr DEBUG: cls num  : 1, elapsed : 0.0038237571716308594\n",
      "[2025/04/16 08:37:23] ppocr DEBUG: rec_res num  : 1, elapsed : 0.027704477310180664\n",
      "\n",
      "0: 480x640 2 license-plats, 9.6ms\n",
      "Speed: 0.8ms preprocess, 9.6ms inference, 1.0ms postprocess per image at shape (1, 3, 480, 640)\n",
      "[2025/04/16 08:37:23] ppocr DEBUG: dt_boxes num : 1, elapsed : 0.006240129470825195\n",
      "[2025/04/16 08:37:23] ppocr DEBUG: cls num  : 1, elapsed : 0.003028392791748047\n",
      "[2025/04/16 08:37:23] ppocr DEBUG: rec_res num  : 1, elapsed : 0.02614283561706543\n",
      "[2025/04/16 08:37:23] ppocr DEBUG: dt_boxes num : 9, elapsed : 0.053310394287109375\n",
      "[2025/04/16 08:37:23] ppocr DEBUG: cls num  : 9, elapsed : 0.03003239631652832\n",
      "[2025/04/16 08:37:24] ppocr DEBUG: rec_res num  : 9, elapsed : 0.2171168327331543\n",
      "\n",
      "0: 480x640 1 license-plat, 9.9ms\n",
      "Speed: 1.0ms preprocess, 9.9ms inference, 1.1ms postprocess per image at shape (1, 3, 480, 640)\n",
      "[2025/04/16 08:37:24] ppocr DEBUG: dt_boxes num : 1, elapsed : 0.00708770751953125\n",
      "[2025/04/16 08:37:24] ppocr DEBUG: cls num  : 1, elapsed : 0.02131342887878418\n",
      "[2025/04/16 08:37:24] ppocr DEBUG: rec_res num  : 1, elapsed : 0.05402660369873047\n",
      "\n",
      "0: 480x640 1 license-plat, 10.6ms\n",
      "Speed: 1.5ms preprocess, 10.6ms inference, 0.9ms postprocess per image at shape (1, 3, 480, 640)\n",
      "[2025/04/16 08:37:24] ppocr DEBUG: dt_boxes num : 1, elapsed : 0.029248952865600586\n",
      "[2025/04/16 08:37:24] ppocr DEBUG: cls num  : 1, elapsed : 0.0030760765075683594\n",
      "[2025/04/16 08:37:24] ppocr DEBUG: rec_res num  : 1, elapsed : 0.024025917053222656\n",
      "\n",
      "0: 480x640 1 license-plat, 10.2ms\n",
      "Speed: 0.8ms preprocess, 10.2ms inference, 1.0ms postprocess per image at shape (1, 3, 480, 640)\n",
      "[2025/04/16 08:37:24] ppocr DEBUG: dt_boxes num : 2, elapsed : 0.027727127075195312\n",
      "[2025/04/16 08:37:24] ppocr DEBUG: cls num  : 2, elapsed : 0.021918535232543945\n",
      "[2025/04/16 08:37:24] ppocr DEBUG: rec_res num  : 2, elapsed : 0.07370495796203613\n",
      "\n",
      "0: 480x640 1 license-plat, 9.8ms\n",
      "Speed: 1.1ms preprocess, 9.8ms inference, 0.9ms postprocess per image at shape (1, 3, 480, 640)\n",
      "[2025/04/16 08:37:24] ppocr DEBUG: dt_boxes num : 0, elapsed : 0.06366610527038574\n",
      "[2025/04/16 08:37:24] ppocr DEBUG: cls num  : 0, elapsed : 0\n",
      "[2025/04/16 08:37:24] ppocr DEBUG: rec_res num  : 0, elapsed : 0.0\n",
      "\n",
      "0: 480x640 1 license-plat, 9.5ms\n",
      "Speed: 0.9ms preprocess, 9.5ms inference, 1.2ms postprocess per image at shape (1, 3, 480, 640)\n",
      "[2025/04/16 08:37:24] ppocr DEBUG: dt_boxes num : 0, elapsed : 0.06491875648498535\n",
      "[2025/04/16 08:37:24] ppocr DEBUG: cls num  : 0, elapsed : 0\n",
      "[2025/04/16 08:37:24] ppocr DEBUG: rec_res num  : 0, elapsed : 0.0\n",
      "\n",
      "0: 480x640 1 license-plat, 10.1ms\n",
      "Speed: 1.1ms preprocess, 10.1ms inference, 0.9ms postprocess per image at shape (1, 3, 480, 640)\n",
      "[2025/04/16 08:37:24] ppocr DEBUG: dt_boxes num : 0, elapsed : 0.06699776649475098\n",
      "[2025/04/16 08:37:24] ppocr DEBUG: cls num  : 0, elapsed : 0\n",
      "[2025/04/16 08:37:24] ppocr DEBUG: rec_res num  : 0, elapsed : 0.0\n",
      "\n",
      "0: 480x640 1 license-plat, 9.5ms\n",
      "Speed: 0.8ms preprocess, 9.5ms inference, 0.9ms postprocess per image at shape (1, 3, 480, 640)\n",
      "[2025/04/16 08:37:24] ppocr DEBUG: dt_boxes num : 0, elapsed : 0.05364704132080078\n",
      "[2025/04/16 08:37:24] ppocr DEBUG: cls num  : 0, elapsed : 0\n",
      "[2025/04/16 08:37:24] ppocr DEBUG: rec_res num  : 0, elapsed : 0.0\n",
      "\n",
      "0: 480x640 1 license-plat, 10.2ms\n",
      "Speed: 3.2ms preprocess, 10.2ms inference, 1.1ms postprocess per image at shape (1, 3, 480, 640)\n",
      "[2025/04/16 08:37:24] ppocr DEBUG: dt_boxes num : 0, elapsed : 0.06581807136535645\n",
      "[2025/04/16 08:37:24] ppocr DEBUG: cls num  : 0, elapsed : 0\n",
      "[2025/04/16 08:37:24] ppocr DEBUG: rec_res num  : 0, elapsed : 0.0\n",
      "\n",
      "0: 480x640 2 license-plats, 18.3ms\n",
      "Speed: 1.2ms preprocess, 18.3ms inference, 0.9ms postprocess per image at shape (1, 3, 480, 640)\n",
      "[2025/04/16 08:37:24] ppocr DEBUG: dt_boxes num : 0, elapsed : 0.06255054473876953\n",
      "[2025/04/16 08:37:24] ppocr DEBUG: cls num  : 0, elapsed : 0\n",
      "[2025/04/16 08:37:24] ppocr DEBUG: rec_res num  : 0, elapsed : 0.0\n",
      "[2025/04/16 08:37:24] ppocr DEBUG: dt_boxes num : 0, elapsed : 0.056697845458984375\n",
      "[2025/04/16 08:37:24] ppocr DEBUG: cls num  : 0, elapsed : 0\n",
      "[2025/04/16 08:37:24] ppocr DEBUG: rec_res num  : 0, elapsed : 0.0\n",
      "\n",
      "0: 480x640 1 license-plat, 14.7ms\n",
      "Speed: 0.9ms preprocess, 14.7ms inference, 0.9ms postprocess per image at shape (1, 3, 480, 640)\n",
      "[2025/04/16 08:37:25] ppocr DEBUG: dt_boxes num : 0, elapsed : 0.03412461280822754\n",
      "[2025/04/16 08:37:25] ppocr DEBUG: cls num  : 0, elapsed : 0\n",
      "[2025/04/16 08:37:25] ppocr DEBUG: rec_res num  : 0, elapsed : 0.0\n",
      "\n",
      "0: 480x640 1 license-plat, 12.1ms\n",
      "Speed: 0.9ms preprocess, 12.1ms inference, 1.3ms postprocess per image at shape (1, 3, 480, 640)\n",
      "[2025/04/16 08:37:25] ppocr DEBUG: dt_boxes num : 0, elapsed : 0.03022289276123047\n",
      "[2025/04/16 08:37:25] ppocr DEBUG: cls num  : 0, elapsed : 0\n",
      "[2025/04/16 08:37:25] ppocr DEBUG: rec_res num  : 0, elapsed : 0.0\n",
      "\n",
      "0: 480x640 1 license-plat, 9.6ms\n",
      "Speed: 0.8ms preprocess, 9.6ms inference, 0.9ms postprocess per image at shape (1, 3, 480, 640)\n",
      "[2025/04/16 08:37:25] ppocr DEBUG: dt_boxes num : 0, elapsed : 0.031612396240234375\n",
      "[2025/04/16 08:37:25] ppocr DEBUG: cls num  : 0, elapsed : 0\n",
      "[2025/04/16 08:37:25] ppocr DEBUG: rec_res num  : 0, elapsed : 0.0\n",
      "\n",
      "0: 480x640 1 license-plat, 10.2ms\n",
      "Speed: 1.3ms preprocess, 10.2ms inference, 1.1ms postprocess per image at shape (1, 3, 480, 640)\n",
      "[2025/04/16 08:37:25] ppocr DEBUG: dt_boxes num : 0, elapsed : 0.06528615951538086\n",
      "[2025/04/16 08:37:25] ppocr DEBUG: cls num  : 0, elapsed : 0\n",
      "[2025/04/16 08:37:25] ppocr DEBUG: rec_res num  : 0, elapsed : 0.0\n",
      "\n",
      "0: 480x640 1 license-plat, 25.1ms\n",
      "Speed: 1.2ms preprocess, 25.1ms inference, 2.6ms postprocess per image at shape (1, 3, 480, 640)\n",
      "[2025/04/16 08:37:25] ppocr DEBUG: dt_boxes num : 0, elapsed : 0.06934309005737305\n",
      "[2025/04/16 08:37:25] ppocr DEBUG: cls num  : 0, elapsed : 0\n",
      "[2025/04/16 08:37:25] ppocr DEBUG: rec_res num  : 0, elapsed : 0.0\n",
      "\n",
      "0: 480x640 (no detections), 25.0ms\n",
      "Speed: 1.1ms preprocess, 25.0ms inference, 0.8ms postprocess per image at shape (1, 3, 480, 640)\n",
      "\n",
      "0: 480x640 (no detections), 9.7ms\n",
      "Speed: 0.8ms preprocess, 9.7ms inference, 0.4ms postprocess per image at shape (1, 3, 480, 640)\n",
      "\n",
      "0: 480x640 (no detections), 26.5ms\n",
      "Speed: 0.9ms preprocess, 26.5ms inference, 0.8ms postprocess per image at shape (1, 3, 480, 640)\n",
      "\n",
      "0: 480x640 1 license-plat, 17.8ms\n",
      "Speed: 0.9ms preprocess, 17.8ms inference, 2.5ms postprocess per image at shape (1, 3, 480, 640)\n",
      "[2025/04/16 08:37:25] ppocr DEBUG: dt_boxes num : 0, elapsed : 0.07309627532958984\n",
      "[2025/04/16 08:37:25] ppocr DEBUG: cls num  : 0, elapsed : 0\n",
      "[2025/04/16 08:37:25] ppocr DEBUG: rec_res num  : 0, elapsed : 0.0\n",
      "\n",
      "0: 480x640 1 license-plat, 9.8ms\n",
      "Speed: 0.9ms preprocess, 9.8ms inference, 0.9ms postprocess per image at shape (1, 3, 480, 640)\n",
      "[2025/04/16 08:37:25] ppocr DEBUG: dt_boxes num : 0, elapsed : 0.03220248222351074\n",
      "[2025/04/16 08:37:25] ppocr DEBUG: cls num  : 0, elapsed : 0\n",
      "[2025/04/16 08:37:25] ppocr DEBUG: rec_res num  : 0, elapsed : 0.0\n",
      "\n",
      "0: 480x640 (no detections), 12.0ms\n",
      "Speed: 1.0ms preprocess, 12.0ms inference, 0.5ms postprocess per image at shape (1, 3, 480, 640)\n",
      "\n",
      "0: 480x640 1 license-plat, 14.3ms\n",
      "Speed: 1.0ms preprocess, 14.3ms inference, 1.2ms postprocess per image at shape (1, 3, 480, 640)\n",
      "[2025/04/16 08:37:25] ppocr DEBUG: dt_boxes num : 3, elapsed : 0.03104400634765625\n",
      "[2025/04/16 08:37:25] ppocr DEBUG: cls num  : 3, elapsed : 0.029114246368408203\n",
      "[2025/04/16 08:37:25] ppocr DEBUG: rec_res num  : 3, elapsed : 0.1361689567565918\n",
      "\n",
      "0: 480x640 (no detections), 14.0ms\n",
      "Speed: 0.7ms preprocess, 14.0ms inference, 0.5ms postprocess per image at shape (1, 3, 480, 640)\n",
      "\n",
      "0: 480x640 (no detections), 14.0ms\n",
      "Speed: 0.9ms preprocess, 14.0ms inference, 0.5ms postprocess per image at shape (1, 3, 480, 640)\n",
      "\n",
      "0: 480x640 (no detections), 9.5ms\n",
      "Speed: 0.7ms preprocess, 9.5ms inference, 0.4ms postprocess per image at shape (1, 3, 480, 640)\n",
      "\n",
      "0: 480x640 (no detections), 10.2ms\n",
      "Speed: 0.8ms preprocess, 10.2ms inference, 0.4ms postprocess per image at shape (1, 3, 480, 640)\n",
      "\n",
      "0: 480x640 1 license-plat, 10.1ms\n",
      "Speed: 0.9ms preprocess, 10.1ms inference, 1.0ms postprocess per image at shape (1, 3, 480, 640)\n",
      "[2025/04/16 08:37:26] ppocr DEBUG: dt_boxes num : 0, elapsed : 0.07334470748901367\n",
      "[2025/04/16 08:37:26] ppocr DEBUG: cls num  : 0, elapsed : 0\n",
      "[2025/04/16 08:37:26] ppocr DEBUG: rec_res num  : 0, elapsed : 0.0\n",
      "\n",
      "0: 480x640 (no detections), 10.3ms\n",
      "Speed: 0.9ms preprocess, 10.3ms inference, 0.4ms postprocess per image at shape (1, 3, 480, 640)\n",
      "\n",
      "0: 480x640 (no detections), 10.0ms\n",
      "Speed: 1.7ms preprocess, 10.0ms inference, 0.4ms postprocess per image at shape (1, 3, 480, 640)\n",
      "\n",
      "0: 480x640 (no detections), 9.7ms\n",
      "Speed: 0.9ms preprocess, 9.7ms inference, 0.4ms postprocess per image at shape (1, 3, 480, 640)\n",
      "\n",
      "0: 480x640 (no detections), 9.9ms\n",
      "Speed: 0.9ms preprocess, 9.9ms inference, 0.5ms postprocess per image at shape (1, 3, 480, 640)\n",
      "\n",
      "0: 480x640 (no detections), 10.3ms\n",
      "Speed: 1.2ms preprocess, 10.3ms inference, 0.4ms postprocess per image at shape (1, 3, 480, 640)\n",
      "\n",
      "0: 480x640 (no detections), 9.7ms\n",
      "Speed: 1.0ms preprocess, 9.7ms inference, 0.4ms postprocess per image at shape (1, 3, 480, 640)\n",
      "\n",
      "0: 480x640 (no detections), 10.0ms\n",
      "Speed: 0.9ms preprocess, 10.0ms inference, 0.4ms postprocess per image at shape (1, 3, 480, 640)\n",
      "\n",
      "0: 480x640 (no detections), 13.8ms\n",
      "Speed: 0.9ms preprocess, 13.8ms inference, 0.5ms postprocess per image at shape (1, 3, 480, 640)\n",
      "\n",
      "0: 480x640 (no detections), 13.9ms\n",
      "Speed: 0.9ms preprocess, 13.9ms inference, 0.5ms postprocess per image at shape (1, 3, 480, 640)\n",
      "\n",
      "0: 480x640 (no detections), 9.4ms\n",
      "Speed: 0.9ms preprocess, 9.4ms inference, 0.4ms postprocess per image at shape (1, 3, 480, 640)\n",
      "\n",
      "0: 480x640 1 license-plat, 10.0ms\n",
      "Speed: 0.9ms preprocess, 10.0ms inference, 0.9ms postprocess per image at shape (1, 3, 480, 640)\n",
      "[2025/04/16 08:37:26] ppocr DEBUG: dt_boxes num : 0, elapsed : 0.07247686386108398\n",
      "[2025/04/16 08:37:26] ppocr DEBUG: cls num  : 0, elapsed : 0\n",
      "[2025/04/16 08:37:26] ppocr DEBUG: rec_res num  : 0, elapsed : 0.0\n",
      "\n",
      "0: 480x640 1 license-plat, 9.4ms\n",
      "Speed: 0.9ms preprocess, 9.4ms inference, 0.9ms postprocess per image at shape (1, 3, 480, 640)\n",
      "[2025/04/16 08:37:26] ppocr DEBUG: dt_boxes num : 0, elapsed : 0.03740572929382324\n",
      "[2025/04/16 08:37:26] ppocr DEBUG: cls num  : 0, elapsed : 0\n",
      "[2025/04/16 08:37:26] ppocr DEBUG: rec_res num  : 0, elapsed : 0.0\n",
      "\n",
      "0: 480x640 1 license-plat, 10.0ms\n",
      "Speed: 0.7ms preprocess, 10.0ms inference, 0.9ms postprocess per image at shape (1, 3, 480, 640)\n",
      "[2025/04/16 08:37:26] ppocr DEBUG: dt_boxes num : 0, elapsed : 0.007420063018798828\n",
      "[2025/04/16 08:37:26] ppocr DEBUG: cls num  : 0, elapsed : 0\n",
      "[2025/04/16 08:37:26] ppocr DEBUG: rec_res num  : 0, elapsed : 0.0\n",
      "\n",
      "0: 480x640 1 license-plat, 10.5ms\n",
      "Speed: 1.0ms preprocess, 10.5ms inference, 0.9ms postprocess per image at shape (1, 3, 480, 640)\n",
      "[2025/04/16 08:37:26] ppocr DEBUG: dt_boxes num : 0, elapsed : 0.007219076156616211\n",
      "[2025/04/16 08:37:26] ppocr DEBUG: cls num  : 0, elapsed : 0\n",
      "[2025/04/16 08:37:26] ppocr DEBUG: rec_res num  : 0, elapsed : 0.0\n",
      "\n",
      "0: 480x640 1 license-plat, 9.8ms\n",
      "Speed: 0.9ms preprocess, 9.8ms inference, 0.9ms postprocess per image at shape (1, 3, 480, 640)\n",
      "[2025/04/16 08:37:26] ppocr DEBUG: dt_boxes num : 0, elapsed : 0.0075054168701171875\n",
      "[2025/04/16 08:37:26] ppocr DEBUG: cls num  : 0, elapsed : 0\n",
      "[2025/04/16 08:37:26] ppocr DEBUG: rec_res num  : 0, elapsed : 0.0\n",
      "\n",
      "0: 480x640 1 license-plat, 13.4ms\n",
      "Speed: 1.2ms preprocess, 13.4ms inference, 1.3ms postprocess per image at shape (1, 3, 480, 640)\n",
      "[2025/04/16 08:37:26] ppocr DEBUG: dt_boxes num : 0, elapsed : 0.009227991104125977\n",
      "[2025/04/16 08:37:26] ppocr DEBUG: cls num  : 0, elapsed : 0\n",
      "[2025/04/16 08:37:26] ppocr DEBUG: rec_res num  : 0, elapsed : 0.0\n",
      "\n",
      "0: 480x640 1 license-plat, 9.7ms\n",
      "Speed: 0.9ms preprocess, 9.7ms inference, 1.1ms postprocess per image at shape (1, 3, 480, 640)\n",
      "[2025/04/16 08:37:26] ppocr DEBUG: dt_boxes num : 1, elapsed : 0.03596663475036621\n",
      "[2025/04/16 08:37:26] ppocr DEBUG: cls num  : 1, elapsed : 0.022897720336914062\n",
      "[2025/04/16 08:37:26] ppocr DEBUG: rec_res num  : 1, elapsed : 0.059296369552612305\n",
      "\n",
      "0: 480x640 1 license-plat, 9.7ms\n",
      "Speed: 0.8ms preprocess, 9.7ms inference, 0.9ms postprocess per image at shape (1, 3, 480, 640)\n",
      "[2025/04/16 08:37:26] ppocr DEBUG: dt_boxes num : 4, elapsed : 0.03561139106750488\n",
      "[2025/04/16 08:37:27] ppocr DEBUG: cls num  : 4, elapsed : 0.02473306655883789\n",
      "[2025/04/16 08:37:27] ppocr DEBUG: rec_res num  : 4, elapsed : 0.11601042747497559\n",
      "\n",
      "0: 480x640 1 license-plat, 9.9ms\n",
      "Speed: 0.8ms preprocess, 9.9ms inference, 0.9ms postprocess per image at shape (1, 3, 480, 640)\n",
      "[2025/04/16 08:37:27] ppocr DEBUG: dt_boxes num : 1, elapsed : 0.006028413772583008\n",
      "[2025/04/16 08:37:27] ppocr DEBUG: cls num  : 1, elapsed : 0.004146575927734375\n",
      "[2025/04/16 08:37:27] ppocr DEBUG: rec_res num  : 1, elapsed : 0.02522444725036621\n",
      "\n",
      "0: 480x640 1 license-plat, 10.3ms\n",
      "Speed: 1.0ms preprocess, 10.3ms inference, 1.0ms postprocess per image at shape (1, 3, 480, 640)\n",
      "[2025/04/16 08:37:27] ppocr DEBUG: dt_boxes num : 2, elapsed : 0.03334355354309082\n",
      "[2025/04/16 08:37:27] ppocr DEBUG: cls num  : 2, elapsed : 0.02203059196472168\n",
      "[2025/04/16 08:37:27] ppocr DEBUG: rec_res num  : 2, elapsed : 0.07600927352905273\n",
      "\n",
      "0: 480x640 1 license-plat, 9.7ms\n",
      "Speed: 1.0ms preprocess, 9.7ms inference, 1.1ms postprocess per image at shape (1, 3, 480, 640)\n",
      "[2025/04/16 08:37:27] ppocr DEBUG: dt_boxes num : 2, elapsed : 0.006501674652099609\n",
      "[2025/04/16 08:37:27] ppocr DEBUG: cls num  : 2, elapsed : 0.003999233245849609\n",
      "[2025/04/16 08:37:27] ppocr DEBUG: rec_res num  : 2, elapsed : 0.0428614616394043\n",
      "\n",
      "0: 480x640 1 license-plat, 9.8ms\n",
      "Speed: 0.9ms preprocess, 9.8ms inference, 1.0ms postprocess per image at shape (1, 3, 480, 640)\n",
      "[2025/04/16 08:37:27] ppocr DEBUG: dt_boxes num : 2, elapsed : 0.008284568786621094\n",
      "[2025/04/16 08:37:27] ppocr DEBUG: cls num  : 2, elapsed : 0.005510091781616211\n",
      "[2025/04/16 08:37:27] ppocr DEBUG: rec_res num  : 2, elapsed : 0.05068182945251465\n",
      "\n",
      "0: 480x640 1 license-plat, 10.7ms\n",
      "Speed: 0.8ms preprocess, 10.7ms inference, 1.3ms postprocess per image at shape (1, 3, 480, 640)\n",
      "[2025/04/16 08:37:27] ppocr DEBUG: dt_boxes num : 2, elapsed : 0.0075070858001708984\n",
      "[2025/04/16 08:37:27] ppocr DEBUG: cls num  : 2, elapsed : 0.005236387252807617\n",
      "[2025/04/16 08:37:27] ppocr DEBUG: rec_res num  : 2, elapsed : 0.043575286865234375\n",
      "\n",
      "0: 480x640 1 license-plat, 9.8ms\n",
      "Speed: 0.9ms preprocess, 9.8ms inference, 0.9ms postprocess per image at shape (1, 3, 480, 640)\n",
      "[2025/04/16 08:37:27] ppocr DEBUG: dt_boxes num : 2, elapsed : 0.007565975189208984\n",
      "[2025/04/16 08:37:27] ppocr DEBUG: cls num  : 2, elapsed : 0.004999399185180664\n",
      "[2025/04/16 08:37:27] ppocr DEBUG: rec_res num  : 2, elapsed : 0.0456087589263916\n",
      "\n",
      "0: 480x640 1 license-plat, 11.4ms\n",
      "Speed: 1.2ms preprocess, 11.4ms inference, 0.9ms postprocess per image at shape (1, 3, 480, 640)\n",
      "[2025/04/16 08:37:27] ppocr DEBUG: dt_boxes num : 1, elapsed : 0.007100582122802734\n",
      "[2025/04/16 08:37:27] ppocr DEBUG: cls num  : 1, elapsed : 0.0035119056701660156\n",
      "[2025/04/16 08:37:27] ppocr DEBUG: rec_res num  : 1, elapsed : 0.025402545928955078\n",
      "\n",
      "0: 480x640 1 license-plat, 10.8ms\n",
      "Speed: 0.8ms preprocess, 10.8ms inference, 1.0ms postprocess per image at shape (1, 3, 480, 640)\n",
      "[2025/04/16 08:37:27] ppocr DEBUG: dt_boxes num : 2, elapsed : 0.007092475891113281\n",
      "[2025/04/16 08:37:27] ppocr DEBUG: cls num  : 2, elapsed : 0.005018949508666992\n",
      "[2025/04/16 08:37:27] ppocr DEBUG: rec_res num  : 2, elapsed : 0.04389023780822754\n",
      "\n",
      "0: 480x640 1 license-plat, 9.2ms\n",
      "Speed: 0.8ms preprocess, 9.2ms inference, 0.9ms postprocess per image at shape (1, 3, 480, 640)\n",
      "[2025/04/16 08:37:27] ppocr DEBUG: dt_boxes num : 2, elapsed : 0.006648063659667969\n",
      "[2025/04/16 08:37:27] ppocr DEBUG: cls num  : 2, elapsed : 0.0047397613525390625\n",
      "[2025/04/16 08:37:27] ppocr DEBUG: rec_res num  : 2, elapsed : 0.04801058769226074\n",
      "\n",
      "0: 480x640 1 license-plat, 10.8ms\n",
      "Speed: 0.8ms preprocess, 10.8ms inference, 0.9ms postprocess per image at shape (1, 3, 480, 640)\n",
      "[2025/04/16 08:37:27] ppocr DEBUG: dt_boxes num : 2, elapsed : 0.006514072418212891\n",
      "[2025/04/16 08:37:28] ppocr DEBUG: cls num  : 2, elapsed : 0.004999876022338867\n",
      "[2025/04/16 08:37:28] ppocr DEBUG: rec_res num  : 2, elapsed : 0.048069000244140625\n",
      "\n",
      "0: 480x640 1 license-plat, 12.2ms\n",
      "Speed: 1.2ms preprocess, 12.2ms inference, 1.1ms postprocess per image at shape (1, 3, 480, 640)\n",
      "[2025/04/16 08:37:28] ppocr DEBUG: dt_boxes num : 2, elapsed : 0.007543325424194336\n",
      "[2025/04/16 08:37:28] ppocr DEBUG: cls num  : 2, elapsed : 0.00501561164855957\n",
      "[2025/04/16 08:37:28] ppocr DEBUG: rec_res num  : 2, elapsed : 0.04357504844665527\n",
      "\n",
      "0: 480x640 1 license-plat, 12.2ms\n",
      "Speed: 0.9ms preprocess, 12.2ms inference, 1.3ms postprocess per image at shape (1, 3, 480, 640)\n",
      "[2025/04/16 08:37:28] ppocr DEBUG: dt_boxes num : 2, elapsed : 0.008101701736450195\n",
      "[2025/04/16 08:37:28] ppocr DEBUG: cls num  : 2, elapsed : 0.005028486251831055\n",
      "[2025/04/16 08:37:28] ppocr DEBUG: rec_res num  : 2, elapsed : 0.04578900337219238\n",
      "\n",
      "0: 480x640 1 license-plat, 11.7ms\n",
      "Speed: 0.8ms preprocess, 11.7ms inference, 1.3ms postprocess per image at shape (1, 3, 480, 640)\n",
      "[2025/04/16 08:37:28] ppocr DEBUG: dt_boxes num : 0, elapsed : 0.0075054168701171875\n",
      "[2025/04/16 08:37:28] ppocr DEBUG: cls num  : 0, elapsed : 0\n",
      "[2025/04/16 08:37:28] ppocr DEBUG: rec_res num  : 0, elapsed : 0.0\n",
      "\n",
      "0: 480x640 1 license-plat, 9.3ms\n",
      "Speed: 0.6ms preprocess, 9.3ms inference, 0.9ms postprocess per image at shape (1, 3, 480, 640)\n",
      "[2025/04/16 08:37:28] ppocr DEBUG: dt_boxes num : 0, elapsed : 0.03345823287963867\n",
      "[2025/04/16 08:37:28] ppocr DEBUG: cls num  : 0, elapsed : 0\n",
      "[2025/04/16 08:37:28] ppocr DEBUG: rec_res num  : 0, elapsed : 0.0\n",
      "\n",
      "0: 480x640 1 license-plat, 9.4ms\n",
      "Speed: 0.7ms preprocess, 9.4ms inference, 0.9ms postprocess per image at shape (1, 3, 480, 640)\n",
      "[2025/04/16 08:37:28] ppocr DEBUG: dt_boxes num : 0, elapsed : 0.06229829788208008\n",
      "[2025/04/16 08:37:28] ppocr DEBUG: cls num  : 0, elapsed : 0\n",
      "[2025/04/16 08:37:28] ppocr DEBUG: rec_res num  : 0, elapsed : 0.0\n",
      "\n",
      "0: 480x640 1 license-plat, 10.0ms\n",
      "Speed: 1.1ms preprocess, 10.0ms inference, 0.9ms postprocess per image at shape (1, 3, 480, 640)\n",
      "[2025/04/16 08:37:28] ppocr DEBUG: dt_boxes num : 0, elapsed : 0.059217214584350586\n",
      "[2025/04/16 08:37:28] ppocr DEBUG: cls num  : 0, elapsed : 0\n",
      "[2025/04/16 08:37:28] ppocr DEBUG: rec_res num  : 0, elapsed : 0.0\n",
      "\n",
      "0: 480x640 2 license-plats, 9.7ms\n",
      "Speed: 1.3ms preprocess, 9.7ms inference, 1.0ms postprocess per image at shape (1, 3, 480, 640)\n",
      "[2025/04/16 08:37:28] ppocr DEBUG: dt_boxes num : 0, elapsed : 0.06227469444274902\n",
      "[2025/04/16 08:37:28] ppocr DEBUG: cls num  : 0, elapsed : 0\n",
      "[2025/04/16 08:37:28] ppocr DEBUG: rec_res num  : 0, elapsed : 0.0\n",
      "[2025/04/16 08:37:28] ppocr DEBUG: dt_boxes num : 0, elapsed : 0.06468677520751953\n",
      "[2025/04/16 08:37:28] ppocr DEBUG: cls num  : 0, elapsed : 0\n",
      "[2025/04/16 08:37:28] ppocr DEBUG: rec_res num  : 0, elapsed : 0.0\n",
      "\n",
      "0: 480x640 1 license-plat, 9.6ms\n",
      "Speed: 0.9ms preprocess, 9.6ms inference, 0.9ms postprocess per image at shape (1, 3, 480, 640)\n",
      "[2025/04/16 08:37:28] ppocr DEBUG: dt_boxes num : 0, elapsed : 0.0661935806274414\n",
      "[2025/04/16 08:37:28] ppocr DEBUG: cls num  : 0, elapsed : 0\n",
      "[2025/04/16 08:37:28] ppocr DEBUG: rec_res num  : 0, elapsed : 0.0\n",
      "\n",
      "0: 480x640 1 license-plat, 9.8ms\n",
      "Speed: 0.7ms preprocess, 9.8ms inference, 0.9ms postprocess per image at shape (1, 3, 480, 640)\n",
      "[2025/04/16 08:37:28] ppocr DEBUG: dt_boxes num : 0, elapsed : 0.030048847198486328\n",
      "[2025/04/16 08:37:28] ppocr DEBUG: cls num  : 0, elapsed : 0\n",
      "[2025/04/16 08:37:28] ppocr DEBUG: rec_res num  : 0, elapsed : 0.0\n",
      "\n",
      "0: 480x640 1 license-plat, 11.2ms\n",
      "Speed: 0.7ms preprocess, 11.2ms inference, 1.1ms postprocess per image at shape (1, 3, 480, 640)\n",
      "[2025/04/16 08:37:28] ppocr DEBUG: dt_boxes num : 0, elapsed : 0.03373980522155762\n",
      "[2025/04/16 08:37:28] ppocr DEBUG: cls num  : 0, elapsed : 0\n",
      "[2025/04/16 08:37:28] ppocr DEBUG: rec_res num  : 0, elapsed : 0.0\n",
      "\n",
      "0: 480x640 (no detections), 11.0ms\n",
      "Speed: 0.7ms preprocess, 11.0ms inference, 0.4ms postprocess per image at shape (1, 3, 480, 640)\n",
      "\n",
      "0: 480x640 (no detections), 13.2ms\n",
      "Speed: 1.1ms preprocess, 13.2ms inference, 0.5ms postprocess per image at shape (1, 3, 480, 640)\n",
      "\n",
      "0: 480x640 1 license-plat, 9.7ms\n",
      "Speed: 0.8ms preprocess, 9.7ms inference, 0.9ms postprocess per image at shape (1, 3, 480, 640)\n",
      "[2025/04/16 08:37:29] ppocr DEBUG: dt_boxes num : 0, elapsed : 0.05744624137878418\n",
      "[2025/04/16 08:37:29] ppocr DEBUG: cls num  : 0, elapsed : 0\n",
      "[2025/04/16 08:37:29] ppocr DEBUG: rec_res num  : 0, elapsed : 0.0\n",
      "\n",
      "0: 480x640 1 license-plat, 10.3ms\n",
      "Speed: 1.1ms preprocess, 10.3ms inference, 0.9ms postprocess per image at shape (1, 3, 480, 640)\n",
      "[2025/04/16 08:37:29] ppocr DEBUG: dt_boxes num : 0, elapsed : 0.06716156005859375\n",
      "[2025/04/16 08:37:29] ppocr DEBUG: cls num  : 0, elapsed : 0\n",
      "[2025/04/16 08:37:29] ppocr DEBUG: rec_res num  : 0, elapsed : 0.0\n",
      "\n",
      "0: 480x640 1 license-plat, 10.0ms\n",
      "Speed: 1.0ms preprocess, 10.0ms inference, 0.9ms postprocess per image at shape (1, 3, 480, 640)\n",
      "[2025/04/16 08:37:29] ppocr DEBUG: dt_boxes num : 0, elapsed : 0.06283187866210938\n",
      "[2025/04/16 08:37:29] ppocr DEBUG: cls num  : 0, elapsed : 0\n",
      "[2025/04/16 08:37:29] ppocr DEBUG: rec_res num  : 0, elapsed : 0.0\n",
      "\n",
      "0: 480x640 1 license-plat, 9.9ms\n",
      "Speed: 0.8ms preprocess, 9.9ms inference, 1.0ms postprocess per image at shape (1, 3, 480, 640)\n",
      "[2025/04/16 08:37:29] ppocr DEBUG: dt_boxes num : 0, elapsed : 0.05772113800048828\n",
      "[2025/04/16 08:37:29] ppocr DEBUG: cls num  : 0, elapsed : 0\n",
      "[2025/04/16 08:37:29] ppocr DEBUG: rec_res num  : 0, elapsed : 0.0\n",
      "\n",
      "0: 480x640 1 license-plat, 9.3ms\n",
      "Speed: 1.1ms preprocess, 9.3ms inference, 0.9ms postprocess per image at shape (1, 3, 480, 640)\n",
      "[2025/04/16 08:37:29] ppocr DEBUG: dt_boxes num : 0, elapsed : 0.025086402893066406\n",
      "[2025/04/16 08:37:29] ppocr DEBUG: cls num  : 0, elapsed : 0\n",
      "[2025/04/16 08:37:29] ppocr DEBUG: rec_res num  : 0, elapsed : 0.0\n",
      "\n",
      "0: 480x640 1 license-plat, 9.5ms\n",
      "Speed: 0.7ms preprocess, 9.5ms inference, 0.9ms postprocess per image at shape (1, 3, 480, 640)\n",
      "[2025/04/16 08:37:29] ppocr DEBUG: dt_boxes num : 0, elapsed : 0.025447845458984375\n",
      "[2025/04/16 08:37:29] ppocr DEBUG: cls num  : 0, elapsed : 0\n",
      "[2025/04/16 08:37:29] ppocr DEBUG: rec_res num  : 0, elapsed : 0.0\n",
      "\n",
      "0: 480x640 1 license-plat, 9.6ms\n",
      "Speed: 0.9ms preprocess, 9.6ms inference, 0.9ms postprocess per image at shape (1, 3, 480, 640)\n",
      "[2025/04/16 08:37:29] ppocr DEBUG: dt_boxes num : 0, elapsed : 0.023021459579467773\n",
      "[2025/04/16 08:37:29] ppocr DEBUG: cls num  : 0, elapsed : 0\n",
      "[2025/04/16 08:37:29] ppocr DEBUG: rec_res num  : 0, elapsed : 0.0\n",
      "\n",
      "0: 480x640 1 license-plat, 10.2ms\n",
      "Speed: 0.8ms preprocess, 10.2ms inference, 0.9ms postprocess per image at shape (1, 3, 480, 640)\n",
      "[2025/04/16 08:37:29] ppocr DEBUG: dt_boxes num : 0, elapsed : 0.024099349975585938\n",
      "[2025/04/16 08:37:29] ppocr DEBUG: cls num  : 0, elapsed : 0\n",
      "[2025/04/16 08:37:29] ppocr DEBUG: rec_res num  : 0, elapsed : 0.0\n",
      "\n",
      "0: 480x640 1 license-plat, 9.4ms\n",
      "Speed: 0.8ms preprocess, 9.4ms inference, 0.9ms postprocess per image at shape (1, 3, 480, 640)\n",
      "[2025/04/16 08:37:29] ppocr DEBUG: dt_boxes num : 0, elapsed : 0.023517847061157227\n",
      "[2025/04/16 08:37:29] ppocr DEBUG: cls num  : 0, elapsed : 0\n",
      "[2025/04/16 08:37:29] ppocr DEBUG: rec_res num  : 0, elapsed : 0.0\n",
      "\n",
      "0: 480x640 1 license-plat, 12.0ms\n",
      "Speed: 0.8ms preprocess, 12.0ms inference, 1.3ms postprocess per image at shape (1, 3, 480, 640)\n",
      "[2025/04/16 08:37:29] ppocr DEBUG: dt_boxes num : 0, elapsed : 0.025157690048217773\n",
      "[2025/04/16 08:37:29] ppocr DEBUG: cls num  : 0, elapsed : 0\n",
      "[2025/04/16 08:37:29] ppocr DEBUG: rec_res num  : 0, elapsed : 0.0\n",
      "\n",
      "0: 480x640 1 license-plat, 11.3ms\n",
      "Speed: 0.8ms preprocess, 11.3ms inference, 1.4ms postprocess per image at shape (1, 3, 480, 640)\n",
      "[2025/04/16 08:37:29] ppocr DEBUG: dt_boxes num : 0, elapsed : 0.029541015625\n",
      "[2025/04/16 08:37:29] ppocr DEBUG: cls num  : 0, elapsed : 0\n",
      "[2025/04/16 08:37:29] ppocr DEBUG: rec_res num  : 0, elapsed : 0.0\n",
      "\n",
      "0: 480x640 (no detections), 11.7ms\n",
      "Speed: 1.1ms preprocess, 11.7ms inference, 0.4ms postprocess per image at shape (1, 3, 480, 640)\n",
      "\n",
      "0: 480x640 (no detections), 9.3ms\n",
      "Speed: 1.0ms preprocess, 9.3ms inference, 0.4ms postprocess per image at shape (1, 3, 480, 640)\n",
      "\n",
      "0: 480x640 (no detections), 9.3ms\n",
      "Speed: 0.9ms preprocess, 9.3ms inference, 0.4ms postprocess per image at shape (1, 3, 480, 640)\n",
      "\n",
      "0: 480x640 1 license-plat, 9.6ms\n",
      "Speed: 0.8ms preprocess, 9.6ms inference, 0.9ms postprocess per image at shape (1, 3, 480, 640)\n",
      "[2025/04/16 08:37:29] ppocr DEBUG: dt_boxes num : 0, elapsed : 0.05731511116027832\n",
      "[2025/04/16 08:37:29] ppocr DEBUG: cls num  : 0, elapsed : 0\n",
      "[2025/04/16 08:37:29] ppocr DEBUG: rec_res num  : 0, elapsed : 0.0\n",
      "\n",
      "0: 480x640 1 license-plat, 9.5ms\n",
      "Speed: 1.3ms preprocess, 9.5ms inference, 0.9ms postprocess per image at shape (1, 3, 480, 640)\n",
      "[2025/04/16 08:37:29] ppocr DEBUG: dt_boxes num : 0, elapsed : 0.029750823974609375\n",
      "[2025/04/16 08:37:29] ppocr DEBUG: cls num  : 0, elapsed : 0\n",
      "[2025/04/16 08:37:29] ppocr DEBUG: rec_res num  : 0, elapsed : 0.0\n",
      "\n",
      "0: 480x640 1 license-plat, 9.8ms\n",
      "Speed: 0.8ms preprocess, 9.8ms inference, 1.1ms postprocess per image at shape (1, 3, 480, 640)\n",
      "[2025/04/16 08:37:30] ppocr DEBUG: dt_boxes num : 0, elapsed : 0.06304430961608887\n",
      "[2025/04/16 08:37:30] ppocr DEBUG: cls num  : 0, elapsed : 0\n",
      "[2025/04/16 08:37:30] ppocr DEBUG: rec_res num  : 0, elapsed : 0.0\n",
      "\n",
      "0: 480x640 1 license-plat, 12.2ms\n",
      "Speed: 0.8ms preprocess, 12.2ms inference, 1.6ms postprocess per image at shape (1, 3, 480, 640)\n",
      "[2025/04/16 08:37:30] ppocr DEBUG: dt_boxes num : 1, elapsed : 0.030899524688720703\n",
      "[2025/04/16 08:37:30] ppocr DEBUG: cls num  : 1, elapsed : 0.025598764419555664\n",
      "[2025/04/16 08:37:30] ppocr DEBUG: rec_res num  : 1, elapsed : 0.05984377861022949\n",
      "\n",
      "0: 480x640 (no detections), 9.4ms\n",
      "Speed: 0.9ms preprocess, 9.4ms inference, 0.4ms postprocess per image at shape (1, 3, 480, 640)\n",
      "\n",
      "0: 480x640 (no detections), 9.6ms\n",
      "Speed: 1.0ms preprocess, 9.6ms inference, 0.4ms postprocess per image at shape (1, 3, 480, 640)\n",
      "\n",
      "0: 480x640 (no detections), 10.1ms\n",
      "Speed: 1.2ms preprocess, 10.1ms inference, 0.4ms postprocess per image at shape (1, 3, 480, 640)\n",
      "\n",
      "0: 480x640 (no detections), 9.4ms\n",
      "Speed: 0.8ms preprocess, 9.4ms inference, 0.4ms postprocess per image at shape (1, 3, 480, 640)\n",
      "\n",
      "0: 480x640 (no detections), 9.1ms\n",
      "Speed: 1.0ms preprocess, 9.1ms inference, 0.4ms postprocess per image at shape (1, 3, 480, 640)\n",
      "\n",
      "0: 480x640 (no detections), 9.4ms\n",
      "Speed: 0.8ms preprocess, 9.4ms inference, 0.4ms postprocess per image at shape (1, 3, 480, 640)\n",
      "\n",
      "0: 480x640 (no detections), 9.9ms\n",
      "Speed: 1.0ms preprocess, 9.9ms inference, 0.4ms postprocess per image at shape (1, 3, 480, 640)\n",
      "\n",
      "0: 480x640 (no detections), 9.8ms\n",
      "Speed: 0.9ms preprocess, 9.8ms inference, 0.4ms postprocess per image at shape (1, 3, 480, 640)\n",
      "\n",
      "0: 480x640 (no detections), 9.6ms\n",
      "Speed: 0.8ms preprocess, 9.6ms inference, 0.4ms postprocess per image at shape (1, 3, 480, 640)\n",
      "\n",
      "0: 480x640 (no detections), 9.8ms\n",
      "Speed: 0.7ms preprocess, 9.8ms inference, 0.4ms postprocess per image at shape (1, 3, 480, 640)\n",
      "\n",
      "0: 480x640 (no detections), 9.7ms\n",
      "Speed: 1.0ms preprocess, 9.7ms inference, 0.4ms postprocess per image at shape (1, 3, 480, 640)\n",
      "\n",
      "0: 480x640 (no detections), 12.0ms\n",
      "Speed: 0.9ms preprocess, 12.0ms inference, 0.4ms postprocess per image at shape (1, 3, 480, 640)\n",
      "\n",
      "0: 480x640 (no detections), 9.5ms\n",
      "Speed: 0.7ms preprocess, 9.5ms inference, 0.4ms postprocess per image at shape (1, 3, 480, 640)\n",
      "\n",
      "0: 480x640 (no detections), 9.5ms\n",
      "Speed: 0.9ms preprocess, 9.5ms inference, 0.4ms postprocess per image at shape (1, 3, 480, 640)\n",
      "\n",
      "0: 480x640 (no detections), 9.5ms\n",
      "Speed: 0.9ms preprocess, 9.5ms inference, 0.4ms postprocess per image at shape (1, 3, 480, 640)\n",
      "\n",
      "0: 480x640 1 license-plat, 9.6ms\n",
      "Speed: 0.8ms preprocess, 9.6ms inference, 0.8ms postprocess per image at shape (1, 3, 480, 640)\n",
      "[2025/04/16 08:37:30] ppocr DEBUG: dt_boxes num : 0, elapsed : 0.07766246795654297\n",
      "[2025/04/16 08:37:30] ppocr DEBUG: cls num  : 0, elapsed : 0\n",
      "[2025/04/16 08:37:30] ppocr DEBUG: rec_res num  : 0, elapsed : 0.0\n",
      "\n",
      "0: 480x640 1 license-plat, 9.8ms\n",
      "Speed: 0.9ms preprocess, 9.8ms inference, 0.9ms postprocess per image at shape (1, 3, 480, 640)\n",
      "[2025/04/16 08:37:30] ppocr DEBUG: dt_boxes num : 0, elapsed : 0.07230424880981445\n",
      "[2025/04/16 08:37:30] ppocr DEBUG: cls num  : 0, elapsed : 0\n",
      "[2025/04/16 08:37:30] ppocr DEBUG: rec_res num  : 0, elapsed : 0.0\n",
      "\n",
      "0: 480x640 1 license-plat, 10.1ms\n",
      "Speed: 0.8ms preprocess, 10.1ms inference, 0.9ms postprocess per image at shape (1, 3, 480, 640)\n",
      "[2025/04/16 08:37:30] ppocr DEBUG: dt_boxes num : 0, elapsed : 0.03434300422668457\n",
      "[2025/04/16 08:37:30] ppocr DEBUG: cls num  : 0, elapsed : 0\n",
      "[2025/04/16 08:37:30] ppocr DEBUG: rec_res num  : 0, elapsed : 0.0\n",
      "\n",
      "0: 480x640 1 license-plat, 9.5ms\n",
      "Speed: 0.9ms preprocess, 9.5ms inference, 0.9ms postprocess per image at shape (1, 3, 480, 640)\n",
      "[2025/04/16 08:37:30] ppocr DEBUG: dt_boxes num : 0, elapsed : 0.03607439994812012\n",
      "[2025/04/16 08:37:30] ppocr DEBUG: cls num  : 0, elapsed : 0\n",
      "[2025/04/16 08:37:30] ppocr DEBUG: rec_res num  : 0, elapsed : 0.0\n",
      "\n",
      "0: 480x640 1 license-plat, 10.1ms\n",
      "Speed: 1.0ms preprocess, 10.1ms inference, 1.1ms postprocess per image at shape (1, 3, 480, 640)\n",
      "[2025/04/16 08:37:31] ppocr DEBUG: dt_boxes num : 3, elapsed : 0.008540868759155273\n",
      "[2025/04/16 08:37:31] ppocr DEBUG: cls num  : 3, elapsed : 0.025029897689819336\n",
      "[2025/04/16 08:37:31] ppocr DEBUG: rec_res num  : 3, elapsed : 0.09826970100402832\n",
      "\n",
      "0: 480x640 1 license-plat, 10.3ms\n",
      "Speed: 1.2ms preprocess, 10.3ms inference, 1.0ms postprocess per image at shape (1, 3, 480, 640)\n",
      "[2025/04/16 08:37:31] ppocr DEBUG: dt_boxes num : 3, elapsed : 0.008750677108764648\n",
      "[2025/04/16 08:37:31] ppocr DEBUG: cls num  : 3, elapsed : 0.0055277347564697266\n",
      "[2025/04/16 08:37:31] ppocr DEBUG: rec_res num  : 3, elapsed : 0.06187033653259277\n",
      "\n",
      "0: 480x640 1 license-plat, 9.6ms\n",
      "Speed: 0.9ms preprocess, 9.6ms inference, 0.9ms postprocess per image at shape (1, 3, 480, 640)\n",
      "[2025/04/16 08:37:31] ppocr DEBUG: dt_boxes num : 2, elapsed : 0.008251667022705078\n",
      "[2025/04/16 08:37:31] ppocr DEBUG: cls num  : 2, elapsed : 0.022545814514160156\n",
      "[2025/04/16 08:37:31] ppocr DEBUG: rec_res num  : 2, elapsed : 0.07767200469970703\n",
      "\n",
      "0: 480x640 1 license-plat, 9.5ms\n",
      "Speed: 1.0ms preprocess, 9.5ms inference, 0.9ms postprocess per image at shape (1, 3, 480, 640)\n",
      "[2025/04/16 08:37:31] ppocr DEBUG: dt_boxes num : 2, elapsed : 0.008063793182373047\n",
      "[2025/04/16 08:37:31] ppocr DEBUG: cls num  : 2, elapsed : 0.0040776729583740234\n",
      "[2025/04/16 08:37:31] ppocr DEBUG: rec_res num  : 2, elapsed : 0.04403352737426758\n",
      "\n",
      "0: 480x640 1 license-plat, 9.6ms\n",
      "Speed: 0.7ms preprocess, 9.6ms inference, 0.9ms postprocess per image at shape (1, 3, 480, 640)\n",
      "[2025/04/16 08:37:31] ppocr DEBUG: dt_boxes num : 4, elapsed : 0.008253812789916992\n",
      "[2025/04/16 08:37:31] ppocr DEBUG: cls num  : 4, elapsed : 0.024811744689941406\n",
      "[2025/04/16 08:37:31] ppocr DEBUG: rec_res num  : 4, elapsed : 0.11963057518005371\n",
      "\n",
      "0: 480x640 1 license-plat, 9.5ms\n",
      "Speed: 1.0ms preprocess, 9.5ms inference, 0.9ms postprocess per image at shape (1, 3, 480, 640)\n",
      "[2025/04/16 08:37:31] ppocr DEBUG: dt_boxes num : 3, elapsed : 0.007513761520385742\n",
      "[2025/04/16 08:37:31] ppocr DEBUG: cls num  : 3, elapsed : 0.002067089080810547\n",
      "[2025/04/16 08:37:31] ppocr DEBUG: rec_res num  : 3, elapsed : 0.06130504608154297\n",
      "\n",
      "0: 480x640 1 license-plat, 12.7ms\n",
      "Speed: 1.0ms preprocess, 12.7ms inference, 1.0ms postprocess per image at shape (1, 3, 480, 640)\n",
      "[2025/04/16 08:37:31] ppocr DEBUG: dt_boxes num : 3, elapsed : 0.0075130462646484375\n",
      "[2025/04/16 08:37:31] ppocr DEBUG: cls num  : 3, elapsed : 0.004509449005126953\n",
      "[2025/04/16 08:37:31] ppocr DEBUG: rec_res num  : 3, elapsed : 0.0612485408782959\n",
      "\n",
      "0: 480x640 1 license-plat, 9.3ms\n",
      "Speed: 0.8ms preprocess, 9.3ms inference, 1.0ms postprocess per image at shape (1, 3, 480, 640)\n",
      "[2025/04/16 08:37:31] ppocr DEBUG: dt_boxes num : 2, elapsed : 0.008592367172241211\n",
      "[2025/04/16 08:37:31] ppocr DEBUG: cls num  : 2, elapsed : 0.004096031188964844\n",
      "[2025/04/16 08:37:31] ppocr DEBUG: rec_res num  : 2, elapsed : 0.04488325119018555\n",
      "\n",
      "0: 480x640 1 license-plat, 9.5ms\n",
      "Speed: 0.7ms preprocess, 9.5ms inference, 0.9ms postprocess per image at shape (1, 3, 480, 640)\n",
      "[2025/04/16 08:37:31] ppocr DEBUG: dt_boxes num : 2, elapsed : 0.007508993148803711\n",
      "[2025/04/16 08:37:31] ppocr DEBUG: cls num  : 2, elapsed : 0.003998517990112305\n",
      "[2025/04/16 08:37:32] ppocr DEBUG: rec_res num  : 2, elapsed : 0.0426638126373291\n",
      "\n",
      "0: 480x640 1 license-plat, 9.5ms\n",
      "Speed: 0.8ms preprocess, 9.5ms inference, 0.9ms postprocess per image at shape (1, 3, 480, 640)\n",
      "[2025/04/16 08:37:32] ppocr DEBUG: dt_boxes num : 3, elapsed : 0.008402347564697266\n",
      "[2025/04/16 08:37:32] ppocr DEBUG: cls num  : 3, elapsed : 0.005263328552246094\n",
      "[2025/04/16 08:37:32] ppocr DEBUG: rec_res num  : 3, elapsed : 0.061208486557006836\n",
      "\n",
      "0: 480x640 1 license-plat, 10.4ms\n",
      "Speed: 1.1ms preprocess, 10.4ms inference, 1.2ms postprocess per image at shape (1, 3, 480, 640)\n",
      "[2025/04/16 08:37:32] ppocr DEBUG: dt_boxes num : 3, elapsed : 0.007683992385864258\n",
      "[2025/04/16 08:37:32] ppocr DEBUG: cls num  : 3, elapsed : 0.004000425338745117\n",
      "[2025/04/16 08:37:32] ppocr DEBUG: rec_res num  : 3, elapsed : 0.06112265586853027\n",
      "\n",
      "0: 480x640 1 license-plat, 9.7ms\n",
      "Speed: 0.9ms preprocess, 9.7ms inference, 1.1ms postprocess per image at shape (1, 3, 480, 640)\n",
      "[2025/04/16 08:37:32] ppocr DEBUG: dt_boxes num : 0, elapsed : 0.006623506546020508\n",
      "[2025/04/16 08:37:32] ppocr DEBUG: cls num  : 0, elapsed : 0\n",
      "[2025/04/16 08:37:32] ppocr DEBUG: rec_res num  : 0, elapsed : 0.0\n",
      "\n",
      "0: 480x640 (no detections), 9.9ms\n",
      "Speed: 0.9ms preprocess, 9.9ms inference, 0.4ms postprocess per image at shape (1, 3, 480, 640)\n",
      "\n",
      "0: 480x640 (no detections), 12.3ms\n",
      "Speed: 1.0ms preprocess, 12.3ms inference, 0.4ms postprocess per image at shape (1, 3, 480, 640)\n",
      "\n",
      "0: 480x640 (no detections), 12.5ms\n",
      "Speed: 1.0ms preprocess, 12.5ms inference, 0.4ms postprocess per image at shape (1, 3, 480, 640)\n",
      "\n",
      "0: 480x640 1 license-plat, 9.5ms\n",
      "Speed: 0.8ms preprocess, 9.5ms inference, 0.9ms postprocess per image at shape (1, 3, 480, 640)\n",
      "[2025/04/16 08:37:32] ppocr DEBUG: dt_boxes num : 0, elapsed : 0.08783411979675293\n",
      "[2025/04/16 08:37:32] ppocr DEBUG: cls num  : 0, elapsed : 0\n",
      "[2025/04/16 08:37:32] ppocr DEBUG: rec_res num  : 0, elapsed : 0.0\n",
      "\n",
      "0: 480x640 1 license-plat, 9.6ms\n",
      "Speed: 0.9ms preprocess, 9.6ms inference, 0.9ms postprocess per image at shape (1, 3, 480, 640)\n",
      "[2025/04/16 08:37:32] ppocr DEBUG: dt_boxes num : 0, elapsed : 0.06261181831359863\n",
      "[2025/04/16 08:37:32] ppocr DEBUG: cls num  : 0, elapsed : 0\n",
      "[2025/04/16 08:37:32] ppocr DEBUG: rec_res num  : 0, elapsed : 0.0\n",
      "\n",
      "0: 480x640 1 license-plat, 9.4ms\n",
      "Speed: 0.9ms preprocess, 9.4ms inference, 0.9ms postprocess per image at shape (1, 3, 480, 640)\n",
      "[2025/04/16 08:37:32] ppocr DEBUG: dt_boxes num : 0, elapsed : 0.02808690071105957\n",
      "[2025/04/16 08:37:32] ppocr DEBUG: cls num  : 0, elapsed : 0\n",
      "[2025/04/16 08:37:32] ppocr DEBUG: rec_res num  : 0, elapsed : 0.0\n",
      "\n",
      "0: 480x640 1 license-plat, 9.3ms\n",
      "Speed: 0.8ms preprocess, 9.3ms inference, 0.9ms postprocess per image at shape (1, 3, 480, 640)\n",
      "[2025/04/16 08:37:32] ppocr DEBUG: dt_boxes num : 0, elapsed : 0.026627779006958008\n",
      "[2025/04/16 08:37:32] ppocr DEBUG: cls num  : 0, elapsed : 0\n",
      "[2025/04/16 08:37:32] ppocr DEBUG: rec_res num  : 0, elapsed : 0.0\n",
      "\n",
      "0: 480x640 1 license-plat, 9.4ms\n",
      "Speed: 0.9ms preprocess, 9.4ms inference, 0.9ms postprocess per image at shape (1, 3, 480, 640)\n",
      "[2025/04/16 08:37:32] ppocr DEBUG: dt_boxes num : 0, elapsed : 0.028554439544677734\n",
      "[2025/04/16 08:37:32] ppocr DEBUG: cls num  : 0, elapsed : 0\n",
      "[2025/04/16 08:37:32] ppocr DEBUG: rec_res num  : 0, elapsed : 0.0\n",
      "\n",
      "0: 480x640 (no detections), 10.4ms\n",
      "Speed: 0.9ms preprocess, 10.4ms inference, 0.4ms postprocess per image at shape (1, 3, 480, 640)\n",
      "\n",
      "0: 480x640 1 license-plat, 9.9ms\n",
      "Speed: 0.8ms preprocess, 9.9ms inference, 0.9ms postprocess per image at shape (1, 3, 480, 640)\n",
      "[2025/04/16 08:37:32] ppocr DEBUG: dt_boxes num : 0, elapsed : 0.05821490287780762\n",
      "[2025/04/16 08:37:32] ppocr DEBUG: cls num  : 0, elapsed : 0\n",
      "[2025/04/16 08:37:32] ppocr DEBUG: rec_res num  : 0, elapsed : 0.0\n",
      "\n",
      "0: 480x640 1 license-plat, 9.2ms\n",
      "Speed: 0.8ms preprocess, 9.2ms inference, 0.8ms postprocess per image at shape (1, 3, 480, 640)\n",
      "[2025/04/16 08:37:32] ppocr DEBUG: dt_boxes num : 0, elapsed : 0.062047481536865234\n",
      "[2025/04/16 08:37:32] ppocr DEBUG: cls num  : 0, elapsed : 0\n",
      "[2025/04/16 08:37:32] ppocr DEBUG: rec_res num  : 0, elapsed : 0.0\n",
      "\n",
      "0: 480x640 1 license-plat, 9.8ms\n",
      "Speed: 0.8ms preprocess, 9.8ms inference, 0.9ms postprocess per image at shape (1, 3, 480, 640)\n",
      "[2025/04/16 08:37:33] ppocr DEBUG: dt_boxes num : 0, elapsed : 0.0647742748260498\n",
      "[2025/04/16 08:37:33] ppocr DEBUG: cls num  : 0, elapsed : 0\n",
      "[2025/04/16 08:37:33] ppocr DEBUG: rec_res num  : 0, elapsed : 0.0\n",
      "\n",
      "0: 480x640 1 license-plat, 9.2ms\n",
      "Speed: 0.7ms preprocess, 9.2ms inference, 0.9ms postprocess per image at shape (1, 3, 480, 640)\n",
      "[2025/04/16 08:37:33] ppocr DEBUG: dt_boxes num : 0, elapsed : 0.06692290306091309\n",
      "[2025/04/16 08:37:33] ppocr DEBUG: cls num  : 0, elapsed : 0\n",
      "[2025/04/16 08:37:33] ppocr DEBUG: rec_res num  : 0, elapsed : 0.0\n",
      "\n",
      "0: 480x640 (no detections), 11.0ms\n",
      "Speed: 0.9ms preprocess, 11.0ms inference, 0.4ms postprocess per image at shape (1, 3, 480, 640)\n",
      "\n",
      "0: 480x640 1 license-plat, 9.9ms\n",
      "Speed: 0.8ms preprocess, 9.9ms inference, 0.9ms postprocess per image at shape (1, 3, 480, 640)\n",
      "[2025/04/16 08:37:33] ppocr DEBUG: dt_boxes num : 0, elapsed : 0.06813335418701172\n",
      "[2025/04/16 08:37:33] ppocr DEBUG: cls num  : 0, elapsed : 0\n",
      "[2025/04/16 08:37:33] ppocr DEBUG: rec_res num  : 0, elapsed : 0.0\n",
      "\n",
      "0: 480x640 1 license-plat, 9.1ms\n",
      "Speed: 0.9ms preprocess, 9.1ms inference, 0.9ms postprocess per image at shape (1, 3, 480, 640)\n",
      "[2025/04/16 08:37:33] ppocr DEBUG: dt_boxes num : 0, elapsed : 0.031746625900268555\n",
      "[2025/04/16 08:37:33] ppocr DEBUG: cls num  : 0, elapsed : 0\n",
      "[2025/04/16 08:37:33] ppocr DEBUG: rec_res num  : 0, elapsed : 0.0\n",
      "\n",
      "0: 480x640 1 license-plat, 9.6ms\n",
      "Speed: 0.8ms preprocess, 9.6ms inference, 0.9ms postprocess per image at shape (1, 3, 480, 640)\n",
      "[2025/04/16 08:37:33] ppocr DEBUG: dt_boxes num : 0, elapsed : 0.06540298461914062\n",
      "[2025/04/16 08:37:33] ppocr DEBUG: cls num  : 0, elapsed : 0\n",
      "[2025/04/16 08:37:33] ppocr DEBUG: rec_res num  : 0, elapsed : 0.0\n",
      "\n",
      "0: 480x640 1 license-plat, 9.5ms\n",
      "Speed: 0.8ms preprocess, 9.5ms inference, 0.9ms postprocess per image at shape (1, 3, 480, 640)\n",
      "[2025/04/16 08:37:33] ppocr DEBUG: dt_boxes num : 0, elapsed : 0.034482717514038086\n",
      "[2025/04/16 08:37:33] ppocr DEBUG: cls num  : 0, elapsed : 0\n",
      "[2025/04/16 08:37:33] ppocr DEBUG: rec_res num  : 0, elapsed : 0.0\n",
      "\n",
      "0: 480x640 1 license-plat, 10.3ms\n",
      "Speed: 0.8ms preprocess, 10.3ms inference, 0.9ms postprocess per image at shape (1, 3, 480, 640)\n",
      "[2025/04/16 08:37:33] ppocr DEBUG: dt_boxes num : 0, elapsed : 0.03337979316711426\n",
      "[2025/04/16 08:37:33] ppocr DEBUG: cls num  : 0, elapsed : 0\n",
      "[2025/04/16 08:37:33] ppocr DEBUG: rec_res num  : 0, elapsed : 0.0\n",
      "\n",
      "0: 480x640 1 license-plat, 9.9ms\n",
      "Speed: 0.7ms preprocess, 9.9ms inference, 0.9ms postprocess per image at shape (1, 3, 480, 640)\n",
      "[2025/04/16 08:37:33] ppocr DEBUG: dt_boxes num : 0, elapsed : 0.05948066711425781\n",
      "[2025/04/16 08:37:33] ppocr DEBUG: cls num  : 0, elapsed : 0\n",
      "[2025/04/16 08:37:33] ppocr DEBUG: rec_res num  : 0, elapsed : 0.0\n",
      "\n",
      "0: 480x640 1 license-plat, 9.6ms\n",
      "Speed: 2.5ms preprocess, 9.6ms inference, 0.9ms postprocess per image at shape (1, 3, 480, 640)\n",
      "[2025/04/16 08:37:33] ppocr DEBUG: dt_boxes num : 0, elapsed : 0.0250396728515625\n",
      "[2025/04/16 08:37:33] ppocr DEBUG: cls num  : 0, elapsed : 0\n",
      "[2025/04/16 08:37:33] ppocr DEBUG: rec_res num  : 0, elapsed : 0.0\n",
      "\n",
      "0: 480x640 1 license-plat, 10.0ms\n",
      "Speed: 0.8ms preprocess, 10.0ms inference, 1.0ms postprocess per image at shape (1, 3, 480, 640)\n",
      "[2025/04/16 08:37:33] ppocr DEBUG: dt_boxes num : 0, elapsed : 0.03363680839538574\n",
      "[2025/04/16 08:37:33] ppocr DEBUG: cls num  : 0, elapsed : 0\n",
      "[2025/04/16 08:37:33] ppocr DEBUG: rec_res num  : 0, elapsed : 0.0\n",
      "\n",
      "0: 480x640 1 license-plat, 10.0ms\n",
      "Speed: 0.9ms preprocess, 10.0ms inference, 1.0ms postprocess per image at shape (1, 3, 480, 640)\n",
      "[2025/04/16 08:37:33] ppocr DEBUG: dt_boxes num : 0, elapsed : 0.030576229095458984\n",
      "[2025/04/16 08:37:33] ppocr DEBUG: cls num  : 0, elapsed : 0\n",
      "[2025/04/16 08:37:33] ppocr DEBUG: rec_res num  : 0, elapsed : 0.0\n",
      "\n",
      "0: 480x640 1 license-plat, 9.8ms\n",
      "Speed: 0.9ms preprocess, 9.8ms inference, 0.9ms postprocess per image at shape (1, 3, 480, 640)\n",
      "[2025/04/16 08:37:33] ppocr DEBUG: dt_boxes num : 0, elapsed : 0.07163262367248535\n",
      "[2025/04/16 08:37:33] ppocr DEBUG: cls num  : 0, elapsed : 0\n",
      "[2025/04/16 08:37:33] ppocr DEBUG: rec_res num  : 0, elapsed : 0.0\n",
      "\n",
      "0: 480x640 1 license-plat, 9.8ms\n",
      "Speed: 1.0ms preprocess, 9.8ms inference, 0.9ms postprocess per image at shape (1, 3, 480, 640)\n",
      "[2025/04/16 08:37:33] ppocr DEBUG: dt_boxes num : 0, elapsed : 0.06617021560668945\n",
      "[2025/04/16 08:37:33] ppocr DEBUG: cls num  : 0, elapsed : 0\n",
      "[2025/04/16 08:37:33] ppocr DEBUG: rec_res num  : 0, elapsed : 0.0\n",
      "\n",
      "0: 480x640 1 license-plat, 9.8ms\n",
      "Speed: 1.0ms preprocess, 9.8ms inference, 1.0ms postprocess per image at shape (1, 3, 480, 640)\n",
      "[2025/04/16 08:37:34] ppocr DEBUG: dt_boxes num : 0, elapsed : 0.035005807876586914\n",
      "[2025/04/16 08:37:34] ppocr DEBUG: cls num  : 0, elapsed : 0\n",
      "[2025/04/16 08:37:34] ppocr DEBUG: rec_res num  : 0, elapsed : 0.0\n",
      "\n",
      "0: 480x640 1 license-plat, 10.0ms\n",
      "Speed: 0.9ms preprocess, 10.0ms inference, 1.0ms postprocess per image at shape (1, 3, 480, 640)\n",
      "[2025/04/16 08:37:34] ppocr DEBUG: dt_boxes num : 0, elapsed : 0.02753472328186035\n",
      "[2025/04/16 08:37:34] ppocr DEBUG: cls num  : 0, elapsed : 0\n",
      "[2025/04/16 08:37:34] ppocr DEBUG: rec_res num  : 0, elapsed : 0.0\n",
      "\n",
      "0: 480x640 1 license-plat, 9.7ms\n",
      "Speed: 0.9ms preprocess, 9.7ms inference, 1.0ms postprocess per image at shape (1, 3, 480, 640)\n",
      "[2025/04/16 08:37:34] ppocr DEBUG: dt_boxes num : 0, elapsed : 0.028561115264892578\n",
      "[2025/04/16 08:37:34] ppocr DEBUG: cls num  : 0, elapsed : 0\n",
      "[2025/04/16 08:37:34] ppocr DEBUG: rec_res num  : 0, elapsed : 0.0\n",
      "\n",
      "0: 480x640 1 license-plat, 10.8ms\n",
      "Speed: 0.8ms preprocess, 10.8ms inference, 1.0ms postprocess per image at shape (1, 3, 480, 640)\n",
      "[2025/04/16 08:37:34] ppocr DEBUG: dt_boxes num : 0, elapsed : 0.028791189193725586\n",
      "[2025/04/16 08:37:34] ppocr DEBUG: cls num  : 0, elapsed : 0\n",
      "[2025/04/16 08:37:34] ppocr DEBUG: rec_res num  : 0, elapsed : 0.0\n",
      "\n",
      "0: 480x640 1 license-plat, 9.3ms\n",
      "Speed: 1.2ms preprocess, 9.3ms inference, 1.0ms postprocess per image at shape (1, 3, 480, 640)\n",
      "[2025/04/16 08:37:34] ppocr DEBUG: dt_boxes num : 0, elapsed : 0.025835037231445312\n",
      "[2025/04/16 08:37:34] ppocr DEBUG: cls num  : 0, elapsed : 0\n",
      "[2025/04/16 08:37:34] ppocr DEBUG: rec_res num  : 0, elapsed : 0.0\n",
      "\n",
      "0: 480x640 1 license-plat, 19.5ms\n",
      "Speed: 0.8ms preprocess, 19.5ms inference, 0.9ms postprocess per image at shape (1, 3, 480, 640)\n",
      "[2025/04/16 08:37:34] ppocr DEBUG: dt_boxes num : 0, elapsed : 0.027419567108154297\n",
      "[2025/04/16 08:37:34] ppocr DEBUG: cls num  : 0, elapsed : 0\n",
      "[2025/04/16 08:37:34] ppocr DEBUG: rec_res num  : 0, elapsed : 0.0\n",
      "\n",
      "0: 480x640 1 license-plat, 9.3ms\n",
      "Speed: 0.7ms preprocess, 9.3ms inference, 0.9ms postprocess per image at shape (1, 3, 480, 640)\n",
      "[2025/04/16 08:37:34] ppocr DEBUG: dt_boxes num : 0, elapsed : 0.02407097816467285\n",
      "[2025/04/16 08:37:34] ppocr DEBUG: cls num  : 0, elapsed : 0\n",
      "[2025/04/16 08:37:34] ppocr DEBUG: rec_res num  : 0, elapsed : 0.0\n",
      "\n",
      "0: 480x640 1 license-plat, 16.5ms\n",
      "Speed: 0.8ms preprocess, 16.5ms inference, 0.9ms postprocess per image at shape (1, 3, 480, 640)\n",
      "[2025/04/16 08:37:34] ppocr DEBUG: dt_boxes num : 0, elapsed : 0.026363611221313477\n",
      "[2025/04/16 08:37:34] ppocr DEBUG: cls num  : 0, elapsed : 0\n",
      "[2025/04/16 08:37:34] ppocr DEBUG: rec_res num  : 0, elapsed : 0.0\n",
      "\n",
      "0: 480x640 1 license-plat, 9.2ms\n",
      "Speed: 0.8ms preprocess, 9.2ms inference, 0.9ms postprocess per image at shape (1, 3, 480, 640)\n",
      "[2025/04/16 08:37:34] ppocr DEBUG: dt_boxes num : 0, elapsed : 0.05510973930358887\n",
      "[2025/04/16 08:37:34] ppocr DEBUG: cls num  : 0, elapsed : 0\n",
      "[2025/04/16 08:37:34] ppocr DEBUG: rec_res num  : 0, elapsed : 0.0\n",
      "\n",
      "0: 480x640 1 license-plat, 9.3ms\n",
      "Speed: 0.9ms preprocess, 9.3ms inference, 0.9ms postprocess per image at shape (1, 3, 480, 640)\n",
      "[2025/04/16 08:37:34] ppocr DEBUG: dt_boxes num : 0, elapsed : 0.05898618698120117\n",
      "[2025/04/16 08:37:34] ppocr DEBUG: cls num  : 0, elapsed : 0\n",
      "[2025/04/16 08:37:34] ppocr DEBUG: rec_res num  : 0, elapsed : 0.0\n",
      "\n",
      "0: 480x640 1 license-plat, 9.7ms\n",
      "Speed: 0.8ms preprocess, 9.7ms inference, 0.9ms postprocess per image at shape (1, 3, 480, 640)\n",
      "[2025/04/16 08:37:34] ppocr DEBUG: dt_boxes num : 0, elapsed : 0.02812027931213379\n",
      "[2025/04/16 08:37:34] ppocr DEBUG: cls num  : 0, elapsed : 0\n",
      "[2025/04/16 08:37:34] ppocr DEBUG: rec_res num  : 0, elapsed : 0.0\n",
      "\n",
      "0: 480x640 1 license-plat, 9.4ms\n",
      "Speed: 0.8ms preprocess, 9.4ms inference, 0.9ms postprocess per image at shape (1, 3, 480, 640)\n",
      "[2025/04/16 08:37:34] ppocr DEBUG: dt_boxes num : 0, elapsed : 0.030219078063964844\n",
      "[2025/04/16 08:37:34] ppocr DEBUG: cls num  : 0, elapsed : 0\n",
      "[2025/04/16 08:37:34] ppocr DEBUG: rec_res num  : 0, elapsed : 0.0\n",
      "\n",
      "0: 480x640 (no detections), 9.6ms\n",
      "Speed: 0.9ms preprocess, 9.6ms inference, 0.4ms postprocess per image at shape (1, 3, 480, 640)\n",
      "\n",
      "0: 480x640 (no detections), 10.0ms\n",
      "Speed: 0.9ms preprocess, 10.0ms inference, 0.4ms postprocess per image at shape (1, 3, 480, 640)\n",
      "\n",
      "0: 480x640 (no detections), 10.0ms\n",
      "Speed: 1.1ms preprocess, 10.0ms inference, 0.4ms postprocess per image at shape (1, 3, 480, 640)\n",
      "\n",
      "0: 480x640 1 license-plat, 10.6ms\n",
      "Speed: 1.3ms preprocess, 10.6ms inference, 1.0ms postprocess per image at shape (1, 3, 480, 640)\n",
      "[2025/04/16 08:37:34] ppocr DEBUG: dt_boxes num : 0, elapsed : 0.07406759262084961\n",
      "[2025/04/16 08:37:34] ppocr DEBUG: cls num  : 0, elapsed : 0\n",
      "[2025/04/16 08:37:34] ppocr DEBUG: rec_res num  : 0, elapsed : 0.0\n",
      "\n",
      "0: 480x640 (no detections), 9.7ms\n",
      "Speed: 0.9ms preprocess, 9.7ms inference, 0.4ms postprocess per image at shape (1, 3, 480, 640)\n",
      "\n",
      "0: 480x640 1 license-plat, 9.7ms\n",
      "Speed: 0.9ms preprocess, 9.7ms inference, 0.9ms postprocess per image at shape (1, 3, 480, 640)\n",
      "[2025/04/16 08:37:35] ppocr DEBUG: dt_boxes num : 0, elapsed : 0.04382824897766113\n",
      "[2025/04/16 08:37:35] ppocr DEBUG: cls num  : 0, elapsed : 0\n",
      "[2025/04/16 08:37:35] ppocr DEBUG: rec_res num  : 0, elapsed : 0.0\n",
      "\n",
      "0: 480x640 2 license-plats, 10.1ms\n",
      "Speed: 0.8ms preprocess, 10.1ms inference, 0.9ms postprocess per image at shape (1, 3, 480, 640)\n",
      "[2025/04/16 08:37:35] ppocr DEBUG: dt_boxes num : 1, elapsed : 0.010070562362670898\n",
      "[2025/04/16 08:37:35] ppocr DEBUG: cls num  : 1, elapsed : 0.02668595314025879\n",
      "[2025/04/16 08:37:35] ppocr DEBUG: rec_res num  : 1, elapsed : 0.06593918800354004\n",
      "[2025/04/16 08:37:35] ppocr DEBUG: dt_boxes num : 1, elapsed : 0.05462837219238281\n",
      "[2025/04/16 08:37:35] ppocr DEBUG: cls num  : 1, elapsed : 0.0035047531127929688\n",
      "[2025/04/16 08:37:35] ppocr DEBUG: rec_res num  : 1, elapsed : 0.02609395980834961\n",
      "\n",
      "0: 480x640 1 license-plat, 9.6ms\n",
      "Speed: 0.8ms preprocess, 9.6ms inference, 0.9ms postprocess per image at shape (1, 3, 480, 640)\n",
      "[2025/04/16 08:37:35] ppocr DEBUG: dt_boxes num : 3, elapsed : 0.037914276123046875\n",
      "[2025/04/16 08:37:35] ppocr DEBUG: cls num  : 3, elapsed : 0.025300025939941406\n",
      "[2025/04/16 08:37:35] ppocr DEBUG: rec_res num  : 3, elapsed : 0.09537959098815918\n",
      "\n",
      "0: 480x640 1 license-plat, 9.7ms\n",
      "Speed: 1.0ms preprocess, 9.7ms inference, 0.9ms postprocess per image at shape (1, 3, 480, 640)\n",
      "[2025/04/16 08:37:35] ppocr DEBUG: dt_boxes num : 3, elapsed : 0.007999420166015625\n",
      "[2025/04/16 08:37:35] ppocr DEBUG: cls num  : 3, elapsed : 0.005065202713012695\n",
      "[2025/04/16 08:37:35] ppocr DEBUG: rec_res num  : 3, elapsed : 0.059714317321777344\n",
      "\n",
      "0: 480x640 1 license-plat, 9.6ms\n",
      "Speed: 0.9ms preprocess, 9.6ms inference, 1.0ms postprocess per image at shape (1, 3, 480, 640)\n",
      "[2025/04/16 08:37:35] ppocr DEBUG: dt_boxes num : 4, elapsed : 0.03977227210998535\n",
      "[2025/04/16 08:37:35] ppocr DEBUG: cls num  : 4, elapsed : 0.026050567626953125\n",
      "[2025/04/16 08:37:35] ppocr DEBUG: rec_res num  : 4, elapsed : 0.11869049072265625\n",
      "\n",
      "0: 480x640 1 license-plat, 9.6ms\n",
      "Speed: 0.9ms preprocess, 9.6ms inference, 0.9ms postprocess per image at shape (1, 3, 480, 640)\n",
      "[2025/04/16 08:37:35] ppocr DEBUG: dt_boxes num : 4, elapsed : 0.038713932037353516\n",
      "[2025/04/16 08:37:35] ppocr DEBUG: cls num  : 4, elapsed : 0.0055179595947265625\n",
      "[2025/04/16 08:37:35] ppocr DEBUG: rec_res num  : 4, elapsed : 0.08025288581848145\n",
      "\n",
      "0: 480x640 1 license-plat, 9.6ms\n",
      "Speed: 1.1ms preprocess, 9.6ms inference, 0.9ms postprocess per image at shape (1, 3, 480, 640)\n",
      "[2025/04/16 08:37:35] ppocr DEBUG: dt_boxes num : 1, elapsed : 0.007063627243041992\n",
      "[2025/04/16 08:37:35] ppocr DEBUG: cls num  : 1, elapsed : 0.004004478454589844\n",
      "[2025/04/16 08:37:35] ppocr DEBUG: rec_res num  : 1, elapsed : 0.026091575622558594\n",
      "\n",
      "0: 480x640 1 license-plat, 9.5ms\n",
      "Speed: 1.0ms preprocess, 9.5ms inference, 0.9ms postprocess per image at shape (1, 3, 480, 640)\n",
      "[2025/04/16 08:37:36] ppocr DEBUG: dt_boxes num : 3, elapsed : 0.008412599563598633\n",
      "[2025/04/16 08:37:36] ppocr DEBUG: cls num  : 3, elapsed : 0.009026765823364258\n",
      "[2025/04/16 08:37:36] ppocr DEBUG: rec_res num  : 3, elapsed : 0.06250667572021484\n",
      "\n",
      "0: 480x640 1 license-plat, 11.1ms\n",
      "Speed: 1.1ms preprocess, 11.1ms inference, 1.2ms postprocess per image at shape (1, 3, 480, 640)\n",
      "[2025/04/16 08:37:36] ppocr DEBUG: dt_boxes num : 3, elapsed : 0.008512020111083984\n",
      "[2025/04/16 08:37:36] ppocr DEBUG: cls num  : 3, elapsed : 0.005101203918457031\n",
      "[2025/04/16 08:37:36] ppocr DEBUG: rec_res num  : 3, elapsed : 0.06428313255310059\n",
      "\n",
      "0: 480x640 1 license-plat, 10.2ms\n",
      "Speed: 1.0ms preprocess, 10.2ms inference, 1.0ms postprocess per image at shape (1, 3, 480, 640)\n",
      "[2025/04/16 08:37:36] ppocr DEBUG: dt_boxes num : 3, elapsed : 0.0073699951171875\n",
      "[2025/04/16 08:37:36] ppocr DEBUG: cls num  : 3, elapsed : 0.004687786102294922\n",
      "[2025/04/16 08:37:36] ppocr DEBUG: rec_res num  : 3, elapsed : 0.06229829788208008\n",
      "\n",
      "0: 480x640 1 license-plat, 10.9ms\n",
      "Speed: 1.0ms preprocess, 10.9ms inference, 1.2ms postprocess per image at shape (1, 3, 480, 640)\n",
      "[2025/04/16 08:37:36] ppocr DEBUG: dt_boxes num : 3, elapsed : 0.00981903076171875\n",
      "[2025/04/16 08:37:36] ppocr DEBUG: cls num  : 3, elapsed : 0.005509138107299805\n",
      "[2025/04/16 08:37:36] ppocr DEBUG: rec_res num  : 3, elapsed : 0.06381726264953613\n",
      "\n",
      "0: 480x640 1 license-plat, 10.2ms\n",
      "Speed: 1.0ms preprocess, 10.2ms inference, 1.0ms postprocess per image at shape (1, 3, 480, 640)\n",
      "[2025/04/16 08:37:36] ppocr DEBUG: dt_boxes num : 3, elapsed : 0.00856328010559082\n",
      "[2025/04/16 08:37:36] ppocr DEBUG: cls num  : 3, elapsed : 0.007000446319580078\n",
      "[2025/04/16 08:37:36] ppocr DEBUG: rec_res num  : 3, elapsed : 0.06439423561096191\n",
      "\n",
      "0: 480x640 1 license-plat, 10.1ms\n",
      "Speed: 1.1ms preprocess, 10.1ms inference, 1.1ms postprocess per image at shape (1, 3, 480, 640)\n",
      "[2025/04/16 08:37:36] ppocr DEBUG: dt_boxes num : 3, elapsed : 0.009198427200317383\n",
      "[2025/04/16 08:37:36] ppocr DEBUG: cls num  : 3, elapsed : 0.004004716873168945\n",
      "[2025/04/16 08:37:36] ppocr DEBUG: rec_res num  : 3, elapsed : 0.06092500686645508\n",
      "\n",
      "0: 480x640 1 license-plat, 16.5ms\n",
      "Speed: 1.2ms preprocess, 16.5ms inference, 0.9ms postprocess per image at shape (1, 3, 480, 640)\n",
      "[2025/04/16 08:37:36] ppocr DEBUG: dt_boxes num : 3, elapsed : 0.009061336517333984\n",
      "[2025/04/16 08:37:36] ppocr DEBUG: cls num  : 3, elapsed : 0.0050048828125\n",
      "[2025/04/16 08:37:36] ppocr DEBUG: rec_res num  : 3, elapsed : 0.06142425537109375\n",
      "\n",
      "0: 480x640 1 license-plat, 9.6ms\n",
      "Speed: 0.9ms preprocess, 9.6ms inference, 1.0ms postprocess per image at shape (1, 3, 480, 640)\n",
      "[2025/04/16 08:37:36] ppocr DEBUG: dt_boxes num : 0, elapsed : 0.062081336975097656\n",
      "[2025/04/16 08:37:36] ppocr DEBUG: cls num  : 0, elapsed : 0\n",
      "[2025/04/16 08:37:36] ppocr DEBUG: rec_res num  : 0, elapsed : 0.0\n",
      "\n",
      "0: 480x640 1 license-plat, 9.3ms\n",
      "Speed: 0.9ms preprocess, 9.3ms inference, 0.9ms postprocess per image at shape (1, 3, 480, 640)\n",
      "[2025/04/16 08:37:36] ppocr DEBUG: dt_boxes num : 0, elapsed : 0.06256461143493652\n",
      "[2025/04/16 08:37:36] ppocr DEBUG: cls num  : 0, elapsed : 0\n",
      "[2025/04/16 08:37:36] ppocr DEBUG: rec_res num  : 0, elapsed : 0.0\n",
      "\n",
      "0: 480x640 (no detections), 24.2ms\n",
      "Speed: 0.9ms preprocess, 24.2ms inference, 0.7ms postprocess per image at shape (1, 3, 480, 640)\n",
      "\n",
      "0: 480x640 1 license-plat, 9.4ms\n",
      "Speed: 1.2ms preprocess, 9.4ms inference, 0.9ms postprocess per image at shape (1, 3, 480, 640)\n",
      "[2025/04/16 08:37:37] ppocr DEBUG: dt_boxes num : 0, elapsed : 0.06219625473022461\n",
      "[2025/04/16 08:37:37] ppocr DEBUG: cls num  : 0, elapsed : 0\n",
      "[2025/04/16 08:37:37] ppocr DEBUG: rec_res num  : 0, elapsed : 0.0\n",
      "\n",
      "0: 480x640 (no detections), 9.8ms\n",
      "Speed: 0.9ms preprocess, 9.8ms inference, 0.4ms postprocess per image at shape (1, 3, 480, 640)\n",
      "\n",
      "0: 480x640 (no detections), 9.1ms\n",
      "Speed: 1.0ms preprocess, 9.1ms inference, 0.4ms postprocess per image at shape (1, 3, 480, 640)\n",
      "\n",
      "0: 480x640 1 license-plat, 9.8ms\n",
      "Speed: 0.8ms preprocess, 9.8ms inference, 0.9ms postprocess per image at shape (1, 3, 480, 640)\n",
      "[2025/04/16 08:37:37] ppocr DEBUG: dt_boxes num : 0, elapsed : 0.07213115692138672\n",
      "[2025/04/16 08:37:37] ppocr DEBUG: cls num  : 0, elapsed : 0\n",
      "[2025/04/16 08:37:37] ppocr DEBUG: rec_res num  : 0, elapsed : 0.0\n",
      "\n",
      "0: 480x640 2 license-plats, 10.2ms\n",
      "Speed: 0.7ms preprocess, 10.2ms inference, 0.9ms postprocess per image at shape (1, 3, 480, 640)\n",
      "[2025/04/16 08:37:37] ppocr DEBUG: dt_boxes num : 0, elapsed : 0.06117653846740723\n",
      "[2025/04/16 08:37:37] ppocr DEBUG: cls num  : 0, elapsed : 0\n",
      "[2025/04/16 08:37:37] ppocr DEBUG: rec_res num  : 0, elapsed : 0.0\n",
      "[2025/04/16 08:37:37] ppocr DEBUG: dt_boxes num : 0, elapsed : 0.026070833206176758\n",
      "[2025/04/16 08:37:37] ppocr DEBUG: cls num  : 0, elapsed : 0\n",
      "[2025/04/16 08:37:37] ppocr DEBUG: rec_res num  : 0, elapsed : 0.0\n",
      "\n",
      "0: 480x640 1 license-plat, 9.6ms\n",
      "Speed: 1.0ms preprocess, 9.6ms inference, 0.9ms postprocess per image at shape (1, 3, 480, 640)\n",
      "[2025/04/16 08:37:37] ppocr DEBUG: dt_boxes num : 0, elapsed : 0.06392049789428711\n",
      "[2025/04/16 08:37:37] ppocr DEBUG: cls num  : 0, elapsed : 0\n",
      "[2025/04/16 08:37:37] ppocr DEBUG: rec_res num  : 0, elapsed : 0.0\n",
      "\n",
      "0: 480x640 1 license-plat, 9.2ms\n",
      "Speed: 0.7ms preprocess, 9.2ms inference, 0.9ms postprocess per image at shape (1, 3, 480, 640)\n",
      "[2025/04/16 08:37:37] ppocr DEBUG: dt_boxes num : 0, elapsed : 0.027070045471191406\n",
      "[2025/04/16 08:37:37] ppocr DEBUG: cls num  : 0, elapsed : 0\n",
      "[2025/04/16 08:37:37] ppocr DEBUG: rec_res num  : 0, elapsed : 0.0\n",
      "\n",
      "0: 480x640 1 license-plat, 9.7ms\n",
      "Speed: 0.7ms preprocess, 9.7ms inference, 1.0ms postprocess per image at shape (1, 3, 480, 640)\n",
      "[2025/04/16 08:37:37] ppocr DEBUG: dt_boxes num : 0, elapsed : 0.02522873878479004\n",
      "[2025/04/16 08:37:37] ppocr DEBUG: cls num  : 0, elapsed : 0\n",
      "[2025/04/16 08:37:37] ppocr DEBUG: rec_res num  : 0, elapsed : 0.0\n",
      "\n",
      "0: 480x640 1 license-plat, 9.5ms\n",
      "Speed: 0.9ms preprocess, 9.5ms inference, 1.1ms postprocess per image at shape (1, 3, 480, 640)\n",
      "[2025/04/16 08:37:37] ppocr DEBUG: dt_boxes num : 0, elapsed : 0.025648117065429688\n",
      "[2025/04/16 08:37:37] ppocr DEBUG: cls num  : 0, elapsed : 0\n",
      "[2025/04/16 08:37:37] ppocr DEBUG: rec_res num  : 0, elapsed : 0.0\n",
      "\n",
      "0: 480x640 (no detections), 9.4ms\n",
      "Speed: 0.7ms preprocess, 9.4ms inference, 0.4ms postprocess per image at shape (1, 3, 480, 640)\n",
      "\n",
      "0: 480x640 (no detections), 9.6ms\n",
      "Speed: 0.8ms preprocess, 9.6ms inference, 0.4ms postprocess per image at shape (1, 3, 480, 640)\n",
      "\n",
      "0: 480x640 (no detections), 9.3ms\n",
      "Speed: 0.8ms preprocess, 9.3ms inference, 0.4ms postprocess per image at shape (1, 3, 480, 640)\n",
      "\n",
      "0: 480x640 (no detections), 9.2ms\n",
      "Speed: 0.8ms preprocess, 9.2ms inference, 0.4ms postprocess per image at shape (1, 3, 480, 640)\n",
      "\n",
      "0: 480x640 (no detections), 10.3ms\n",
      "Speed: 1.1ms preprocess, 10.3ms inference, 0.4ms postprocess per image at shape (1, 3, 480, 640)\n",
      "\n",
      "0: 480x640 (no detections), 9.3ms\n",
      "Speed: 0.8ms preprocess, 9.3ms inference, 0.4ms postprocess per image at shape (1, 3, 480, 640)\n",
      "\n",
      "0: 480x640 1 license-plat, 9.4ms\n",
      "Speed: 0.8ms preprocess, 9.4ms inference, 0.9ms postprocess per image at shape (1, 3, 480, 640)\n",
      "[2025/04/16 08:37:37] ppocr DEBUG: dt_boxes num : 0, elapsed : 0.06344985961914062\n",
      "[2025/04/16 08:37:37] ppocr DEBUG: cls num  : 0, elapsed : 0\n",
      "[2025/04/16 08:37:37] ppocr DEBUG: rec_res num  : 0, elapsed : 0.0\n",
      "\n",
      "0: 480x640 (no detections), 9.6ms\n",
      "Speed: 0.7ms preprocess, 9.6ms inference, 0.4ms postprocess per image at shape (1, 3, 480, 640)\n",
      "\n",
      "0: 480x640 1 license-plat, 12.9ms\n",
      "Speed: 1.1ms preprocess, 12.9ms inference, 1.3ms postprocess per image at shape (1, 3, 480, 640)\n",
      "[2025/04/16 08:37:37] ppocr DEBUG: dt_boxes num : 0, elapsed : 0.023649215698242188\n",
      "[2025/04/16 08:37:37] ppocr DEBUG: cls num  : 0, elapsed : 0\n",
      "[2025/04/16 08:37:37] ppocr DEBUG: rec_res num  : 0, elapsed : 0.0\n",
      "\n",
      "0: 480x640 (no detections), 9.7ms\n",
      "Speed: 0.8ms preprocess, 9.7ms inference, 0.4ms postprocess per image at shape (1, 3, 480, 640)\n",
      "\n",
      "0: 480x640 (no detections), 9.3ms\n",
      "Speed: 0.9ms preprocess, 9.3ms inference, 0.4ms postprocess per image at shape (1, 3, 480, 640)\n",
      "\n",
      "0: 480x640 (no detections), 9.5ms\n",
      "Speed: 0.9ms preprocess, 9.5ms inference, 0.3ms postprocess per image at shape (1, 3, 480, 640)\n",
      "\n",
      "0: 480x640 (no detections), 10.0ms\n",
      "Speed: 0.8ms preprocess, 10.0ms inference, 0.4ms postprocess per image at shape (1, 3, 480, 640)\n",
      "\n",
      "0: 480x640 (no detections), 10.7ms\n",
      "Speed: 1.0ms preprocess, 10.7ms inference, 0.4ms postprocess per image at shape (1, 3, 480, 640)\n",
      "\n",
      "0: 480x640 (no detections), 9.2ms\n",
      "Speed: 0.8ms preprocess, 9.2ms inference, 0.4ms postprocess per image at shape (1, 3, 480, 640)\n",
      "\n",
      "0: 480x640 (no detections), 9.9ms\n",
      "Speed: 0.9ms preprocess, 9.9ms inference, 0.4ms postprocess per image at shape (1, 3, 480, 640)\n",
      "\n",
      "0: 480x640 (no detections), 9.5ms\n",
      "Speed: 0.9ms preprocess, 9.5ms inference, 0.4ms postprocess per image at shape (1, 3, 480, 640)\n",
      "\n",
      "0: 480x640 (no detections), 9.2ms\n",
      "Speed: 0.9ms preprocess, 9.2ms inference, 0.4ms postprocess per image at shape (1, 3, 480, 640)\n",
      "\n",
      "0: 480x640 (no detections), 9.5ms\n",
      "Speed: 0.9ms preprocess, 9.5ms inference, 0.4ms postprocess per image at shape (1, 3, 480, 640)\n",
      "\n",
      "0: 480x640 (no detections), 9.8ms\n",
      "Speed: 0.9ms preprocess, 9.8ms inference, 0.5ms postprocess per image at shape (1, 3, 480, 640)\n",
      "\n",
      "0: 480x640 (no detections), 9.6ms\n",
      "Speed: 1.0ms preprocess, 9.6ms inference, 0.4ms postprocess per image at shape (1, 3, 480, 640)\n",
      "\n",
      "0: 480x640 (no detections), 9.6ms\n",
      "Speed: 1.0ms preprocess, 9.6ms inference, 0.4ms postprocess per image at shape (1, 3, 480, 640)\n",
      "\n",
      "0: 480x640 (no detections), 9.8ms\n",
      "Speed: 0.9ms preprocess, 9.8ms inference, 0.4ms postprocess per image at shape (1, 3, 480, 640)\n",
      "\n",
      "0: 480x640 (no detections), 9.4ms\n",
      "Speed: 0.8ms preprocess, 9.4ms inference, 0.4ms postprocess per image at shape (1, 3, 480, 640)\n",
      "\n",
      "0: 480x640 (no detections), 9.6ms\n",
      "Speed: 0.8ms preprocess, 9.6ms inference, 0.4ms postprocess per image at shape (1, 3, 480, 640)\n",
      "\n",
      "0: 480x640 (no detections), 11.2ms\n",
      "Speed: 0.7ms preprocess, 11.2ms inference, 0.4ms postprocess per image at shape (1, 3, 480, 640)\n",
      "\n",
      "0: 480x640 (no detections), 10.3ms\n",
      "Speed: 0.8ms preprocess, 10.3ms inference, 0.4ms postprocess per image at shape (1, 3, 480, 640)\n",
      "\n",
      "0: 480x640 (no detections), 9.7ms\n",
      "Speed: 0.8ms preprocess, 9.7ms inference, 0.4ms postprocess per image at shape (1, 3, 480, 640)\n",
      "\n",
      "0: 480x640 (no detections), 10.5ms\n",
      "Speed: 0.7ms preprocess, 10.5ms inference, 0.4ms postprocess per image at shape (1, 3, 480, 640)\n",
      "\n",
      "0: 480x640 (no detections), 12.0ms\n",
      "Speed: 0.8ms preprocess, 12.0ms inference, 0.4ms postprocess per image at shape (1, 3, 480, 640)\n",
      "\n",
      "0: 480x640 (no detections), 9.3ms\n",
      "Speed: 0.8ms preprocess, 9.3ms inference, 0.4ms postprocess per image at shape (1, 3, 480, 640)\n",
      "\n",
      "0: 480x640 (no detections), 9.4ms\n",
      "Speed: 0.8ms preprocess, 9.4ms inference, 0.4ms postprocess per image at shape (1, 3, 480, 640)\n",
      "\n",
      "0: 480x640 (no detections), 9.1ms\n",
      "Speed: 0.9ms preprocess, 9.1ms inference, 0.4ms postprocess per image at shape (1, 3, 480, 640)\n",
      "\n",
      "0: 480x640 (no detections), 12.8ms\n",
      "Speed: 0.7ms preprocess, 12.8ms inference, 0.6ms postprocess per image at shape (1, 3, 480, 640)\n",
      "\n",
      "0: 480x640 (no detections), 13.8ms\n",
      "Speed: 0.9ms preprocess, 13.8ms inference, 0.5ms postprocess per image at shape (1, 3, 480, 640)\n",
      "\n",
      "0: 480x640 (no detections), 10.1ms\n",
      "Speed: 0.9ms preprocess, 10.1ms inference, 0.4ms postprocess per image at shape (1, 3, 480, 640)\n",
      "\n",
      "0: 480x640 (no detections), 14.0ms\n",
      "Speed: 0.9ms preprocess, 14.0ms inference, 0.5ms postprocess per image at shape (1, 3, 480, 640)\n",
      "\n",
      "0: 480x640 (no detections), 13.7ms\n",
      "Speed: 1.1ms preprocess, 13.7ms inference, 0.5ms postprocess per image at shape (1, 3, 480, 640)\n",
      "\n",
      "0: 480x640 (no detections), 9.3ms\n",
      "Speed: 0.9ms preprocess, 9.3ms inference, 0.4ms postprocess per image at shape (1, 3, 480, 640)\n",
      "\n",
      "0: 480x640 (no detections), 10.6ms\n",
      "Speed: 0.8ms preprocess, 10.6ms inference, 0.5ms postprocess per image at shape (1, 3, 480, 640)\n",
      "\n",
      "0: 480x640 (no detections), 9.8ms\n",
      "Speed: 0.8ms preprocess, 9.8ms inference, 0.4ms postprocess per image at shape (1, 3, 480, 640)\n",
      "\n",
      "0: 480x640 (no detections), 9.7ms\n",
      "Speed: 0.9ms preprocess, 9.7ms inference, 0.4ms postprocess per image at shape (1, 3, 480, 640)\n",
      "\n",
      "0: 480x640 (no detections), 9.8ms\n",
      "Speed: 0.8ms preprocess, 9.8ms inference, 0.4ms postprocess per image at shape (1, 3, 480, 640)\n",
      "\n",
      "0: 480x640 (no detections), 13.6ms\n",
      "Speed: 1.1ms preprocess, 13.6ms inference, 0.4ms postprocess per image at shape (1, 3, 480, 640)\n",
      "\n",
      "0: 480x640 (no detections), 11.7ms\n",
      "Speed: 0.9ms preprocess, 11.7ms inference, 0.4ms postprocess per image at shape (1, 3, 480, 640)\n",
      "\n",
      "0: 480x640 (no detections), 13.8ms\n",
      "Speed: 0.7ms preprocess, 13.8ms inference, 0.5ms postprocess per image at shape (1, 3, 480, 640)\n",
      "\n",
      "0: 480x640 (no detections), 10.0ms\n",
      "Speed: 1.0ms preprocess, 10.0ms inference, 0.4ms postprocess per image at shape (1, 3, 480, 640)\n",
      "\n",
      "0: 480x640 (no detections), 13.7ms\n",
      "Speed: 0.8ms preprocess, 13.7ms inference, 0.5ms postprocess per image at shape (1, 3, 480, 640)\n",
      "\n",
      "0: 480x640 (no detections), 9.8ms\n",
      "Speed: 0.7ms preprocess, 9.8ms inference, 0.4ms postprocess per image at shape (1, 3, 480, 640)\n",
      "\n",
      "0: 480x640 (no detections), 9.6ms\n",
      "Speed: 1.0ms preprocess, 9.6ms inference, 0.4ms postprocess per image at shape (1, 3, 480, 640)\n",
      "\n",
      "0: 480x640 1 license-plat, 9.6ms\n",
      "Speed: 0.8ms preprocess, 9.6ms inference, 0.9ms postprocess per image at shape (1, 3, 480, 640)\n",
      "[2025/04/16 08:37:39] ppocr DEBUG: dt_boxes num : 0, elapsed : 0.04785799980163574\n",
      "[2025/04/16 08:37:39] ppocr DEBUG: cls num  : 0, elapsed : 0\n",
      "[2025/04/16 08:37:39] ppocr DEBUG: rec_res num  : 0, elapsed : 0.0\n",
      "\n",
      "0: 480x640 1 license-plat, 13.5ms\n",
      "Speed: 1.1ms preprocess, 13.5ms inference, 2.0ms postprocess per image at shape (1, 3, 480, 640)\n",
      "[2025/04/16 08:37:39] ppocr DEBUG: dt_boxes num : 3, elapsed : 0.044706106185913086\n",
      "[2025/04/16 08:37:39] ppocr DEBUG: cls num  : 3, elapsed : 0.00450444221496582\n",
      "[2025/04/16 08:37:39] ppocr DEBUG: rec_res num  : 3, elapsed : 0.09271621704101562\n",
      "\n",
      "0: 480x640 1 license-plat, 11.5ms\n",
      "Speed: 0.8ms preprocess, 11.5ms inference, 1.3ms postprocess per image at shape (1, 3, 480, 640)\n",
      "[2025/04/16 08:37:39] ppocr DEBUG: dt_boxes num : 2, elapsed : 0.013010978698730469\n",
      "[2025/04/16 08:37:39] ppocr DEBUG: cls num  : 2, elapsed : 0.02652454376220703\n",
      "[2025/04/16 08:37:39] ppocr DEBUG: rec_res num  : 2, elapsed : 0.07768988609313965\n",
      "\n",
      "0: 480x640 1 license-plat, 9.7ms\n",
      "Speed: 0.9ms preprocess, 9.7ms inference, 0.9ms postprocess per image at shape (1, 3, 480, 640)\n",
      "[2025/04/16 08:37:39] ppocr DEBUG: dt_boxes num : 2, elapsed : 0.042102813720703125\n",
      "[2025/04/16 08:37:39] ppocr DEBUG: cls num  : 2, elapsed : 0.004074811935424805\n",
      "[2025/04/16 08:37:39] ppocr DEBUG: rec_res num  : 2, elapsed : 0.04560065269470215\n",
      "\n",
      "0: 480x640 1 license-plat, 9.8ms\n",
      "Speed: 1.5ms preprocess, 9.8ms inference, 1.0ms postprocess per image at shape (1, 3, 480, 640)\n",
      "[2025/04/16 08:37:39] ppocr DEBUG: dt_boxes num : 2, elapsed : 0.011604785919189453\n",
      "[2025/04/16 08:37:39] ppocr DEBUG: cls num  : 2, elapsed : 0.004000186920166016\n",
      "[2025/04/16 08:37:39] ppocr DEBUG: rec_res num  : 2, elapsed : 0.04549455642700195\n",
      "\n",
      "0: 480x640 1 license-plat, 9.7ms\n",
      "Speed: 0.8ms preprocess, 9.7ms inference, 0.9ms postprocess per image at shape (1, 3, 480, 640)\n",
      "[2025/04/16 08:37:39] ppocr DEBUG: dt_boxes num : 2, elapsed : 0.012101173400878906\n",
      "[2025/04/16 08:37:39] ppocr DEBUG: cls num  : 2, elapsed : 0.0040013790130615234\n",
      "[2025/04/16 08:37:40] ppocr DEBUG: rec_res num  : 2, elapsed : 0.042550086975097656\n",
      "\n",
      "0: 480x640 1 license-plat, 10.3ms\n",
      "Speed: 0.8ms preprocess, 10.3ms inference, 0.9ms postprocess per image at shape (1, 3, 480, 640)\n",
      "[2025/04/16 08:37:40] ppocr DEBUG: dt_boxes num : 2, elapsed : 0.012293100357055664\n",
      "[2025/04/16 08:37:40] ppocr DEBUG: cls num  : 2, elapsed : 0.0040090084075927734\n",
      "[2025/04/16 08:37:40] ppocr DEBUG: rec_res num  : 2, elapsed : 0.043065786361694336\n",
      "\n",
      "0: 480x640 1 license-plat, 9.7ms\n",
      "Speed: 0.8ms preprocess, 9.7ms inference, 0.9ms postprocess per image at shape (1, 3, 480, 640)\n",
      "[2025/04/16 08:37:40] ppocr DEBUG: dt_boxes num : 2, elapsed : 0.011983633041381836\n",
      "[2025/04/16 08:37:40] ppocr DEBUG: cls num  : 2, elapsed : 0.003999471664428711\n",
      "[2025/04/16 08:37:40] ppocr DEBUG: rec_res num  : 2, elapsed : 0.042868852615356445\n",
      "\n",
      "0: 480x640 1 license-plat, 9.7ms\n",
      "Speed: 0.9ms preprocess, 9.7ms inference, 0.8ms postprocess per image at shape (1, 3, 480, 640)\n",
      "[2025/04/16 08:37:40] ppocr DEBUG: dt_boxes num : 2, elapsed : 0.0114898681640625\n",
      "[2025/04/16 08:37:40] ppocr DEBUG: cls num  : 2, elapsed : 0.004000186920166016\n",
      "[2025/04/16 08:37:40] ppocr DEBUG: rec_res num  : 2, elapsed : 0.043132781982421875\n",
      "\n",
      "0: 480x640 1 license-plat, 9.7ms\n",
      "Speed: 0.8ms preprocess, 9.7ms inference, 0.9ms postprocess per image at shape (1, 3, 480, 640)\n",
      "[2025/04/16 08:37:40] ppocr DEBUG: dt_boxes num : 2, elapsed : 0.03992486000061035\n",
      "[2025/04/16 08:37:40] ppocr DEBUG: cls num  : 2, elapsed : 0.004509925842285156\n",
      "[2025/04/16 08:37:40] ppocr DEBUG: rec_res num  : 2, elapsed : 0.043686628341674805\n",
      "\n",
      "0: 480x640 1 license-plat, 9.5ms\n",
      "Speed: 0.8ms preprocess, 9.5ms inference, 0.9ms postprocess per image at shape (1, 3, 480, 640)\n",
      "[2025/04/16 08:37:40] ppocr DEBUG: dt_boxes num : 2, elapsed : 0.011512041091918945\n",
      "[2025/04/16 08:37:40] ppocr DEBUG: cls num  : 2, elapsed : 0.003505706787109375\n",
      "[2025/04/16 08:37:40] ppocr DEBUG: rec_res num  : 2, elapsed : 0.04249930381774902\n",
      "\n",
      "0: 480x640 1 license-plat, 9.6ms\n",
      "Speed: 0.7ms preprocess, 9.6ms inference, 1.0ms postprocess per image at shape (1, 3, 480, 640)\n",
      "[2025/04/16 08:37:40] ppocr DEBUG: dt_boxes num : 2, elapsed : 0.009737730026245117\n",
      "[2025/04/16 08:37:40] ppocr DEBUG: cls num  : 2, elapsed : 0.006000518798828125\n",
      "[2025/04/16 08:37:40] ppocr DEBUG: rec_res num  : 2, elapsed : 0.04266834259033203\n",
      "\n",
      "0: 480x640 1 license-plat, 9.8ms\n",
      "Speed: 0.8ms preprocess, 9.8ms inference, 0.9ms postprocess per image at shape (1, 3, 480, 640)\n",
      "[2025/04/16 08:37:40] ppocr DEBUG: dt_boxes num : 2, elapsed : 0.010523796081542969\n",
      "[2025/04/16 08:37:40] ppocr DEBUG: cls num  : 2, elapsed : 0.005001068115234375\n",
      "[2025/04/16 08:37:40] ppocr DEBUG: rec_res num  : 2, elapsed : 0.043836355209350586\n",
      "\n",
      "0: 480x640 1 license-plat, 9.7ms\n",
      "Speed: 0.7ms preprocess, 9.7ms inference, 1.1ms postprocess per image at shape (1, 3, 480, 640)\n",
      "[2025/04/16 08:37:40] ppocr DEBUG: dt_boxes num : 2, elapsed : 0.009508848190307617\n",
      "[2025/04/16 08:37:40] ppocr DEBUG: cls num  : 2, elapsed : 0.004560708999633789\n",
      "[2025/04/16 08:37:40] ppocr DEBUG: rec_res num  : 2, elapsed : 0.04254341125488281\n",
      "\n",
      "0: 480x640 1 license-plat, 9.5ms\n",
      "Speed: 0.7ms preprocess, 9.5ms inference, 0.9ms postprocess per image at shape (1, 3, 480, 640)\n",
      "[2025/04/16 08:37:40] ppocr DEBUG: dt_boxes num : 2, elapsed : 0.011041402816772461\n",
      "[2025/04/16 08:37:40] ppocr DEBUG: cls num  : 2, elapsed : 0.0049974918365478516\n",
      "[2025/04/16 08:37:40] ppocr DEBUG: rec_res num  : 2, elapsed : 0.04386758804321289\n",
      "\n",
      "0: 480x640 1 license-plat, 9.9ms\n",
      "Speed: 0.8ms preprocess, 9.9ms inference, 0.9ms postprocess per image at shape (1, 3, 480, 640)\n",
      "[2025/04/16 08:37:40] ppocr DEBUG: dt_boxes num : 2, elapsed : 0.013241291046142578\n",
      "[2025/04/16 08:37:40] ppocr DEBUG: cls num  : 2, elapsed : 0.006078481674194336\n",
      "[2025/04/16 08:37:40] ppocr DEBUG: rec_res num  : 2, elapsed : 0.04515266418457031\n",
      "\n",
      "0: 480x640 1 license-plat, 10.0ms\n",
      "Speed: 0.8ms preprocess, 10.0ms inference, 0.9ms postprocess per image at shape (1, 3, 480, 640)\n",
      "[2025/04/16 08:37:40] ppocr DEBUG: dt_boxes num : 2, elapsed : 0.009716510772705078\n",
      "[2025/04/16 08:37:40] ppocr DEBUG: cls num  : 2, elapsed : 0.003998994827270508\n",
      "[2025/04/16 08:37:41] ppocr DEBUG: rec_res num  : 2, elapsed : 0.04356789588928223\n",
      "\n",
      "0: 480x640 1 license-plat, 9.7ms\n",
      "Speed: 0.8ms preprocess, 9.7ms inference, 0.9ms postprocess per image at shape (1, 3, 480, 640)\n",
      "[2025/04/16 08:37:41] ppocr DEBUG: dt_boxes num : 2, elapsed : 0.01228189468383789\n",
      "[2025/04/16 08:37:41] ppocr DEBUG: cls num  : 2, elapsed : 0.004317522048950195\n",
      "[2025/04/16 08:37:41] ppocr DEBUG: rec_res num  : 2, elapsed : 0.0429537296295166\n",
      "\n",
      "0: 480x640 (no detections), 9.5ms\n",
      "Speed: 0.8ms preprocess, 9.5ms inference, 0.4ms postprocess per image at shape (1, 3, 480, 640)\n",
      "\n",
      "0: 480x640 (no detections), 10.0ms\n",
      "Speed: 1.7ms preprocess, 10.0ms inference, 0.4ms postprocess per image at shape (1, 3, 480, 640)\n",
      "\n",
      "0: 480x640 1 license-plat, 9.5ms\n",
      "Speed: 0.9ms preprocess, 9.5ms inference, 0.9ms postprocess per image at shape (1, 3, 480, 640)\n",
      "[2025/04/16 08:37:41] ppocr DEBUG: dt_boxes num : 0, elapsed : 0.05764436721801758\n",
      "[2025/04/16 08:37:41] ppocr DEBUG: cls num  : 0, elapsed : 0\n",
      "[2025/04/16 08:37:41] ppocr DEBUG: rec_res num  : 0, elapsed : 0.0\n",
      "\n",
      "0: 480x640 1 license-plat, 9.4ms\n",
      "Speed: 1.1ms preprocess, 9.4ms inference, 0.9ms postprocess per image at shape (1, 3, 480, 640)\n",
      "[2025/04/16 08:37:41] ppocr DEBUG: dt_boxes num : 1, elapsed : 0.05725359916687012\n",
      "[2025/04/16 08:37:41] ppocr DEBUG: cls num  : 1, elapsed : 0.022893667221069336\n",
      "[2025/04/16 08:37:41] ppocr DEBUG: rec_res num  : 1, elapsed : 0.07188153266906738\n",
      "\n",
      "0: 480x640 1 license-plat, 9.6ms\n",
      "Speed: 0.9ms preprocess, 9.6ms inference, 0.9ms postprocess per image at shape (1, 3, 480, 640)\n",
      "[2025/04/16 08:37:41] ppocr DEBUG: dt_boxes num : 0, elapsed : 0.06251358985900879\n",
      "[2025/04/16 08:37:41] ppocr DEBUG: cls num  : 0, elapsed : 0\n",
      "[2025/04/16 08:37:41] ppocr DEBUG: rec_res num  : 0, elapsed : 0.0\n",
      "\n",
      "0: 480x640 1 license-plat, 11.3ms\n",
      "Speed: 0.9ms preprocess, 11.3ms inference, 1.2ms postprocess per image at shape (1, 3, 480, 640)\n",
      "[2025/04/16 08:37:41] ppocr DEBUG: dt_boxes num : 0, elapsed : 0.0623326301574707\n",
      "[2025/04/16 08:37:41] ppocr DEBUG: cls num  : 0, elapsed : 0\n",
      "[2025/04/16 08:37:41] ppocr DEBUG: rec_res num  : 0, elapsed : 0.0\n",
      "\n",
      "0: 480x640 1 license-plat, 9.2ms\n",
      "Speed: 0.8ms preprocess, 9.2ms inference, 0.9ms postprocess per image at shape (1, 3, 480, 640)\n",
      "[2025/04/16 08:37:41] ppocr DEBUG: dt_boxes num : 0, elapsed : 0.055202484130859375\n",
      "[2025/04/16 08:37:41] ppocr DEBUG: cls num  : 0, elapsed : 0\n",
      "[2025/04/16 08:37:41] ppocr DEBUG: rec_res num  : 0, elapsed : 0.0\n",
      "\n",
      "0: 480x640 1 license-plat, 9.6ms\n",
      "Speed: 0.7ms preprocess, 9.6ms inference, 0.9ms postprocess per image at shape (1, 3, 480, 640)\n",
      "[2025/04/16 08:37:41] ppocr DEBUG: dt_boxes num : 0, elapsed : 0.024066448211669922\n",
      "[2025/04/16 08:37:41] ppocr DEBUG: cls num  : 0, elapsed : 0\n",
      "[2025/04/16 08:37:41] ppocr DEBUG: rec_res num  : 0, elapsed : 0.0\n",
      "\n",
      "0: 480x640 1 license-plat, 9.9ms\n",
      "Speed: 0.7ms preprocess, 9.9ms inference, 0.9ms postprocess per image at shape (1, 3, 480, 640)\n",
      "[2025/04/16 08:37:41] ppocr DEBUG: dt_boxes num : 0, elapsed : 0.05287742614746094\n",
      "[2025/04/16 08:37:41] ppocr DEBUG: cls num  : 0, elapsed : 0\n",
      "[2025/04/16 08:37:41] ppocr DEBUG: rec_res num  : 0, elapsed : 0.0\n",
      "\n",
      "0: 480x640 (no detections), 9.7ms\n",
      "Speed: 0.8ms preprocess, 9.7ms inference, 0.3ms postprocess per image at shape (1, 3, 480, 640)\n",
      "\n",
      "0: 480x640 (no detections), 10.1ms\n",
      "Speed: 0.9ms preprocess, 10.1ms inference, 0.4ms postprocess per image at shape (1, 3, 480, 640)\n",
      "\n",
      "0: 480x640 (no detections), 9.6ms\n",
      "Speed: 0.9ms preprocess, 9.6ms inference, 0.5ms postprocess per image at shape (1, 3, 480, 640)\n",
      "\n",
      "0: 480x640 1 license-plat, 9.6ms\n",
      "Speed: 0.8ms preprocess, 9.6ms inference, 0.9ms postprocess per image at shape (1, 3, 480, 640)\n",
      "[2025/04/16 08:37:42] ppocr DEBUG: dt_boxes num : 0, elapsed : 0.06780338287353516\n",
      "[2025/04/16 08:37:42] ppocr DEBUG: cls num  : 0, elapsed : 0\n",
      "[2025/04/16 08:37:42] ppocr DEBUG: rec_res num  : 0, elapsed : 0.0\n",
      "\n",
      "0: 480x640 (no detections), 10.6ms\n",
      "Speed: 0.8ms preprocess, 10.6ms inference, 0.5ms postprocess per image at shape (1, 3, 480, 640)\n",
      "\n",
      "0: 480x640 (no detections), 9.5ms\n",
      "Speed: 0.9ms preprocess, 9.5ms inference, 0.3ms postprocess per image at shape (1, 3, 480, 640)\n",
      "\n",
      "0: 480x640 (no detections), 9.4ms\n",
      "Speed: 0.9ms preprocess, 9.4ms inference, 0.4ms postprocess per image at shape (1, 3, 480, 640)\n",
      "\n",
      "0: 480x640 (no detections), 11.8ms\n",
      "Speed: 1.1ms preprocess, 11.8ms inference, 0.4ms postprocess per image at shape (1, 3, 480, 640)\n",
      "\n",
      "0: 480x640 (no detections), 9.2ms\n",
      "Speed: 0.7ms preprocess, 9.2ms inference, 0.4ms postprocess per image at shape (1, 3, 480, 640)\n",
      "\n",
      "0: 480x640 (no detections), 9.8ms\n",
      "Speed: 0.9ms preprocess, 9.8ms inference, 0.4ms postprocess per image at shape (1, 3, 480, 640)\n",
      "\n",
      "0: 480x640 (no detections), 10.8ms\n",
      "Speed: 0.8ms preprocess, 10.8ms inference, 0.4ms postprocess per image at shape (1, 3, 480, 640)\n",
      "\n",
      "0: 480x640 (no detections), 9.3ms\n",
      "Speed: 0.7ms preprocess, 9.3ms inference, 0.4ms postprocess per image at shape (1, 3, 480, 640)\n",
      "\n",
      "0: 480x640 (no detections), 9.4ms\n",
      "Speed: 0.8ms preprocess, 9.4ms inference, 0.4ms postprocess per image at shape (1, 3, 480, 640)\n",
      "\n",
      "0: 480x640 (no detections), 9.7ms\n",
      "Speed: 0.7ms preprocess, 9.7ms inference, 0.4ms postprocess per image at shape (1, 3, 480, 640)\n",
      "\n",
      "0: 480x640 (no detections), 14.1ms\n",
      "Speed: 1.3ms preprocess, 14.1ms inference, 0.5ms postprocess per image at shape (1, 3, 480, 640)\n",
      "\n",
      "0: 480x640 (no detections), 9.7ms\n",
      "Speed: 0.8ms preprocess, 9.7ms inference, 0.4ms postprocess per image at shape (1, 3, 480, 640)\n",
      "\n",
      "0: 480x640 (no detections), 9.5ms\n",
      "Speed: 0.7ms preprocess, 9.5ms inference, 0.4ms postprocess per image at shape (1, 3, 480, 640)\n",
      "\n",
      "0: 480x640 (no detections), 14.0ms\n",
      "Speed: 1.0ms preprocess, 14.0ms inference, 0.5ms postprocess per image at shape (1, 3, 480, 640)\n",
      "\n",
      "0: 480x640 (no detections), 9.8ms\n",
      "Speed: 0.8ms preprocess, 9.8ms inference, 0.4ms postprocess per image at shape (1, 3, 480, 640)\n",
      "\n",
      "0: 480x640 (no detections), 11.1ms\n",
      "Speed: 0.9ms preprocess, 11.1ms inference, 0.4ms postprocess per image at shape (1, 3, 480, 640)\n",
      "\n",
      "0: 480x640 (no detections), 9.7ms\n",
      "Speed: 0.8ms preprocess, 9.7ms inference, 0.4ms postprocess per image at shape (1, 3, 480, 640)\n",
      "\n",
      "0: 480x640 (no detections), 9.5ms\n",
      "Speed: 1.0ms preprocess, 9.5ms inference, 0.4ms postprocess per image at shape (1, 3, 480, 640)\n",
      "\n",
      "0: 480x640 (no detections), 9.4ms\n",
      "Speed: 1.0ms preprocess, 9.4ms inference, 0.4ms postprocess per image at shape (1, 3, 480, 640)\n",
      "\n",
      "0: 480x640 (no detections), 9.9ms\n",
      "Speed: 0.8ms preprocess, 9.9ms inference, 0.4ms postprocess per image at shape (1, 3, 480, 640)\n",
      "\n",
      "0: 480x640 1 license-plat, 9.5ms\n",
      "Speed: 0.9ms preprocess, 9.5ms inference, 0.9ms postprocess per image at shape (1, 3, 480, 640)\n",
      "[2025/04/16 08:37:42] ppocr DEBUG: dt_boxes num : 0, elapsed : 0.06838822364807129\n",
      "[2025/04/16 08:37:42] ppocr DEBUG: cls num  : 0, elapsed : 0\n",
      "[2025/04/16 08:37:42] ppocr DEBUG: rec_res num  : 0, elapsed : 0.0\n",
      "\n",
      "0: 480x640 1 license-plat, 11.2ms\n",
      "Speed: 1.2ms preprocess, 11.2ms inference, 1.3ms postprocess per image at shape (1, 3, 480, 640)\n",
      "[2025/04/16 08:37:42] ppocr DEBUG: dt_boxes num : 0, elapsed : 0.07251596450805664\n",
      "[2025/04/16 08:37:42] ppocr DEBUG: cls num  : 0, elapsed : 0\n",
      "[2025/04/16 08:37:42] ppocr DEBUG: rec_res num  : 0, elapsed : 0.0\n",
      "\n",
      "0: 480x640 (no detections), 9.7ms\n",
      "Speed: 0.9ms preprocess, 9.7ms inference, 0.4ms postprocess per image at shape (1, 3, 480, 640)\n",
      "\n",
      "0: 480x640 (no detections), 9.9ms\n",
      "Speed: 0.9ms preprocess, 9.9ms inference, 0.4ms postprocess per image at shape (1, 3, 480, 640)\n",
      "\n",
      "0: 480x640 (no detections), 9.4ms\n",
      "Speed: 0.9ms preprocess, 9.4ms inference, 0.4ms postprocess per image at shape (1, 3, 480, 640)\n",
      "\n",
      "0: 480x640 (no detections), 9.7ms\n",
      "Speed: 0.8ms preprocess, 9.7ms inference, 0.4ms postprocess per image at shape (1, 3, 480, 640)\n",
      "\n",
      "0: 480x640 (no detections), 9.7ms\n",
      "Speed: 0.7ms preprocess, 9.7ms inference, 0.4ms postprocess per image at shape (1, 3, 480, 640)\n",
      "\n",
      "0: 480x640 (no detections), 9.3ms\n",
      "Speed: 0.9ms preprocess, 9.3ms inference, 0.5ms postprocess per image at shape (1, 3, 480, 640)\n",
      "\n",
      "0: 480x640 (no detections), 10.3ms\n",
      "Speed: 0.9ms preprocess, 10.3ms inference, 0.4ms postprocess per image at shape (1, 3, 480, 640)\n",
      "\n",
      "0: 480x640 (no detections), 13.9ms\n",
      "Speed: 0.9ms preprocess, 13.9ms inference, 0.5ms postprocess per image at shape (1, 3, 480, 640)\n",
      "\n",
      "0: 480x640 (no detections), 9.5ms\n",
      "Speed: 0.9ms preprocess, 9.5ms inference, 0.4ms postprocess per image at shape (1, 3, 480, 640)\n",
      "\n",
      "0: 480x640 (no detections), 9.7ms\n",
      "Speed: 0.9ms preprocess, 9.7ms inference, 0.4ms postprocess per image at shape (1, 3, 480, 640)\n",
      "\n",
      "0: 480x640 (no detections), 10.8ms\n",
      "Speed: 1.2ms preprocess, 10.8ms inference, 0.5ms postprocess per image at shape (1, 3, 480, 640)\n",
      "\n",
      "0: 480x640 (no detections), 9.5ms\n",
      "Speed: 0.9ms preprocess, 9.5ms inference, 0.4ms postprocess per image at shape (1, 3, 480, 640)\n",
      "\n",
      "0: 480x640 (no detections), 11.6ms\n",
      "Speed: 0.9ms preprocess, 11.6ms inference, 0.4ms postprocess per image at shape (1, 3, 480, 640)\n",
      "\n",
      "0: 480x640 (no detections), 12.4ms\n",
      "Speed: 1.1ms preprocess, 12.4ms inference, 0.5ms postprocess per image at shape (1, 3, 480, 640)\n",
      "\n",
      "0: 480x640 (no detections), 10.0ms\n",
      "Speed: 0.9ms preprocess, 10.0ms inference, 0.4ms postprocess per image at shape (1, 3, 480, 640)\n",
      "\n",
      "0: 480x640 (no detections), 9.6ms\n",
      "Speed: 0.8ms preprocess, 9.6ms inference, 0.4ms postprocess per image at shape (1, 3, 480, 640)\n",
      "\n",
      "0: 480x640 (no detections), 10.0ms\n",
      "Speed: 0.9ms preprocess, 10.0ms inference, 0.4ms postprocess per image at shape (1, 3, 480, 640)\n",
      "\n",
      "0: 480x640 (no detections), 9.5ms\n",
      "Speed: 0.9ms preprocess, 9.5ms inference, 0.4ms postprocess per image at shape (1, 3, 480, 640)\n",
      "\n",
      "0: 480x640 (no detections), 10.1ms\n",
      "Speed: 0.8ms preprocess, 10.1ms inference, 0.4ms postprocess per image at shape (1, 3, 480, 640)\n",
      "\n",
      "0: 480x640 (no detections), 13.1ms\n",
      "Speed: 1.0ms preprocess, 13.1ms inference, 0.6ms postprocess per image at shape (1, 3, 480, 640)\n",
      "\n",
      "0: 480x640 (no detections), 12.5ms\n",
      "Speed: 0.8ms preprocess, 12.5ms inference, 0.4ms postprocess per image at shape (1, 3, 480, 640)\n",
      "\n",
      "0: 480x640 (no detections), 10.2ms\n",
      "Speed: 1.0ms preprocess, 10.2ms inference, 0.4ms postprocess per image at shape (1, 3, 480, 640)\n",
      "\n",
      "0: 480x640 (no detections), 9.7ms\n",
      "Speed: 1.0ms preprocess, 9.7ms inference, 0.4ms postprocess per image at shape (1, 3, 480, 640)\n",
      "\n",
      "0: 480x640 (no detections), 9.3ms\n",
      "Speed: 0.9ms preprocess, 9.3ms inference, 0.4ms postprocess per image at shape (1, 3, 480, 640)\n",
      "\n",
      "0: 480x640 (no detections), 9.8ms\n",
      "Speed: 0.9ms preprocess, 9.8ms inference, 0.4ms postprocess per image at shape (1, 3, 480, 640)\n",
      "\n",
      "0: 480x640 (no detections), 9.8ms\n",
      "Speed: 0.7ms preprocess, 9.8ms inference, 0.4ms postprocess per image at shape (1, 3, 480, 640)\n",
      "\n",
      "0: 480x640 (no detections), 9.4ms\n",
      "Speed: 0.9ms preprocess, 9.4ms inference, 0.4ms postprocess per image at shape (1, 3, 480, 640)\n",
      "\n",
      "0: 480x640 (no detections), 9.7ms\n",
      "Speed: 1.0ms preprocess, 9.7ms inference, 0.5ms postprocess per image at shape (1, 3, 480, 640)\n",
      "\n",
      "0: 480x640 (no detections), 10.4ms\n",
      "Speed: 0.9ms preprocess, 10.4ms inference, 0.4ms postprocess per image at shape (1, 3, 480, 640)\n",
      "\n",
      "0: 480x640 (no detections), 9.5ms\n",
      "Speed: 0.8ms preprocess, 9.5ms inference, 0.4ms postprocess per image at shape (1, 3, 480, 640)\n",
      "\n",
      "0: 480x640 (no detections), 10.4ms\n",
      "Speed: 0.9ms preprocess, 10.4ms inference, 0.4ms postprocess per image at shape (1, 3, 480, 640)\n",
      "\n",
      "0: 480x640 (no detections), 21.9ms\n",
      "Speed: 0.9ms preprocess, 21.9ms inference, 0.5ms postprocess per image at shape (1, 3, 480, 640)\n",
      "\n",
      "0: 480x640 (no detections), 10.4ms\n",
      "Speed: 1.0ms preprocess, 10.4ms inference, 0.4ms postprocess per image at shape (1, 3, 480, 640)\n",
      "\n",
      "0: 480x640 (no detections), 10.1ms\n",
      "Speed: 1.0ms preprocess, 10.1ms inference, 0.4ms postprocess per image at shape (1, 3, 480, 640)\n",
      "\n",
      "0: 480x640 (no detections), 10.0ms\n",
      "Speed: 1.0ms preprocess, 10.0ms inference, 0.6ms postprocess per image at shape (1, 3, 480, 640)\n",
      "\n",
      "0: 480x640 (no detections), 9.6ms\n",
      "Speed: 0.8ms preprocess, 9.6ms inference, 0.4ms postprocess per image at shape (1, 3, 480, 640)\n",
      "\n",
      "0: 480x640 (no detections), 10.2ms\n",
      "Speed: 0.8ms preprocess, 10.2ms inference, 0.4ms postprocess per image at shape (1, 3, 480, 640)\n",
      "\n",
      "0: 480x640 (no detections), 9.8ms\n",
      "Speed: 0.9ms preprocess, 9.8ms inference, 0.4ms postprocess per image at shape (1, 3, 480, 640)\n",
      "\n",
      "0: 480x640 (no detections), 10.6ms\n",
      "Speed: 0.9ms preprocess, 10.6ms inference, 0.4ms postprocess per image at shape (1, 3, 480, 640)\n",
      "\n",
      "0: 480x640 (no detections), 9.5ms\n",
      "Speed: 0.8ms preprocess, 9.5ms inference, 0.4ms postprocess per image at shape (1, 3, 480, 640)\n",
      "\n",
      "0: 480x640 (no detections), 9.7ms\n",
      "Speed: 0.9ms preprocess, 9.7ms inference, 0.4ms postprocess per image at shape (1, 3, 480, 640)\n",
      "\n",
      "0: 480x640 (no detections), 9.7ms\n",
      "Speed: 0.7ms preprocess, 9.7ms inference, 0.4ms postprocess per image at shape (1, 3, 480, 640)\n",
      "\n",
      "0: 480x640 (no detections), 12.0ms\n",
      "Speed: 1.1ms preprocess, 12.0ms inference, 0.5ms postprocess per image at shape (1, 3, 480, 640)\n",
      "\n",
      "0: 480x640 (no detections), 9.7ms\n",
      "Speed: 1.0ms preprocess, 9.7ms inference, 0.4ms postprocess per image at shape (1, 3, 480, 640)\n",
      "\n",
      "0: 480x640 (no detections), 9.8ms\n",
      "Speed: 0.7ms preprocess, 9.8ms inference, 0.4ms postprocess per image at shape (1, 3, 480, 640)\n",
      "\n",
      "0: 480x640 (no detections), 10.2ms\n",
      "Speed: 1.2ms preprocess, 10.2ms inference, 0.4ms postprocess per image at shape (1, 3, 480, 640)\n",
      "\n",
      "0: 480x640 (no detections), 11.2ms\n",
      "Speed: 0.9ms preprocess, 11.2ms inference, 0.4ms postprocess per image at shape (1, 3, 480, 640)\n",
      "\n",
      "0: 480x640 (no detections), 9.8ms\n",
      "Speed: 0.9ms preprocess, 9.8ms inference, 0.4ms postprocess per image at shape (1, 3, 480, 640)\n",
      "\n",
      "0: 480x640 (no detections), 10.1ms\n",
      "Speed: 1.0ms preprocess, 10.1ms inference, 0.4ms postprocess per image at shape (1, 3, 480, 640)\n",
      "\n",
      "0: 480x640 (no detections), 9.7ms\n",
      "Speed: 0.9ms preprocess, 9.7ms inference, 0.4ms postprocess per image at shape (1, 3, 480, 640)\n",
      "\n",
      "0: 480x640 (no detections), 9.5ms\n",
      "Speed: 0.8ms preprocess, 9.5ms inference, 0.4ms postprocess per image at shape (1, 3, 480, 640)\n",
      "\n",
      "0: 480x640 (no detections), 9.5ms\n",
      "Speed: 0.9ms preprocess, 9.5ms inference, 0.4ms postprocess per image at shape (1, 3, 480, 640)\n",
      "\n",
      "0: 480x640 (no detections), 9.7ms\n",
      "Speed: 0.9ms preprocess, 9.7ms inference, 0.4ms postprocess per image at shape (1, 3, 480, 640)\n",
      "\n",
      "0: 480x640 (no detections), 10.1ms\n",
      "Speed: 0.9ms preprocess, 10.1ms inference, 0.4ms postprocess per image at shape (1, 3, 480, 640)\n",
      "\n",
      "0: 480x640 (no detections), 9.5ms\n",
      "Speed: 1.0ms preprocess, 9.5ms inference, 0.4ms postprocess per image at shape (1, 3, 480, 640)\n",
      "\n",
      "0: 480x640 (no detections), 9.6ms\n",
      "Speed: 0.9ms preprocess, 9.6ms inference, 0.4ms postprocess per image at shape (1, 3, 480, 640)\n",
      "\n",
      "0: 480x640 (no detections), 9.3ms\n",
      "Speed: 0.9ms preprocess, 9.3ms inference, 0.4ms postprocess per image at shape (1, 3, 480, 640)\n",
      "\n",
      "0: 480x640 (no detections), 10.1ms\n",
      "Speed: 0.8ms preprocess, 10.1ms inference, 0.4ms postprocess per image at shape (1, 3, 480, 640)\n",
      "\n",
      "0: 480x640 (no detections), 10.1ms\n",
      "Speed: 0.9ms preprocess, 10.1ms inference, 0.4ms postprocess per image at shape (1, 3, 480, 640)\n",
      "\n",
      "0: 480x640 (no detections), 9.4ms\n",
      "Speed: 1.0ms preprocess, 9.4ms inference, 0.4ms postprocess per image at shape (1, 3, 480, 640)\n",
      "\n",
      "0: 480x640 (no detections), 9.5ms\n",
      "Speed: 1.0ms preprocess, 9.5ms inference, 0.4ms postprocess per image at shape (1, 3, 480, 640)\n",
      "\n",
      "0: 480x640 (no detections), 9.8ms\n",
      "Speed: 0.9ms preprocess, 9.8ms inference, 0.4ms postprocess per image at shape (1, 3, 480, 640)\n",
      "\n",
      "0: 480x640 (no detections), 9.7ms\n",
      "Speed: 0.9ms preprocess, 9.7ms inference, 0.4ms postprocess per image at shape (1, 3, 480, 640)\n",
      "\n",
      "0: 480x640 (no detections), 10.0ms\n",
      "Speed: 0.9ms preprocess, 10.0ms inference, 0.4ms postprocess per image at shape (1, 3, 480, 640)\n",
      "\n",
      "0: 480x640 (no detections), 11.5ms\n",
      "Speed: 1.1ms preprocess, 11.5ms inference, 0.4ms postprocess per image at shape (1, 3, 480, 640)\n",
      "\n",
      "0: 480x640 (no detections), 10.3ms\n",
      "Speed: 0.7ms preprocess, 10.3ms inference, 0.4ms postprocess per image at shape (1, 3, 480, 640)\n",
      "\n",
      "0: 480x640 (no detections), 9.9ms\n",
      "Speed: 0.9ms preprocess, 9.9ms inference, 0.4ms postprocess per image at shape (1, 3, 480, 640)\n",
      "\n",
      "0: 480x640 (no detections), 11.4ms\n",
      "Speed: 0.9ms preprocess, 11.4ms inference, 0.7ms postprocess per image at shape (1, 3, 480, 640)\n",
      "\n",
      "0: 480x640 (no detections), 9.5ms\n",
      "Speed: 0.8ms preprocess, 9.5ms inference, 0.4ms postprocess per image at shape (1, 3, 480, 640)\n",
      "\n",
      "0: 480x640 (no detections), 11.6ms\n",
      "Speed: 0.9ms preprocess, 11.6ms inference, 0.4ms postprocess per image at shape (1, 3, 480, 640)\n",
      "\n",
      "0: 480x640 (no detections), 15.4ms\n",
      "Speed: 1.1ms preprocess, 15.4ms inference, 0.5ms postprocess per image at shape (1, 3, 480, 640)\n",
      "\n",
      "0: 480x640 (no detections), 9.5ms\n",
      "Speed: 0.7ms preprocess, 9.5ms inference, 0.4ms postprocess per image at shape (1, 3, 480, 640)\n",
      "\n",
      "0: 480x640 (no detections), 10.0ms\n",
      "Speed: 0.9ms preprocess, 10.0ms inference, 0.4ms postprocess per image at shape (1, 3, 480, 640)\n",
      "\n",
      "0: 480x640 (no detections), 10.6ms\n",
      "Speed: 0.8ms preprocess, 10.6ms inference, 0.4ms postprocess per image at shape (1, 3, 480, 640)\n",
      "\n",
      "0: 480x640 (no detections), 10.1ms\n",
      "Speed: 0.9ms preprocess, 10.1ms inference, 0.4ms postprocess per image at shape (1, 3, 480, 640)\n",
      "\n",
      "0: 480x640 (no detections), 9.9ms\n",
      "Speed: 0.9ms preprocess, 9.9ms inference, 0.4ms postprocess per image at shape (1, 3, 480, 640)\n",
      "\n",
      "0: 480x640 (no detections), 10.2ms\n",
      "Speed: 0.8ms preprocess, 10.2ms inference, 0.4ms postprocess per image at shape (1, 3, 480, 640)\n",
      "\n",
      "0: 480x640 (no detections), 9.7ms\n",
      "Speed: 0.9ms preprocess, 9.7ms inference, 0.4ms postprocess per image at shape (1, 3, 480, 640)\n",
      "\n",
      "0: 480x640 (no detections), 9.9ms\n",
      "Speed: 0.9ms preprocess, 9.9ms inference, 0.5ms postprocess per image at shape (1, 3, 480, 640)\n",
      "\n",
      "0: 480x640 (no detections), 10.2ms\n",
      "Speed: 0.8ms preprocess, 10.2ms inference, 0.4ms postprocess per image at shape (1, 3, 480, 640)\n"
     ]
    }
   ],
   "source": [
    "cap = cv2.VideoCapture(0)\n",
    "\n",
    "last_filtered_text = \"\"\n",
    "\n",
    "while True:\n",
    "    ret, frame = cap.read()\n",
    "    if not ret:\n",
    "        break\n",
    "\n",
    "    results = model(frame)\n",
    "\n",
    "    for r in results:\n",
    "        for box in r.boxes:\n",
    "            x1, y1, x2, y2 = map(int, box.xyxy[0])\n",
    "            plate_img = frame[y1:y2, x1:x2]\n",
    "\n",
    "            ocr_result = ocr.ocr(plate_img, cls=True)\n",
    "            raw_text = \"\"\n",
    "\n",
    "            if isinstance(ocr_result, list) and len(ocr_result) > 0:\n",
    "                first_result = ocr_result[0]\n",
    "                if isinstance(first_result, list) and len(first_result) > 0:\n",
    "                    raw_text = first_result[0][1][0].strip()\n",
    "\n",
    "            cv2.rectangle(frame, (x1, y1), (x2, y2), (0, 255, 0), 2)\n",
    "            if raw_text:\n",
    "                cv2.putText(frame, raw_text, (x1, y1 - 10),\n",
    "                            cv2.FONT_HERSHEY_SIMPLEX, 0.7, (0, 255, 255), 2)\n",
    "\n",
    "                normalized = normalize_plate(raw_text)\n",
    "                if normalized:\n",
    "                    last_filtered_text = normalized\n",
    "\n",
    "    if last_filtered_text:\n",
    "        cv2.putText(frame, f\"Filtered: {last_filtered_text}\",\n",
    "                    (10, frame.shape[0] - 10), cv2.FONT_HERSHEY_SIMPLEX,\n",
    "                    0.7, (0, 255, 0), 2)\n",
    "\n",
    "    cv2.imshow(\"YOLOv12 + OCR\", frame)\n",
    "    if cv2.waitKey(1) & 0xFF == ord('q'):\n",
    "        break\n",
    "\n",
    "cap.release()\n",
    "cv2.destroyAllWindows()"
   ]
  },
  {
   "cell_type": "code",
   "execution_count": null,
   "id": "d6804d68",
   "metadata": {},
   "outputs": [],
   "source": []
  }
 ],
 "metadata": {
  "kernelspec": {
   "display_name": "anpr",
   "language": "python",
   "name": "python3"
  },
  "language_info": {
   "codemirror_mode": {
    "name": "ipython",
    "version": 3
   },
   "file_extension": ".py",
   "mimetype": "text/x-python",
   "name": "python",
   "nbconvert_exporter": "python",
   "pygments_lexer": "ipython3",
   "version": "3.9.21"
  }
 },
 "nbformat": 4,
 "nbformat_minor": 5
}
